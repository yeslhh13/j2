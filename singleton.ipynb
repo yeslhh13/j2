{
 "cells": [
  {
   "cell_type": "code",
   "execution_count": 2,
   "metadata": {
    "collapsed": false
   },
   "outputs": [
    {
     "name": "stdout",
     "output_type": "stream",
     "text": [
      "Installed plantuml_magics.py. To use it, type:\n",
      "  %load_ext plantuml_magics\n"
     ]
    }
   ],
   "source": [
    "%install_ext https://raw.githubusercontent.com/sberke/ipython-plantuml/master/plantuml_magics.py"
   ]
  },
  {
   "cell_type": "code",
   "execution_count": 3,
   "metadata": {
    "collapsed": true
   },
   "outputs": [],
   "source": [
    "%load_ext plantuml_magics"
   ]
  },
  {
   "cell_type": "code",
   "execution_count": 4,
   "metadata": {
    "collapsed": false
   },
   "outputs": [
    {
     "data": {
      "text/plain": [
       "['.\\\\plantuml.jar']"
      ]
     },
     "execution_count": 4,
     "metadata": {},
     "output_type": "execute_result"
    }
   ],
   "source": [
    "import glob\n",
    "glob.glob(r'./*.jar')"
   ]
  },
  {
   "cell_type": "code",
   "execution_count": 6,
   "metadata": {
    "collapsed": false
   },
   "outputs": [
    {
     "data": {
      "image/svg+xml": [
       "<svg height=\"110px\" style=\"width:181px;height:110px;\" version=\"1.1\" viewBox=\"0 0 181 110\" width=\"181px\" xmlns=\"http://www.w3.org/2000/svg\" xmlns:xlink=\"http://www.w3.org/1999/xlink\"><defs><filter height=\"300%\" id=\"f1\" width=\"300%\" x=\"-1\" y=\"-1\"><feGaussianBlur result=\"blurOut\" stdDeviation=\"2.0\"/><feColorMatrix in=\"blurOut\" result=\"blurOut2\" type=\"matrix\" values=\"0 0 0 0 0 0 0 0 0 0 0 0 0 0 0 0 0 0 .4 0\"/><feOffset dx=\"4.0\" dy=\"4.0\" in=\"blurOut2\" result=\"blurOut3\"/><feBlend in=\"SourceGraphic\" in2=\"blurOut3\" mode=\"normal\"/></filter></defs><g><rect fill=\"#FEFECE\" filter=\"url(#f1)\" height=\"93.3267\" style=\"stroke: #A80036; stroke-width: 1.5;\" width=\"166\" x=\"6\" y=\"8\"/><ellipse cx=\"58.75\" cy=\"24\" fill=\"#ADD1B2\" rx=\"11\" ry=\"11\" style=\"stroke: #A80036; stroke-width: 1.0;\"/><path d=\"M58.3125,17.5156 Q55.5781,17.5156 54.5,19.1406 Q53.3594,20.8594 53.3594,23.7813 Q53.3594,27.0781 54.5156,28.7813 Q55.5,30.2813 58.1094,30.2813 Q59.6875,30.2813 60.5625,29.4531 Q61.5469,28.5 61.6875,26.375 Q61.6875,26.0781 61.5156,25.9063 Q61.3906,25.75 61.1719,25.7344 Q59.9531,25.7344 59.7969,25.8594 Q59.625,26.0156 59.625,26.2813 Q59.5938,27.7656 58.9375,28.5781 Q58.3281,29.375 58.25,29.375 Q56.9219,29.375 56.1406,27.7813 Q55.3906,26.2344 55.3906,23.75 Q55.3906,21.125 56.3281,19.6719 Q57.1563,18.4219 58.4375,18.4219 Q58.4375,18.4219 58.7813,19.0469 Q59.4063,19.7188 59.5469,20.875 Q59.6563,21.4531 61.125,21.2344 Q61.6563,21.1563 61.625,20.7344 Q61.4531,19.2969 60.7344,18.4844 Q59.875,17.5156 58.3125,17.5156 Z \"/><text fill=\"#000000\" font-family=\"sans-serif\" font-size=\"12\" lengthAdjust=\"spacingAndGlyphs\" textLength=\"52\" x=\"79.25\" y=\"29.6045\">Singleton</text><line style=\"stroke: #A80036; stroke-width: 1.5;\" x1=\"7\" x2=\"171\" y1=\"40\" y2=\"40\"/><rect fill=\"none\" height=\"6\" style=\"stroke: #C82930; stroke-width: 1.0;\" width=\"6\" x=\"14\" y=\"50.0544\"/><text fill=\"#000000\" font-family=\"sans-serif\" font-size=\"11\" lengthAdjust=\"spacingAndGlyphs\" textLength=\"117\" x=\"26\" y=\"56.6919\">static instance:Singleton</text><line style=\"stroke: #A80036; stroke-width: 1.5;\" x1=\"7\" x2=\"171\" y1=\"63.1089\" y2=\"63.1089\"/><rect fill=\"#F24D5C\" height=\"6\" style=\"stroke: #C82930; stroke-width: 1.0;\" width=\"6\" x=\"14\" y=\"73.1633\"/><text fill=\"#000000\" font-family=\"sans-serif\" font-size=\"11\" lengthAdjust=\"spacingAndGlyphs\" textLength=\"75\" x=\"26\" y=\"79.8008\">Singleton():void</text><ellipse cx=\"17\" cy=\"91.2722\" fill=\"#84BE84\" rx=\"3\" ry=\"3\" style=\"stroke: #038048; stroke-width: 1.0;\"/><text fill=\"#000000\" font-family=\"sans-serif\" font-size=\"11\" lengthAdjust=\"spacingAndGlyphs\" textLength=\"140\" x=\"26\" y=\"94.9097\">static getInstance():Singleton</text></g></svg>"
      ],
      "text/plain": [
       "<IPython.core.display.SVG object>"
      ]
     },
     "execution_count": 6,
     "metadata": {},
     "output_type": "execute_result"
    }
   ],
   "source": [
    "%%plantuml\n",
    "@startuml\n",
    "class Singleton {\n",
    "    -static instance:Singleton\n",
    "    -Singleton():void\n",
    "    +static getInstance():Singleton\n",
    "}\n",
    "@enduml"
   ]
  }
 ],
 "metadata": {
  "kernelspec": {
   "display_name": "Python 2",
   "language": "python",
   "name": "python2"
  },
  "language_info": {
   "codemirror_mode": {
    "name": "ipython",
    "version": 2
   },
   "file_extension": ".py",
   "mimetype": "text/x-python",
   "name": "python",
   "nbconvert_exporter": "python",
   "pygments_lexer": "ipython2",
   "version": "2.7.10"
  }
 },
 "nbformat": 4,
 "nbformat_minor": 0
}
