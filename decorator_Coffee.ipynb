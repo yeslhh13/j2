{
 "cells": [
  {
   "cell_type": "code",
   "execution_count": 2,
   "metadata": {
    "collapsed": false
   },
   "outputs": [
    {
     "name": "stdout",
     "output_type": "stream",
     "text": [
      "Installed plantuml_magics.py. To use it, type:\n",
      "  %load_ext plantuml_magics\n"
     ]
    },
    {
     "name": "stderr",
     "output_type": "stream",
     "text": [
      "C:\\Users\\ㄶ예슬\\Anaconda3\\lib\\site-packages\\IPython\\core\\magics\\extension.py:47: UserWarning: %install_ext` is deprecated, please distribute your extension(s)as a python packages.\n",
      "  \"as a python packages.\", UserWarning)\n"
     ]
    }
   ],
   "source": [
    "%install_ext https://raw.githubusercontent.com/sberke/ipython-plantuml/master/plantuml_magics.py"
   ]
  },
  {
   "cell_type": "code",
   "execution_count": 3,
   "metadata": {
    "collapsed": true
   },
   "outputs": [],
   "source": [
    "%load_ext plantuml_magics"
   ]
  },
  {
   "cell_type": "code",
   "execution_count": 4,
   "metadata": {
    "collapsed": false
   },
   "outputs": [
    {
     "data": {
      "text/plain": [
       "['.\\\\plantuml.jar']"
      ]
     },
     "execution_count": 4,
     "metadata": {},
     "output_type": "execute_result"
    }
   ],
   "source": [
    "import glob\n",
    "glob.glob(r'./*.jar')"
   ]
  },
  {
   "cell_type": "code",
   "execution_count": 6,
   "metadata": {
    "collapsed": false
   },
   "outputs": [
    {
     "data": {
      "image/svg+xml": [
       "<svg height=\"218px\" style=\"width:462px;height:218px;\" version=\"1.1\" viewBox=\"0 0 462 218\" width=\"462px\" xmlns=\"http://www.w3.org/2000/svg\" xmlns:xlink=\"http://www.w3.org/1999/xlink\"><defs><filter height=\"300%\" id=\"f1\" width=\"300%\" x=\"-1\" y=\"-1\"><feGaussianBlur result=\"blurOut\" stdDeviation=\"2.0\"/><feColorMatrix in=\"blurOut\" result=\"blurOut2\" type=\"matrix\" values=\"0 0 0 0 0 0 0 0 0 0 0 0 0 0 0 0 0 0 .4 0\"/><feOffset dx=\"4.0\" dy=\"4.0\" in=\"blurOut2\" result=\"blurOut3\"/><feBlend in=\"SourceGraphic\" in2=\"blurOut3\" mode=\"normal\"/></filter></defs><g><rect fill=\"#FEFECE\" filter=\"url(#f1)\" height=\"93.3267\" style=\"stroke: #A80036; stroke-width: 1.5;\" width=\"89\" x=\"199\" y=\"8\"/><ellipse cx=\"216.25\" cy=\"24\" fill=\"#ADD1B2\" rx=\"11\" ry=\"11\" style=\"stroke: #A80036; stroke-width: 1.0;\"/><path d=\"M215.8125,17.5156 Q213.0781,17.5156 212,19.1406 Q210.8594,20.8594 210.8594,23.7813 Q210.8594,27.0781 212.0156,28.7813 Q213,30.2813 215.6094,30.2813 Q217.1875,30.2813 218.0625,29.4531 Q219.0469,28.5 219.1875,26.375 Q219.1875,26.0781 219.0156,25.9063 Q218.8906,25.75 218.6719,25.7344 Q217.4531,25.7344 217.2969,25.8594 Q217.125,26.0156 217.125,26.2813 Q217.0938,27.7656 216.4375,28.5781 Q215.8281,29.375 215.75,29.375 Q214.4219,29.375 213.6406,27.7813 Q212.8906,26.2344 212.8906,23.75 Q212.8906,21.125 213.8281,19.6719 Q214.6563,18.4219 215.9375,18.4219 Q215.9375,18.4219 216.2813,19.0469 Q216.9063,19.7188 217.0469,20.875 Q217.1563,21.4531 218.625,21.2344 Q219.1563,21.1563 219.125,20.7344 Q218.9531,19.2969 218.2344,18.4844 Q217.375,17.5156 215.8125,17.5156 Z \"/><text fill=\"#000000\" font-family=\"sans-serif\" font-size=\"12\" lengthAdjust=\"spacingAndGlyphs\" textLength=\"52\" x=\"230.75\" y=\"29.6045\">Beverage</text><line style=\"stroke: #A80036; stroke-width: 1.5;\" x1=\"200\" x2=\"287\" y1=\"40\" y2=\"40\"/><text fill=\"#000000\" font-family=\"sans-serif\" font-size=\"11\" lengthAdjust=\"spacingAndGlyphs\" textLength=\"53\" x=\"205\" y=\"56.6919\">description</text><line style=\"stroke: #A80036; stroke-width: 1.5;\" x1=\"200\" x2=\"287\" y1=\"63.1089\" y2=\"63.1089\"/><text fill=\"#000000\" font-family=\"sans-serif\" font-size=\"11\" lengthAdjust=\"spacingAndGlyphs\" textLength=\"77\" x=\"205\" y=\"79.8008\">getDescription()</text><text fill=\"#000000\" font-family=\"sans-serif\" font-size=\"11\" lengthAdjust=\"spacingAndGlyphs\" textLength=\"29\" x=\"205\" y=\"94.9097\">cost()</text><rect fill=\"#FEFECE\" filter=\"url(#f1)\" height=\"48\" style=\"stroke: #A80036; stroke-width: 1.5;\" width=\"101\" x=\"6\" y=\"161\"/><ellipse cx=\"21\" cy=\"177\" fill=\"#ADD1B2\" rx=\"11\" ry=\"11\" style=\"stroke: #A80036; stroke-width: 1.0;\"/><path d=\"M20.5625,170.5156 Q17.8281,170.5156 16.75,172.1406 Q15.6094,173.8594 15.6094,176.7813 Q15.6094,180.0781 16.7656,181.7813 Q17.75,183.2813 20.3594,183.2813 Q21.9375,183.2813 22.8125,182.4531 Q23.7969,181.5 23.9375,179.375 Q23.9375,179.0781 23.7656,178.9063 Q23.6406,178.75 23.4219,178.7344 Q22.2031,178.7344 22.0469,178.8594 Q21.875,179.0156 21.875,179.2813 Q21.8438,180.7656 21.1875,181.5781 Q20.5781,182.375 20.5,182.375 Q19.1719,182.375 18.3906,180.7813 Q17.6406,179.2344 17.6406,176.75 Q17.6406,174.125 18.5781,172.6719 Q19.4063,171.4219 20.6875,171.4219 Q20.6875,171.4219 21.0313,172.0469 Q21.6563,172.7188 21.7969,173.875 Q21.9063,174.4531 23.375,174.2344 Q23.9063,174.1563 23.875,173.7344 Q23.7031,172.2969 22.9844,171.4844 Q22.125,170.5156 20.5625,170.5156 Z \"/><text fill=\"#000000\" font-family=\"sans-serif\" font-size=\"12\" lengthAdjust=\"spacingAndGlyphs\" textLength=\"69\" x=\"35\" y=\"182.6045\">HouseBlend</text><line style=\"stroke: #A80036; stroke-width: 1.5;\" x1=\"7\" x2=\"106\" y1=\"193\" y2=\"193\"/><line style=\"stroke: #A80036; stroke-width: 1.5;\" x1=\"7\" x2=\"106\" y1=\"201\" y2=\"201\"/><rect fill=\"#FEFECE\" filter=\"url(#f1)\" height=\"48\" style=\"stroke: #A80036; stroke-width: 1.5;\" width=\"91\" x=\"142\" y=\"161\"/><ellipse cx=\"157\" cy=\"177\" fill=\"#ADD1B2\" rx=\"11\" ry=\"11\" style=\"stroke: #A80036; stroke-width: 1.0;\"/><path d=\"M156.5625,170.5156 Q153.8281,170.5156 152.75,172.1406 Q151.6094,173.8594 151.6094,176.7813 Q151.6094,180.0781 152.7656,181.7813 Q153.75,183.2813 156.3594,183.2813 Q157.9375,183.2813 158.8125,182.4531 Q159.7969,181.5 159.9375,179.375 Q159.9375,179.0781 159.7656,178.9063 Q159.6406,178.75 159.4219,178.7344 Q158.2031,178.7344 158.0469,178.8594 Q157.875,179.0156 157.875,179.2813 Q157.8438,180.7656 157.1875,181.5781 Q156.5781,182.375 156.5,182.375 Q155.1719,182.375 154.3906,180.7813 Q153.6406,179.2344 153.6406,176.75 Q153.6406,174.125 154.5781,172.6719 Q155.4063,171.4219 156.6875,171.4219 Q156.6875,171.4219 157.0313,172.0469 Q157.6563,172.7188 157.7969,173.875 Q157.9063,174.4531 159.375,174.2344 Q159.9063,174.1563 159.875,173.7344 Q159.7031,172.2969 158.9844,171.4844 Q158.125,170.5156 156.5625,170.5156 Z \"/><text fill=\"#000000\" font-family=\"sans-serif\" font-size=\"12\" lengthAdjust=\"spacingAndGlyphs\" textLength=\"59\" x=\"171\" y=\"182.6045\">DarkRoast</text><line style=\"stroke: #A80036; stroke-width: 1.5;\" x1=\"143\" x2=\"232\" y1=\"193\" y2=\"193\"/><line style=\"stroke: #A80036; stroke-width: 1.5;\" x1=\"143\" x2=\"232\" y1=\"201\" y2=\"201\"/><rect fill=\"#FEFECE\" filter=\"url(#f1)\" height=\"48\" style=\"stroke: #A80036; stroke-width: 1.5;\" width=\"64\" x=\"268.5\" y=\"161\"/><ellipse cx=\"283.5\" cy=\"177\" fill=\"#ADD1B2\" rx=\"11\" ry=\"11\" style=\"stroke: #A80036; stroke-width: 1.0;\"/><path d=\"M283.0625,170.5156 Q280.3281,170.5156 279.25,172.1406 Q278.1094,173.8594 278.1094,176.7813 Q278.1094,180.0781 279.2656,181.7813 Q280.25,183.2813 282.8594,183.2813 Q284.4375,183.2813 285.3125,182.4531 Q286.2969,181.5 286.4375,179.375 Q286.4375,179.0781 286.2656,178.9063 Q286.1406,178.75 285.9219,178.7344 Q284.7031,178.7344 284.5469,178.8594 Q284.375,179.0156 284.375,179.2813 Q284.3438,180.7656 283.6875,181.5781 Q283.0781,182.375 283,182.375 Q281.6719,182.375 280.8906,180.7813 Q280.1406,179.2344 280.1406,176.75 Q280.1406,174.125 281.0781,172.6719 Q281.9063,171.4219 283.1875,171.4219 Q283.1875,171.4219 283.5313,172.0469 Q284.1563,172.7188 284.2969,173.875 Q284.4063,174.4531 285.875,174.2344 Q286.4063,174.1563 286.375,173.7344 Q286.2031,172.2969 285.4844,171.4844 Q284.625,170.5156 283.0625,170.5156 Z \"/><text fill=\"#000000\" font-family=\"sans-serif\" font-size=\"12\" lengthAdjust=\"spacingAndGlyphs\" textLength=\"32\" x=\"297.5\" y=\"182.6045\">Decaf</text><line style=\"stroke: #A80036; stroke-width: 1.5;\" x1=\"269.5\" x2=\"331.5\" y1=\"193\" y2=\"193\"/><line style=\"stroke: #A80036; stroke-width: 1.5;\" x1=\"269.5\" x2=\"331.5\" y1=\"201\" y2=\"201\"/><rect fill=\"#FEFECE\" filter=\"url(#f1)\" height=\"48\" style=\"stroke: #A80036; stroke-width: 1.5;\" width=\"86\" x=\"367.5\" y=\"161\"/><ellipse cx=\"382.5\" cy=\"177\" fill=\"#ADD1B2\" rx=\"11\" ry=\"11\" style=\"stroke: #A80036; stroke-width: 1.0;\"/><path d=\"M382.0625,170.5156 Q379.3281,170.5156 378.25,172.1406 Q377.1094,173.8594 377.1094,176.7813 Q377.1094,180.0781 378.2656,181.7813 Q379.25,183.2813 381.8594,183.2813 Q383.4375,183.2813 384.3125,182.4531 Q385.2969,181.5 385.4375,179.375 Q385.4375,179.0781 385.2656,178.9063 Q385.1406,178.75 384.9219,178.7344 Q383.7031,178.7344 383.5469,178.8594 Q383.375,179.0156 383.375,179.2813 Q383.3438,180.7656 382.6875,181.5781 Q382.0781,182.375 382,182.375 Q380.6719,182.375 379.8906,180.7813 Q379.1406,179.2344 379.1406,176.75 Q379.1406,174.125 380.0781,172.6719 Q380.9063,171.4219 382.1875,171.4219 Q382.1875,171.4219 382.5313,172.0469 Q383.1563,172.7188 383.2969,173.875 Q383.4063,174.4531 384.875,174.2344 Q385.4063,174.1563 385.375,173.7344 Q385.2031,172.2969 384.4844,171.4844 Q383.625,170.5156 382.0625,170.5156 Z \"/><text fill=\"#000000\" font-family=\"sans-serif\" font-size=\"12\" lengthAdjust=\"spacingAndGlyphs\" textLength=\"54\" x=\"396.5\" y=\"182.6045\">Espresso</text><line style=\"stroke: #A80036; stroke-width: 1.5;\" x1=\"368.5\" x2=\"452.5\" y1=\"193\" y2=\"193\"/><line style=\"stroke: #A80036; stroke-width: 1.5;\" x1=\"368.5\" x2=\"452.5\" y1=\"201\" y2=\"201\"/><path d=\"M181.889,97.837 C151.317,118.8451 115.577,143.4045 90.0929,160.9161 \" fill=\"none\" style=\"stroke: #A80036; stroke-width: 1.0;\"/><polygon fill=\"none\" points=\"178.261,91.837,198.709,86.279,186.19,103.375,178.261,91.837\" style=\"stroke: #A80036; stroke-width: 1.0;\"/><path d=\"M215.552,119.6296 C209.118,134.395 202.679,149.1688 197.597,160.8319 \" fill=\"none\" style=\"stroke: #A80036; stroke-width: 1.0;\"/><polygon fill=\"none\" points=\"209.191,116.7041,223.599,101.166,222.026,122.2973,209.191,116.7041\" style=\"stroke: #A80036; stroke-width: 1.0;\"/><path d=\"M271.947,119.6296 C278.496,134.395 285.05,149.1688 290.223,160.8319 \" fill=\"none\" style=\"stroke: #A80036; stroke-width: 1.0;\"/><polygon fill=\"none\" points=\"265.467,122.2866,263.757,101.166,278.265,116.6098,265.467,122.2866\" style=\"stroke: #A80036; stroke-width: 1.0;\"/><path d=\"M304.285,102.271 C330.182,122.1981 359.234,144.5526 380.4,160.8389 \" fill=\"none\" style=\"stroke: #A80036; stroke-width: 1.0;\"/><polygon fill=\"none\" points=\"299.835,107.68,288.253,89.936,308.372,96.584,299.835,107.68\" style=\"stroke: #A80036; stroke-width: 1.0;\"/></g></svg>"
      ],
      "text/plain": [
       "<IPython.core.display.SVG object>"
      ]
     },
     "execution_count": 6,
     "metadata": {},
     "output_type": "execute_result"
    }
   ],
   "source": [
    "%%plantuml\n",
    "\n",
    "@startuml\n",
    "\n",
    "class Beverage {\n",
    "    description\n",
    "    getDescription()\n",
    "    cost()\n",
    "}\n",
    "Beverage <|-- HouseBlend\n",
    "Beverage <|-- DarkRoast\n",
    "Beverage <|-- Decaf\n",
    "Beverage <|-- Espresso\n",
    "\n",
    "@enduml"
   ]
  },
  {
   "cell_type": "code",
   "execution_count": 7,
   "metadata": {
    "collapsed": false
   },
   "outputs": [
    {
     "data": {
      "image/svg+xml": [
       "<svg height=\"296px\" style=\"width:308px;height:296px;\" version=\"1.1\" viewBox=\"0 0 308 296\" width=\"308px\" xmlns=\"http://www.w3.org/2000/svg\" xmlns:xlink=\"http://www.w3.org/1999/xlink\"><defs><filter height=\"300%\" id=\"f1\" width=\"300%\" x=\"-1\" y=\"-1\"><feGaussianBlur result=\"blurOut\" stdDeviation=\"2.0\"/><feColorMatrix in=\"blurOut\" result=\"blurOut2\" type=\"matrix\" values=\"0 0 0 0 0 0 0 0 0 0 0 0 0 0 0 0 0 0 .4 0\"/><feOffset dx=\"4.0\" dy=\"4.0\" in=\"blurOut2\" result=\"blurOut3\"/><feBlend in=\"SourceGraphic\" in2=\"blurOut3\" mode=\"normal\"/></filter></defs><g><rect fill=\"#FEFECE\" filter=\"url(#f1)\" height=\"48\" style=\"stroke: #A80036; stroke-width: 1.5;\" width=\"97\" x=\"25.5\" y=\"8\"/><ellipse cx=\"40.5\" cy=\"24\" fill=\"#A9DCDF\" rx=\"11\" ry=\"11\" style=\"stroke: #A80036; stroke-width: 1.0;\"/><path d=\"M38.5313,24.3906 L40.0313,18.9688 L41,24.3906 L38.5313,24.3906 Z M38.4219,17.4688 L35.2813,28.7969 Q35.1563,29.0938 35.25,29.2969 Q35.3281,29.4844 35.5469,29.5313 Q36.4063,29.7344 36.9375,29.4688 Q37.125,29.3438 37.2188,29.1406 L38.2813,25.2969 L41.2188,25.2969 L42.2813,29.1875 Q42.3281,29.4063 42.5156,29.5 Q43.0156,29.7188 43.8906,29.5313 Q44.0781,29.4844 44.2031,29.3125 Q44.3125,29.1563 44.25,28.9219 L41.125,17.4688 Q40.8594,16.7813 40.2656,16.7656 Q38.6563,16.7656 38.4219,17.4688 Z \"/><text fill=\"#000000\" font-family=\"sans-serif\" font-size=\"12\" font-style=\"italic\" lengthAdjust=\"spacingAndGlyphs\" textLength=\"65\" x=\"54.5\" y=\"29.6045\">Component</text><line style=\"stroke: #A80036; stroke-width: 1.5;\" x1=\"26.5\" x2=\"121.5\" y1=\"40\" y2=\"40\"/><line style=\"stroke: #A80036; stroke-width: 1.5;\" x1=\"26.5\" x2=\"121.5\" y1=\"48\" y2=\"48\"/><rect fill=\"#FEFECE\" filter=\"url(#f1)\" height=\"63.1089\" style=\"stroke: #A80036; stroke-width: 1.5;\" width=\"86\" x=\"31\" y=\"116\"/><ellipse cx=\"46\" cy=\"132\" fill=\"#ADD1B2\" rx=\"11\" ry=\"11\" style=\"stroke: #A80036; stroke-width: 1.0;\"/><path d=\"M45.5625,125.5156 Q42.8281,125.5156 41.75,127.1406 Q40.6094,128.8594 40.6094,131.7813 Q40.6094,135.0781 41.7656,136.7813 Q42.75,138.2813 45.3594,138.2813 Q46.9375,138.2813 47.8125,137.4531 Q48.7969,136.5 48.9375,134.375 Q48.9375,134.0781 48.7656,133.9063 Q48.6406,133.75 48.4219,133.7344 Q47.2031,133.7344 47.0469,133.8594 Q46.875,134.0156 46.875,134.2813 Q46.8438,135.7656 46.1875,136.5781 Q45.5781,137.375 45.5,137.375 Q44.1719,137.375 43.3906,135.7813 Q42.6406,134.2344 42.6406,131.75 Q42.6406,129.125 43.5781,127.6719 Q44.4063,126.4219 45.6875,126.4219 Q45.6875,126.4219 46.0313,127.0469 Q46.6563,127.7188 46.7969,128.875 Q46.9063,129.4531 48.375,129.2344 Q48.9063,129.1563 48.875,128.7344 Q48.7031,127.2969 47.9844,126.4844 Q47.125,125.5156 45.5625,125.5156 Z \"/><text fill=\"#000000\" font-family=\"sans-serif\" font-size=\"12\" lengthAdjust=\"spacingAndGlyphs\" textLength=\"54\" x=\"60\" y=\"137.6045\">Decorator</text><line style=\"stroke: #A80036; stroke-width: 1.5;\" x1=\"32\" x2=\"116\" y1=\"148\" y2=\"148\"/><rect fill=\"none\" height=\"6\" style=\"stroke: #C82930; stroke-width: 1.0;\" width=\"6\" x=\"39\" y=\"158.0544\"/><text fill=\"#000000\" font-family=\"sans-serif\" font-size=\"11\" lengthAdjust=\"spacingAndGlyphs\" textLength=\"53\" x=\"51\" y=\"164.6919\">component</text><line style=\"stroke: #A80036; stroke-width: 1.5;\" x1=\"32\" x2=\"116\" y1=\"171.1089\" y2=\"171.1089\"/><rect fill=\"#FEFECE\" filter=\"url(#f1)\" height=\"48\" style=\"stroke: #A80036; stroke-width: 1.5;\" width=\"147\" x=\"152.5\" y=\"123.5\"/><ellipse cx=\"167.5\" cy=\"139.5\" fill=\"#ADD1B2\" rx=\"11\" ry=\"11\" style=\"stroke: #A80036; stroke-width: 1.0;\"/><path d=\"M167.0625,133.0156 Q164.3281,133.0156 163.25,134.6406 Q162.1094,136.3594 162.1094,139.2813 Q162.1094,142.5781 163.2656,144.2813 Q164.25,145.7813 166.8594,145.7813 Q168.4375,145.7813 169.3125,144.9531 Q170.2969,144 170.4375,141.875 Q170.4375,141.5781 170.2656,141.4063 Q170.1406,141.25 169.9219,141.2344 Q168.7031,141.2344 168.5469,141.3594 Q168.375,141.5156 168.375,141.7813 Q168.3438,143.2656 167.6875,144.0781 Q167.0781,144.875 167,144.875 Q165.6719,144.875 164.8906,143.2813 Q164.1406,141.7344 164.1406,139.25 Q164.1406,136.625 165.0781,135.1719 Q165.9063,133.9219 167.1875,133.9219 Q167.1875,133.9219 167.5313,134.5469 Q168.1563,135.2188 168.2969,136.375 Q168.4063,136.9531 169.875,136.7344 Q170.4063,136.6563 170.375,136.2344 Q170.2031,134.7969 169.4844,133.9844 Q168.625,133.0156 167.0625,133.0156 Z \"/><text fill=\"#000000\" font-family=\"sans-serif\" font-size=\"12\" lengthAdjust=\"spacingAndGlyphs\" textLength=\"115\" x=\"181.5\" y=\"145.1045\">ConcreteComponent</text><line style=\"stroke: #A80036; stroke-width: 1.5;\" x1=\"153.5\" x2=\"298.5\" y1=\"155.5\" y2=\"155.5\"/><line style=\"stroke: #A80036; stroke-width: 1.5;\" x1=\"153.5\" x2=\"298.5\" y1=\"163.5\" y2=\"163.5\"/><rect fill=\"#FEFECE\" filter=\"url(#f1)\" height=\"48\" style=\"stroke: #A80036; stroke-width: 1.5;\" width=\"136\" x=\"6\" y=\"239\"/><ellipse cx=\"21\" cy=\"255\" fill=\"#ADD1B2\" rx=\"11\" ry=\"11\" style=\"stroke: #A80036; stroke-width: 1.0;\"/><path d=\"M20.5625,248.5156 Q17.8281,248.5156 16.75,250.1406 Q15.6094,251.8594 15.6094,254.7813 Q15.6094,258.0781 16.7656,259.7813 Q17.75,261.2813 20.3594,261.2813 Q21.9375,261.2813 22.8125,260.4531 Q23.7969,259.5 23.9375,257.375 Q23.9375,257.0781 23.7656,256.9063 Q23.6406,256.75 23.4219,256.7344 Q22.2031,256.7344 22.0469,256.8594 Q21.875,257.0156 21.875,257.2813 Q21.8438,258.7656 21.1875,259.5781 Q20.5781,260.375 20.5,260.375 Q19.1719,260.375 18.3906,258.7813 Q17.6406,257.2344 17.6406,254.75 Q17.6406,252.125 18.5781,250.6719 Q19.4063,249.4219 20.6875,249.4219 Q20.6875,249.4219 21.0313,250.0469 Q21.6563,250.7188 21.7969,251.875 Q21.9063,252.4531 23.375,252.2344 Q23.9063,252.1563 23.875,251.7344 Q23.7031,250.2969 22.9844,249.4844 Q22.125,248.5156 20.5625,248.5156 Z \"/><text fill=\"#000000\" font-family=\"sans-serif\" font-size=\"12\" lengthAdjust=\"spacingAndGlyphs\" textLength=\"104\" x=\"35\" y=\"260.6045\">ConcreteDecorator</text><line style=\"stroke: #A80036; stroke-width: 1.5;\" x1=\"7\" x2=\"141\" y1=\"271\" y2=\"271\"/><line style=\"stroke: #A80036; stroke-width: 1.5;\" x1=\"7\" x2=\"141\" y1=\"279\" y2=\"279\"/><path d=\"M121.31,68.327 C145.386,86.305 173.965,107.645 195.175,123.483 \" fill=\"none\" style=\"stroke: #A80036; stroke-width: 1.0;\"/><polygon fill=\"none\" points=\"116.963,73.817,105.1263,56.242,125.34,62.6,116.963,73.817\" style=\"stroke: #A80036; stroke-width: 1.0;\"/><path d=\"M61.5723,76.331 C60.9267,89.543 61.251,103.784 62.5451,115.962 \" fill=\"none\" style=\"stroke: #A80036; stroke-width: 1.0;\"/><polygon fill=\"none\" points=\"54.6203,75.492,63.4774,56.242,68.5578,76.814,54.6203,75.492\" style=\"stroke: #A80036; stroke-width: 1.0;\"/><path d=\"M86.1287,115.962 C88.0437,98.942 87.953,77.892 85.8566,61.255 \" fill=\"none\" style=\"stroke: #A80036; stroke-width: 1.0;\"/><polygon fill=\"#A80036\" points=\"85.1416,56.242,82.452,65.7165,85.8473,61.1919,90.3719,64.5873,85.1416,56.242\" style=\"stroke: #A80036; stroke-width: 1.0;\"/><path d=\"M74,199.3536 C74,213.1427 74,227.4011 74,238.8252 \" fill=\"none\" style=\"stroke: #A80036; stroke-width: 1.0;\"/><polygon fill=\"none\" points=\"67.0001,199.2148,74,179.215,81.0001,199.2147,67.0001,199.2148\" style=\"stroke: #A80036; stroke-width: 1.0;\"/></g></svg>"
      ],
      "text/plain": [
       "<IPython.core.display.SVG object>"
      ]
     },
     "execution_count": 7,
     "metadata": {},
     "output_type": "execute_result"
    }
   ],
   "source": [
    "%%plantuml\n",
    "\n",
    "@startuml\n",
    "\n",
    "abstract class Component\n",
    "\n",
    "class Decorator {\n",
    "    -component\n",
    "}\n",
    "Component <|-- ConcreteComponent\n",
    "Component <|-- Decorator\n",
    "Decorator --> Component\n",
    "Decorator <|-- ConcreteDecorator\n",
    "\n",
    "@enduml"
   ]
  },
  {
   "cell_type": "code",
   "execution_count": 8,
   "metadata": {
    "collapsed": false
   },
   "outputs": [
    {
     "data": {
      "image/svg+xml": [
       "<svg height=\"386px\" style=\"width:768px;height:386px;\" version=\"1.1\" viewBox=\"0 0 768 386\" width=\"768px\" xmlns=\"http://www.w3.org/2000/svg\" xmlns:xlink=\"http://www.w3.org/1999/xlink\"><defs><filter height=\"300%\" id=\"f1\" width=\"300%\" x=\"-1\" y=\"-1\"><feGaussianBlur result=\"blurOut\" stdDeviation=\"2.0\"/><feColorMatrix in=\"blurOut\" result=\"blurOut2\" type=\"matrix\" values=\"0 0 0 0 0 0 0 0 0 0 0 0 0 0 0 0 0 0 .4 0\"/><feOffset dx=\"4.0\" dy=\"4.0\" in=\"blurOut2\" result=\"blurOut3\"/><feBlend in=\"SourceGraphic\" in2=\"blurOut3\" mode=\"normal\"/></filter></defs><g><rect fill=\"#FEFECE\" filter=\"url(#f1)\" height=\"93.3267\" style=\"stroke: #A80036; stroke-width: 1.5;\" width=\"89\" x=\"322\" y=\"8\"/><ellipse cx=\"339.25\" cy=\"24\" fill=\"#ADD1B2\" rx=\"11\" ry=\"11\" style=\"stroke: #A80036; stroke-width: 1.0;\"/><path d=\"M338.8125,17.5156 Q336.0781,17.5156 335,19.1406 Q333.8594,20.8594 333.8594,23.7813 Q333.8594,27.0781 335.0156,28.7813 Q336,30.2813 338.6094,30.2813 Q340.1875,30.2813 341.0625,29.4531 Q342.0469,28.5 342.1875,26.375 Q342.1875,26.0781 342.0156,25.9063 Q341.8906,25.75 341.6719,25.7344 Q340.4531,25.7344 340.2969,25.8594 Q340.125,26.0156 340.125,26.2813 Q340.0938,27.7656 339.4375,28.5781 Q338.8281,29.375 338.75,29.375 Q337.4219,29.375 336.6406,27.7813 Q335.8906,26.2344 335.8906,23.75 Q335.8906,21.125 336.8281,19.6719 Q337.6563,18.4219 338.9375,18.4219 Q338.9375,18.4219 339.2813,19.0469 Q339.9063,19.7188 340.0469,20.875 Q340.1563,21.4531 341.625,21.2344 Q342.1563,21.1563 342.125,20.7344 Q341.9531,19.2969 341.2344,18.4844 Q340.375,17.5156 338.8125,17.5156 Z \"/><text fill=\"#000000\" font-family=\"sans-serif\" font-size=\"12\" lengthAdjust=\"spacingAndGlyphs\" textLength=\"52\" x=\"353.75\" y=\"29.6045\">Beverage</text><line style=\"stroke: #A80036; stroke-width: 1.5;\" x1=\"323\" x2=\"410\" y1=\"40\" y2=\"40\"/><text fill=\"#000000\" font-family=\"sans-serif\" font-size=\"11\" lengthAdjust=\"spacingAndGlyphs\" textLength=\"53\" x=\"328\" y=\"56.6919\">description</text><line style=\"stroke: #A80036; stroke-width: 1.5;\" x1=\"323\" x2=\"410\" y1=\"63.1089\" y2=\"63.1089\"/><text fill=\"#000000\" font-family=\"sans-serif\" font-size=\"11\" lengthAdjust=\"spacingAndGlyphs\" textLength=\"77\" x=\"328\" y=\"79.8008\">getDescription()</text><text fill=\"#000000\" font-family=\"sans-serif\" font-size=\"11\" lengthAdjust=\"spacingAndGlyphs\" textLength=\"29\" x=\"328\" y=\"94.9097\">cost()</text><rect fill=\"#FEFECE\" filter=\"url(#f1)\" height=\"63.1089\" style=\"stroke: #A80036; stroke-width: 1.5;\" width=\"101\" x=\"6\" y=\"161\"/><ellipse cx=\"21\" cy=\"177\" fill=\"#ADD1B2\" rx=\"11\" ry=\"11\" style=\"stroke: #A80036; stroke-width: 1.0;\"/><path d=\"M20.5625,170.5156 Q17.8281,170.5156 16.75,172.1406 Q15.6094,173.8594 15.6094,176.7813 Q15.6094,180.0781 16.7656,181.7813 Q17.75,183.2813 20.3594,183.2813 Q21.9375,183.2813 22.8125,182.4531 Q23.7969,181.5 23.9375,179.375 Q23.9375,179.0781 23.7656,178.9063 Q23.6406,178.75 23.4219,178.7344 Q22.2031,178.7344 22.0469,178.8594 Q21.875,179.0156 21.875,179.2813 Q21.8438,180.7656 21.1875,181.5781 Q20.5781,182.375 20.5,182.375 Q19.1719,182.375 18.3906,180.7813 Q17.6406,179.2344 17.6406,176.75 Q17.6406,174.125 18.5781,172.6719 Q19.4063,171.4219 20.6875,171.4219 Q20.6875,171.4219 21.0313,172.0469 Q21.6563,172.7188 21.7969,173.875 Q21.9063,174.4531 23.375,174.2344 Q23.9063,174.1563 23.875,173.7344 Q23.7031,172.2969 22.9844,171.4844 Q22.125,170.5156 20.5625,170.5156 Z \"/><text fill=\"#000000\" font-family=\"sans-serif\" font-size=\"12\" lengthAdjust=\"spacingAndGlyphs\" textLength=\"69\" x=\"35\" y=\"182.6045\">HouseBlend</text><line style=\"stroke: #A80036; stroke-width: 1.5;\" x1=\"7\" x2=\"106\" y1=\"193\" y2=\"193\"/><line style=\"stroke: #A80036; stroke-width: 1.5;\" x1=\"7\" x2=\"106\" y1=\"201\" y2=\"201\"/><text fill=\"#000000\" font-family=\"sans-serif\" font-size=\"11\" lengthAdjust=\"spacingAndGlyphs\" textLength=\"29\" x=\"12\" y=\"217.6919\">cost()</text><rect fill=\"#FEFECE\" filter=\"url(#f1)\" height=\"63.1089\" style=\"stroke: #A80036; stroke-width: 1.5;\" width=\"91\" x=\"142\" y=\"161\"/><ellipse cx=\"157\" cy=\"177\" fill=\"#ADD1B2\" rx=\"11\" ry=\"11\" style=\"stroke: #A80036; stroke-width: 1.0;\"/><path d=\"M156.5625,170.5156 Q153.8281,170.5156 152.75,172.1406 Q151.6094,173.8594 151.6094,176.7813 Q151.6094,180.0781 152.7656,181.7813 Q153.75,183.2813 156.3594,183.2813 Q157.9375,183.2813 158.8125,182.4531 Q159.7969,181.5 159.9375,179.375 Q159.9375,179.0781 159.7656,178.9063 Q159.6406,178.75 159.4219,178.7344 Q158.2031,178.7344 158.0469,178.8594 Q157.875,179.0156 157.875,179.2813 Q157.8438,180.7656 157.1875,181.5781 Q156.5781,182.375 156.5,182.375 Q155.1719,182.375 154.3906,180.7813 Q153.6406,179.2344 153.6406,176.75 Q153.6406,174.125 154.5781,172.6719 Q155.4063,171.4219 156.6875,171.4219 Q156.6875,171.4219 157.0313,172.0469 Q157.6563,172.7188 157.7969,173.875 Q157.9063,174.4531 159.375,174.2344 Q159.9063,174.1563 159.875,173.7344 Q159.7031,172.2969 158.9844,171.4844 Q158.125,170.5156 156.5625,170.5156 Z \"/><text fill=\"#000000\" font-family=\"sans-serif\" font-size=\"12\" lengthAdjust=\"spacingAndGlyphs\" textLength=\"59\" x=\"171\" y=\"182.6045\">DarkRoast</text><line style=\"stroke: #A80036; stroke-width: 1.5;\" x1=\"143\" x2=\"232\" y1=\"193\" y2=\"193\"/><line style=\"stroke: #A80036; stroke-width: 1.5;\" x1=\"143\" x2=\"232\" y1=\"201\" y2=\"201\"/><text fill=\"#000000\" font-family=\"sans-serif\" font-size=\"11\" lengthAdjust=\"spacingAndGlyphs\" textLength=\"29\" x=\"148\" y=\"217.6919\">cost()</text><rect fill=\"#FEFECE\" filter=\"url(#f1)\" height=\"63.1089\" style=\"stroke: #A80036; stroke-width: 1.5;\" width=\"86\" x=\"268.5\" y=\"161\"/><ellipse cx=\"283.5\" cy=\"177\" fill=\"#ADD1B2\" rx=\"11\" ry=\"11\" style=\"stroke: #A80036; stroke-width: 1.0;\"/><path d=\"M283.0625,170.5156 Q280.3281,170.5156 279.25,172.1406 Q278.1094,173.8594 278.1094,176.7813 Q278.1094,180.0781 279.2656,181.7813 Q280.25,183.2813 282.8594,183.2813 Q284.4375,183.2813 285.3125,182.4531 Q286.2969,181.5 286.4375,179.375 Q286.4375,179.0781 286.2656,178.9063 Q286.1406,178.75 285.9219,178.7344 Q284.7031,178.7344 284.5469,178.8594 Q284.375,179.0156 284.375,179.2813 Q284.3438,180.7656 283.6875,181.5781 Q283.0781,182.375 283,182.375 Q281.6719,182.375 280.8906,180.7813 Q280.1406,179.2344 280.1406,176.75 Q280.1406,174.125 281.0781,172.6719 Q281.9063,171.4219 283.1875,171.4219 Q283.1875,171.4219 283.5313,172.0469 Q284.1563,172.7188 284.2969,173.875 Q284.4063,174.4531 285.875,174.2344 Q286.4063,174.1563 286.375,173.7344 Q286.2031,172.2969 285.4844,171.4844 Q284.625,170.5156 283.0625,170.5156 Z \"/><text fill=\"#000000\" font-family=\"sans-serif\" font-size=\"12\" lengthAdjust=\"spacingAndGlyphs\" textLength=\"54\" x=\"297.5\" y=\"182.6045\">Espresso</text><line style=\"stroke: #A80036; stroke-width: 1.5;\" x1=\"269.5\" x2=\"353.5\" y1=\"193\" y2=\"193\"/><line style=\"stroke: #A80036; stroke-width: 1.5;\" x1=\"269.5\" x2=\"353.5\" y1=\"201\" y2=\"201\"/><text fill=\"#000000\" font-family=\"sans-serif\" font-size=\"11\" lengthAdjust=\"spacingAndGlyphs\" textLength=\"29\" x=\"274.5\" y=\"217.6919\">cost()</text><rect fill=\"#FEFECE\" filter=\"url(#f1)\" height=\"63.1089\" style=\"stroke: #A80036; stroke-width: 1.5;\" width=\"64\" x=\"389.5\" y=\"161\"/><ellipse cx=\"404.5\" cy=\"177\" fill=\"#ADD1B2\" rx=\"11\" ry=\"11\" style=\"stroke: #A80036; stroke-width: 1.0;\"/><path d=\"M404.0625,170.5156 Q401.3281,170.5156 400.25,172.1406 Q399.1094,173.8594 399.1094,176.7813 Q399.1094,180.0781 400.2656,181.7813 Q401.25,183.2813 403.8594,183.2813 Q405.4375,183.2813 406.3125,182.4531 Q407.2969,181.5 407.4375,179.375 Q407.4375,179.0781 407.2656,178.9063 Q407.1406,178.75 406.9219,178.7344 Q405.7031,178.7344 405.5469,178.8594 Q405.375,179.0156 405.375,179.2813 Q405.3438,180.7656 404.6875,181.5781 Q404.0781,182.375 404,182.375 Q402.6719,182.375 401.8906,180.7813 Q401.1406,179.2344 401.1406,176.75 Q401.1406,174.125 402.0781,172.6719 Q402.9063,171.4219 404.1875,171.4219 Q404.1875,171.4219 404.5313,172.0469 Q405.1563,172.7188 405.2969,173.875 Q405.4063,174.4531 406.875,174.2344 Q407.4063,174.1563 407.375,173.7344 Q407.2031,172.2969 406.4844,171.4844 Q405.625,170.5156 404.0625,170.5156 Z \"/><text fill=\"#000000\" font-family=\"sans-serif\" font-size=\"12\" lengthAdjust=\"spacingAndGlyphs\" textLength=\"32\" x=\"418.5\" y=\"182.6045\">Decaf</text><line style=\"stroke: #A80036; stroke-width: 1.5;\" x1=\"390.5\" x2=\"452.5\" y1=\"193\" y2=\"193\"/><line style=\"stroke: #A80036; stroke-width: 1.5;\" x1=\"390.5\" x2=\"452.5\" y1=\"201\" y2=\"201\"/><text fill=\"#000000\" font-family=\"sans-serif\" font-size=\"11\" lengthAdjust=\"spacingAndGlyphs\" textLength=\"29\" x=\"395.5\" y=\"217.6919\">cost()</text><rect fill=\"#FEFECE\" filter=\"url(#f1)\" height=\"63.1089\" style=\"stroke: #A80036; stroke-width: 1.5;\" width=\"147\" x=\"489\" y=\"161\"/><ellipse cx=\"504\" cy=\"177\" fill=\"#ADD1B2\" rx=\"11\" ry=\"11\" style=\"stroke: #A80036; stroke-width: 1.0;\"/><path d=\"M503.5625,170.5156 Q500.8281,170.5156 499.75,172.1406 Q498.6094,173.8594 498.6094,176.7813 Q498.6094,180.0781 499.7656,181.7813 Q500.75,183.2813 503.3594,183.2813 Q504.9375,183.2813 505.8125,182.4531 Q506.7969,181.5 506.9375,179.375 Q506.9375,179.0781 506.7656,178.9063 Q506.6406,178.75 506.4219,178.7344 Q505.2031,178.7344 505.0469,178.8594 Q504.875,179.0156 504.875,179.2813 Q504.8438,180.7656 504.1875,181.5781 Q503.5781,182.375 503.5,182.375 Q502.1719,182.375 501.3906,180.7813 Q500.6406,179.2344 500.6406,176.75 Q500.6406,174.125 501.5781,172.6719 Q502.4063,171.4219 503.6875,171.4219 Q503.6875,171.4219 504.0313,172.0469 Q504.6563,172.7188 504.7969,173.875 Q504.9063,174.4531 506.375,174.2344 Q506.9063,174.1563 506.875,173.7344 Q506.7031,172.2969 505.9844,171.4844 Q505.125,170.5156 503.5625,170.5156 Z \"/><text fill=\"#000000\" font-family=\"sans-serif\" font-size=\"12\" lengthAdjust=\"spacingAndGlyphs\" textLength=\"115\" x=\"518\" y=\"182.6045\">CondimentDecorator</text><line style=\"stroke: #A80036; stroke-width: 1.5;\" x1=\"490\" x2=\"635\" y1=\"193\" y2=\"193\"/><line style=\"stroke: #A80036; stroke-width: 1.5;\" x1=\"490\" x2=\"635\" y1=\"201\" y2=\"201\"/><text fill=\"#000000\" font-family=\"sans-serif\" font-size=\"11\" lengthAdjust=\"spacingAndGlyphs\" textLength=\"77\" x=\"495\" y=\"217.6919\">getDescription()</text><rect fill=\"#FEFECE\" filter=\"url(#f1)\" height=\"93.3267\" style=\"stroke: #A80036; stroke-width: 1.5;\" width=\"108\" x=\"365.5\" y=\"284\"/><ellipse cx=\"405.25\" cy=\"300\" fill=\"#ADD1B2\" rx=\"11\" ry=\"11\" style=\"stroke: #A80036; stroke-width: 1.0;\"/><path d=\"M404.8125,293.5156 Q402.0781,293.5156 401,295.1406 Q399.8594,296.8594 399.8594,299.7813 Q399.8594,303.0781 401.0156,304.7813 Q402,306.2813 404.6094,306.2813 Q406.1875,306.2813 407.0625,305.4531 Q408.0469,304.5 408.1875,302.375 Q408.1875,302.0781 408.0156,301.9063 Q407.8906,301.75 407.6719,301.7344 Q406.4531,301.7344 406.2969,301.8594 Q406.125,302.0156 406.125,302.2813 Q406.0938,303.7656 405.4375,304.5781 Q404.8281,305.375 404.75,305.375 Q403.4219,305.375 402.6406,303.7813 Q401.8906,302.2344 401.8906,299.75 Q401.8906,297.125 402.8281,295.6719 Q403.6563,294.4219 404.9375,294.4219 Q404.9375,294.4219 405.2813,295.0469 Q405.9063,295.7188 406.0469,296.875 Q406.1563,297.4531 407.625,297.2344 Q408.1563,297.1563 408.125,296.7344 Q407.9531,295.2969 407.2344,294.4844 Q406.375,293.5156 404.8125,293.5156 Z \"/><text fill=\"#000000\" font-family=\"sans-serif\" font-size=\"12\" lengthAdjust=\"spacingAndGlyphs\" textLength=\"21\" x=\"424.75\" y=\"305.6045\">Milk</text><line style=\"stroke: #A80036; stroke-width: 1.5;\" x1=\"366.5\" x2=\"472.5\" y1=\"316\" y2=\"316\"/><text fill=\"#000000\" font-family=\"sans-serif\" font-size=\"11\" lengthAdjust=\"spacingAndGlyphs\" textLength=\"96\" x=\"371.5\" y=\"332.6919\">Beverage beverage</text><line style=\"stroke: #A80036; stroke-width: 1.5;\" x1=\"366.5\" x2=\"472.5\" y1=\"339.1089\" y2=\"339.1089\"/><text fill=\"#000000\" font-family=\"sans-serif\" font-size=\"11\" lengthAdjust=\"spacingAndGlyphs\" textLength=\"29\" x=\"371.5\" y=\"355.8008\">cost()</text><text fill=\"#000000\" font-family=\"sans-serif\" font-size=\"11\" lengthAdjust=\"spacingAndGlyphs\" textLength=\"77\" x=\"371.5\" y=\"370.9097\">getDescription()</text><rect fill=\"#FEFECE\" filter=\"url(#f1)\" height=\"93.3267\" style=\"stroke: #A80036; stroke-width: 1.5;\" width=\"108\" x=\"508.5\" y=\"284\"/><ellipse cx=\"541.5\" cy=\"300\" fill=\"#ADD1B2\" rx=\"11\" ry=\"11\" style=\"stroke: #A80036; stroke-width: 1.0;\"/><path d=\"M541.0625,293.5156 Q538.3281,293.5156 537.25,295.1406 Q536.1094,296.8594 536.1094,299.7813 Q536.1094,303.0781 537.2656,304.7813 Q538.25,306.2813 540.8594,306.2813 Q542.4375,306.2813 543.3125,305.4531 Q544.2969,304.5 544.4375,302.375 Q544.4375,302.0781 544.2656,301.9063 Q544.1406,301.75 543.9219,301.7344 Q542.7031,301.7344 542.5469,301.8594 Q542.375,302.0156 542.375,302.2813 Q542.3438,303.7656 541.6875,304.5781 Q541.0781,305.375 541,305.375 Q539.6719,305.375 538.8906,303.7813 Q538.1406,302.2344 538.1406,299.75 Q538.1406,297.125 539.0781,295.6719 Q539.9063,294.4219 541.1875,294.4219 Q541.1875,294.4219 541.5313,295.0469 Q542.1563,295.7188 542.2969,296.875 Q542.4063,297.4531 543.875,297.2344 Q544.4063,297.1563 544.375,296.7344 Q544.2031,295.2969 543.4844,294.4844 Q542.625,293.5156 541.0625,293.5156 Z \"/><text fill=\"#000000\" font-family=\"sans-serif\" font-size=\"12\" lengthAdjust=\"spacingAndGlyphs\" textLength=\"36\" x=\"559.5\" y=\"305.6045\">Mocha</text><line style=\"stroke: #A80036; stroke-width: 1.5;\" x1=\"509.5\" x2=\"615.5\" y1=\"316\" y2=\"316\"/><text fill=\"#000000\" font-family=\"sans-serif\" font-size=\"11\" lengthAdjust=\"spacingAndGlyphs\" textLength=\"96\" x=\"514.5\" y=\"332.6919\">Beverage beverage</text><line style=\"stroke: #A80036; stroke-width: 1.5;\" x1=\"509.5\" x2=\"615.5\" y1=\"339.1089\" y2=\"339.1089\"/><text fill=\"#000000\" font-family=\"sans-serif\" font-size=\"11\" lengthAdjust=\"spacingAndGlyphs\" textLength=\"29\" x=\"514.5\" y=\"355.8008\">cost()</text><text fill=\"#000000\" font-family=\"sans-serif\" font-size=\"11\" lengthAdjust=\"spacingAndGlyphs\" textLength=\"77\" x=\"514.5\" y=\"370.9097\">getDescription()</text><rect fill=\"#FEFECE\" filter=\"url(#f1)\" height=\"93.3267\" style=\"stroke: #A80036; stroke-width: 1.5;\" width=\"108\" x=\"651.5\" y=\"284\"/><ellipse cx=\"691.7\" cy=\"300\" fill=\"#ADD1B2\" rx=\"11\" ry=\"11\" style=\"stroke: #A80036; stroke-width: 1.0;\"/><path d=\"M691.2625,293.5156 Q688.5281,293.5156 687.45,295.1406 Q686.3094,296.8594 686.3094,299.7813 Q686.3094,303.0781 687.4656,304.7813 Q688.45,306.2813 691.0594,306.2813 Q692.6375,306.2813 693.5125,305.4531 Q694.4969,304.5 694.6375,302.375 Q694.6375,302.0781 694.4656,301.9063 Q694.3406,301.75 694.1219,301.7344 Q692.9031,301.7344 692.7469,301.8594 Q692.575,302.0156 692.575,302.2813 Q692.5438,303.7656 691.8875,304.5781 Q691.2781,305.375 691.2,305.375 Q689.8719,305.375 689.0906,303.7813 Q688.3406,302.2344 688.3406,299.75 Q688.3406,297.125 689.2781,295.6719 Q690.1063,294.4219 691.3875,294.4219 Q691.3875,294.4219 691.7313,295.0469 Q692.3563,295.7188 692.4969,296.875 Q692.6063,297.4531 694.075,297.2344 Q694.6063,297.1563 694.575,296.7344 Q694.4031,295.2969 693.6844,294.4844 Q692.825,293.5156 691.2625,293.5156 Z \"/><text fill=\"#000000\" font-family=\"sans-serif\" font-size=\"12\" lengthAdjust=\"spacingAndGlyphs\" textLength=\"20\" x=\"711.3\" y=\"305.6045\">Soy</text><line style=\"stroke: #A80036; stroke-width: 1.5;\" x1=\"652.5\" x2=\"758.5\" y1=\"316\" y2=\"316\"/><text fill=\"#000000\" font-family=\"sans-serif\" font-size=\"11\" lengthAdjust=\"spacingAndGlyphs\" textLength=\"96\" x=\"657.5\" y=\"332.6919\">Beverage beverage</text><line style=\"stroke: #A80036; stroke-width: 1.5;\" x1=\"652.5\" x2=\"758.5\" y1=\"339.1089\" y2=\"339.1089\"/><text fill=\"#000000\" font-family=\"sans-serif\" font-size=\"11\" lengthAdjust=\"spacingAndGlyphs\" textLength=\"29\" x=\"657.5\" y=\"355.8008\">cost()</text><text fill=\"#000000\" font-family=\"sans-serif\" font-size=\"11\" lengthAdjust=\"spacingAndGlyphs\" textLength=\"77\" x=\"657.5\" y=\"370.9097\">getDescription()</text><path d=\"M303.198,82.88 C254.328,104.07 185.054,134.222 124.5,161 C118.938,163.459 113.127,166.044 107.345,168.625 \" fill=\"none\" style=\"stroke: #A80036; stroke-width: 1.0;\"/><polygon fill=\"none\" points=\"300.701,76.333,321.836,74.804,306.268,89.179,300.701,76.333\" style=\"stroke: #A80036; stroke-width: 1.0;\"/><path d=\"M305.509,101.84 C279.805,121.369 250.598,143.559 227.672,160.978 \" fill=\"none\" style=\"stroke: #A80036; stroke-width: 1.0;\"/><polygon fill=\"none\" points=\"301.633,95.993,321.792,89.468,310.102,107.141,301.633,95.993\" style=\"stroke: #A80036; stroke-width: 1.0;\"/><path d=\"M340.365,120.124 C334.638,134.287 328.831,148.645 323.942,160.734 \" fill=\"none\" style=\"stroke: #A80036; stroke-width: 1.0;\"/><polygon fill=\"none\" points=\"334.045,117.081,348.033,101.164,347.024,122.33,334.045,117.081\" style=\"stroke: #A80036; stroke-width: 1.0;\"/><path d=\"M392.635,120.124 C398.362,134.287 404.169,148.645 409.058,160.734 \" fill=\"none\" style=\"stroke: #A80036; stroke-width: 1.0;\"/><polygon fill=\"none\" points=\"385.976,122.33,384.967,101.164,398.955,117.081,385.976,122.33\" style=\"stroke: #A80036; stroke-width: 1.0;\"/><path d=\"M427.244,106.237 C452.942,124.631 482.561,144.828 507.62,160.947 \" fill=\"none\" style=\"stroke: #A80036; stroke-width: 1.0;\"/><polygon fill=\"none\" points=\"423.097,111.877,411.01,94.472,431.312,100.541,423.097,111.877\" style=\"stroke: #A80036; stroke-width: 1.0;\"/><path d=\"M415.487,81.899 C451.328,104.535 498.528,137.16 529.925,160.926 \" fill=\"none\" style=\"stroke: #A80036; stroke-width: 1.0;\"/><polygon fill=\"#A80036\" points=\"411.174,79.189,416.6659,87.3645,415.4075,81.8494,420.9226,80.5909,411.174,79.189\" style=\"stroke: #A80036; stroke-width: 1.0;\"/><path d=\"M515.676,238.032 C500.234,252.718 483.042,269.069 467.512,283.8379 \" fill=\"none\" style=\"stroke: #A80036; stroke-width: 1.0;\"/><polygon fill=\"none\" points=\"511.092,232.732,530.408,224.021,520.74,242.876,511.092,232.732\" style=\"stroke: #A80036; stroke-width: 1.0;\"/><path d=\"M562.5,244.082 C562.5,257.117 562.5,271.069 562.5,283.8379 \" fill=\"none\" style=\"stroke: #A80036; stroke-width: 1.0;\"/><polygon fill=\"none\" points=\"555.5,244.021,562.5,224.021,569.5,244.021,555.5,244.021\" style=\"stroke: #A80036; stroke-width: 1.0;\"/><path d=\"M609.324,238.032 C624.766,252.718 641.958,269.069 657.488,283.8379 \" fill=\"none\" style=\"stroke: #A80036; stroke-width: 1.0;\"/><polygon fill=\"none\" points=\"604.26,242.876,594.592,224.021,613.908,232.732,604.26,242.876\" style=\"stroke: #A80036; stroke-width: 1.0;\"/></g></svg>"
      ],
      "text/plain": [
       "<IPython.core.display.SVG object>"
      ]
     },
     "execution_count": 8,
     "metadata": {},
     "output_type": "execute_result"
    }
   ],
   "source": [
    "%%plantuml\n",
    "\n",
    "@startuml\n",
    "\n",
    "class Beverage {\n",
    "    description\n",
    "    getDescription()\n",
    "    cost()\n",
    "}\n",
    "\n",
    "Beverage <|-- HouseBlend\n",
    "Beverage <|-- DarkRoast\n",
    "Beverage <|-- Espresso\n",
    "Beverage <|-- Decaf\n",
    "Beverage <|-- CondimentDecorator\n",
    "Beverage <-- CondimentDecorator\n",
    "\n",
    "class HouseBlend {\n",
    "    cost()\n",
    "}\n",
    "class DarkRoast {\n",
    "    cost()\n",
    "}\n",
    "class Espresso {\n",
    "    cost()\n",
    "}\n",
    "class Decaf {\n",
    "    cost()\n",
    "}\n",
    "class CondimentDecorator {\n",
    "    getDescription()\n",
    "}\n",
    "\n",
    "CondimentDecorator <|-- Milk\n",
    "CondimentDecorator <|-- Mocha\n",
    "CondimentDecorator <|-- Soy\n",
    "\n",
    "class Milk {\n",
    "    Beverage beverage\n",
    "    cost()\n",
    "    getDescription()\n",
    "}\n",
    "class Mocha {\n",
    "    Beverage beverage\n",
    "    cost()\n",
    "    getDescription()\n",
    "}\n",
    "class Soy {\n",
    "    Beverage beverage\n",
    "    cost()\n",
    "    getDescription()\n",
    "}\n",
    "\n",
    "@enduml"
   ]
  },
  {
   "cell_type": "code",
   "execution_count": 22,
   "metadata": {
    "collapsed": false
   },
   "outputs": [
    {
     "data": {
      "image/svg+xml": [
       "<svg height=\"401px\" style=\"width:779px;height:401px;\" version=\"1.1\" viewBox=\"0 0 779 401\" width=\"779px\" xmlns=\"http://www.w3.org/2000/svg\" xmlns:xlink=\"http://www.w3.org/1999/xlink\"><defs><filter height=\"300%\" id=\"f1\" width=\"300%\" x=\"-1\" y=\"-1\"><feGaussianBlur result=\"blurOut\" stdDeviation=\"2.0\"/><feColorMatrix in=\"blurOut\" result=\"blurOut2\" type=\"matrix\" values=\"0 0 0 0 0 0 0 0 0 0 0 0 0 0 0 0 0 0 .4 0\"/><feOffset dx=\"4.0\" dy=\"4.0\" in=\"blurOut2\" result=\"blurOut3\"/><feBlend in=\"SourceGraphic\" in2=\"blurOut3\" mode=\"normal\"/></filter></defs><g><rect fill=\"#FEFECE\" filter=\"url(#f1)\" height=\"93.3267\" style=\"stroke: #A80036; stroke-width: 1.5;\" width=\"232\" x=\"339\" y=\"8\"/><ellipse cx=\"424.25\" cy=\"24\" fill=\"#A9DCDF\" rx=\"11\" ry=\"11\" style=\"stroke: #A80036; stroke-width: 1.0;\"/><path d=\"M422.2813,24.3906 L423.7813,18.9688 L424.75,24.3906 L422.2813,24.3906 Z M422.1719,17.4688 L419.0313,28.7969 Q418.9063,29.0938 419,29.2969 Q419.0781,29.4844 419.2969,29.5313 Q420.1563,29.7344 420.6875,29.4688 Q420.875,29.3438 420.9688,29.1406 L422.0313,25.2969 L424.9688,25.2969 L426.0313,29.1875 Q426.0781,29.4063 426.2656,29.5 Q426.7656,29.7188 427.6406,29.5313 Q427.8281,29.4844 427.9531,29.3125 Q428.0625,29.1563 428,28.9219 L424.875,17.4688 Q424.6094,16.7813 424.0156,16.7656 Q422.4063,16.7656 422.1719,17.4688 Z \"/><text fill=\"#000000\" font-family=\"sans-serif\" font-size=\"12\" font-style=\"italic\" lengthAdjust=\"spacingAndGlyphs\" textLength=\"53\" x=\"444.75\" y=\"29.6045\">Beverage</text><line style=\"stroke: #A80036; stroke-width: 1.5;\" x1=\"340\" x2=\"570\" y1=\"40\" y2=\"40\"/><rect fill=\"none\" height=\"6\" style=\"stroke: #C82930; stroke-width: 1.0;\" width=\"6\" x=\"347\" y=\"50.0544\"/><text fill=\"#000000\" font-family=\"sans-serif\" font-size=\"11\" lengthAdjust=\"spacingAndGlyphs\" textLength=\"206\" x=\"359\" y=\"56.6919\">description = &quot;Unknown Beverage&quot; : String</text><line style=\"stroke: #A80036; stroke-width: 1.5;\" x1=\"340\" x2=\"570\" y1=\"63.1089\" y2=\"63.1089\"/><ellipse cx=\"350\" cy=\"76.1633\" fill=\"#84BE84\" rx=\"3\" ry=\"3\" style=\"stroke: #038048; stroke-width: 1.0;\"/><text fill=\"#000000\" font-family=\"sans-serif\" font-size=\"11\" lengthAdjust=\"spacingAndGlyphs\" textLength=\"114\" x=\"359\" y=\"79.8008\">getDescription() : String</text><ellipse cx=\"350\" cy=\"91.2722\" fill=\"#84BE84\" rx=\"3\" ry=\"3\" style=\"stroke: #038048; stroke-width: 1.0;\"/><text fill=\"#000000\" font-family=\"sans-serif\" font-size=\"11\" lengthAdjust=\"spacingAndGlyphs\" textLength=\"113\" x=\"359\" y=\"94.9097\">abstract cost() : double</text><rect fill=\"#FEFECE\" filter=\"url(#f1)\" height=\"78.2178\" style=\"stroke: #A80036; stroke-width: 1.5;\" width=\"183\" x=\"188.5\" y=\"161\"/><ellipse cx=\"219.7\" cy=\"177\" fill=\"#A9DCDF\" rx=\"11\" ry=\"11\" style=\"stroke: #A80036; stroke-width: 1.0;\"/><path d=\"M217.7313,177.3906 L219.2313,171.9688 L220.2,177.3906 L217.7313,177.3906 Z M217.6219,170.4688 L214.4813,181.7969 Q214.3563,182.0938 214.45,182.2969 Q214.5281,182.4844 214.7469,182.5313 Q215.6063,182.7344 216.1375,182.4688 Q216.325,182.3438 216.4188,182.1406 L217.4813,178.2969 L220.4188,178.2969 L221.4813,182.1875 Q221.5281,182.4063 221.7156,182.5 Q222.2156,182.7188 223.0906,182.5313 Q223.2781,182.4844 223.4031,182.3125 Q223.5125,182.1563 223.45,181.9219 L220.325,170.4688 Q220.0594,169.7813 219.4656,169.7656 Q217.8563,169.7656 217.6219,170.4688 Z \"/><text fill=\"#000000\" font-family=\"sans-serif\" font-size=\"12\" font-style=\"italic\" lengthAdjust=\"spacingAndGlyphs\" textLength=\"115\" x=\"237.3\" y=\"182.6045\">CondimentDecorator</text><line style=\"stroke: #A80036; stroke-width: 1.5;\" x1=\"189.5\" x2=\"370.5\" y1=\"193\" y2=\"193\"/><rect fill=\"none\" height=\"6\" style=\"stroke: #C82930; stroke-width: 1.0;\" width=\"6\" x=\"196.5\" y=\"203.0544\"/><text fill=\"#000000\" font-family=\"sans-serif\" font-size=\"11\" lengthAdjust=\"spacingAndGlyphs\" textLength=\"102\" x=\"208.5\" y=\"209.6919\">beverage : Beverage</text><line style=\"stroke: #A80036; stroke-width: 1.5;\" x1=\"189.5\" x2=\"370.5\" y1=\"216.1089\" y2=\"216.1089\"/><ellipse cx=\"199.5\" cy=\"229.1633\" fill=\"#84BE84\" rx=\"3\" ry=\"3\" style=\"stroke: #038048; stroke-width: 1.0;\"/><text fill=\"#000000\" font-family=\"sans-serif\" font-size=\"11\" lengthAdjust=\"spacingAndGlyphs\" textLength=\"157\" x=\"208.5\" y=\"232.8008\">abstract getDescription() : String</text><rect fill=\"#FEFECE\" filter=\"url(#f1)\" height=\"78.2178\" style=\"stroke: #A80036; stroke-width: 1.5;\" width=\"96\" x=\"407\" y=\"161\"/><ellipse cx=\"426.5\" cy=\"177\" fill=\"#ADD1B2\" rx=\"11\" ry=\"11\" style=\"stroke: #A80036; stroke-width: 1.0;\"/><path d=\"M426.0625,170.5156 Q423.3281,170.5156 422.25,172.1406 Q421.1094,173.8594 421.1094,176.7813 Q421.1094,180.0781 422.2656,181.7813 Q423.25,183.2813 425.8594,183.2813 Q427.4375,183.2813 428.3125,182.4531 Q429.2969,181.5 429.4375,179.375 Q429.4375,179.0781 429.2656,178.9063 Q429.1406,178.75 428.9219,178.7344 Q427.7031,178.7344 427.5469,178.8594 Q427.375,179.0156 427.375,179.2813 Q427.3438,180.7656 426.6875,181.5781 Q426.0781,182.375 426,182.375 Q424.6719,182.375 423.8906,180.7813 Q423.1406,179.2344 423.1406,176.75 Q423.1406,174.125 424.0781,172.6719 Q424.9063,171.4219 426.1875,171.4219 Q426.1875,171.4219 426.5313,172.0469 Q427.1563,172.7188 427.2969,173.875 Q427.4063,174.4531 428.875,174.2344 Q429.4063,174.1563 429.375,173.7344 Q429.2031,172.2969 428.4844,171.4844 Q427.625,170.5156 426.0625,170.5156 Z \"/><text fill=\"#000000\" font-family=\"sans-serif\" font-size=\"12\" lengthAdjust=\"spacingAndGlyphs\" textLength=\"54\" x=\"441.5\" y=\"182.6045\">Espresso</text><line style=\"stroke: #A80036; stroke-width: 1.5;\" x1=\"408\" x2=\"502\" y1=\"193\" y2=\"193\"/><line style=\"stroke: #A80036; stroke-width: 1.5;\" x1=\"408\" x2=\"502\" y1=\"201\" y2=\"201\"/><ellipse cx=\"418\" cy=\"214.0544\" fill=\"#84BE84\" rx=\"3\" ry=\"3\" style=\"stroke: #038048; stroke-width: 1.0;\"/><text fill=\"#000000\" font-family=\"sans-serif\" font-size=\"11\" lengthAdjust=\"spacingAndGlyphs\" textLength=\"54\" x=\"427\" y=\"217.6919\">Espresso()</text><ellipse cx=\"418\" cy=\"229.1633\" fill=\"#84BE84\" rx=\"3\" ry=\"3\" style=\"stroke: #038048; stroke-width: 1.0;\"/><text fill=\"#000000\" font-family=\"sans-serif\" font-size=\"11\" lengthAdjust=\"spacingAndGlyphs\" textLength=\"70\" x=\"427\" y=\"232.8008\">cost() : double</text><rect fill=\"#FEFECE\" filter=\"url(#f1)\" height=\"78.2178\" style=\"stroke: #A80036; stroke-width: 1.5;\" width=\"96\" x=\"538\" y=\"161\"/><ellipse cx=\"555.25\" cy=\"177\" fill=\"#ADD1B2\" rx=\"11\" ry=\"11\" style=\"stroke: #A80036; stroke-width: 1.0;\"/><path d=\"M554.8125,170.5156 Q552.0781,170.5156 551,172.1406 Q549.8594,173.8594 549.8594,176.7813 Q549.8594,180.0781 551.0156,181.7813 Q552,183.2813 554.6094,183.2813 Q556.1875,183.2813 557.0625,182.4531 Q558.0469,181.5 558.1875,179.375 Q558.1875,179.0781 558.0156,178.9063 Q557.8906,178.75 557.6719,178.7344 Q556.4531,178.7344 556.2969,178.8594 Q556.125,179.0156 556.125,179.2813 Q556.0938,180.7656 555.4375,181.5781 Q554.8281,182.375 554.75,182.375 Q553.4219,182.375 552.6406,180.7813 Q551.8906,179.2344 551.8906,176.75 Q551.8906,174.125 552.8281,172.6719 Q553.6563,171.4219 554.9375,171.4219 Q554.9375,171.4219 555.2813,172.0469 Q555.9063,172.7188 556.0469,173.875 Q556.1563,174.4531 557.625,174.2344 Q558.1563,174.1563 558.125,173.7344 Q557.9531,172.2969 557.2344,171.4844 Q556.375,170.5156 554.8125,170.5156 Z \"/><text fill=\"#000000\" font-family=\"sans-serif\" font-size=\"12\" lengthAdjust=\"spacingAndGlyphs\" textLength=\"59\" x=\"569.75\" y=\"182.6045\">DarkRoast</text><line style=\"stroke: #A80036; stroke-width: 1.5;\" x1=\"539\" x2=\"633\" y1=\"193\" y2=\"193\"/><line style=\"stroke: #A80036; stroke-width: 1.5;\" x1=\"539\" x2=\"633\" y1=\"201\" y2=\"201\"/><ellipse cx=\"549\" cy=\"214.0544\" fill=\"#84BE84\" rx=\"3\" ry=\"3\" style=\"stroke: #038048; stroke-width: 1.0;\"/><text fill=\"#000000\" font-family=\"sans-serif\" font-size=\"11\" lengthAdjust=\"spacingAndGlyphs\" textLength=\"58\" x=\"558\" y=\"217.6919\">DarkRoast()</text><ellipse cx=\"549\" cy=\"229.1633\" fill=\"#84BE84\" rx=\"3\" ry=\"3\" style=\"stroke: #038048; stroke-width: 1.0;\"/><text fill=\"#000000\" font-family=\"sans-serif\" font-size=\"11\" lengthAdjust=\"spacingAndGlyphs\" textLength=\"70\" x=\"558\" y=\"232.8008\">cost() : double</text><rect fill=\"#FEFECE\" filter=\"url(#f1)\" height=\"78.2178\" style=\"stroke: #A80036; stroke-width: 1.5;\" width=\"101\" x=\"669.5\" y=\"161\"/><ellipse cx=\"684.5\" cy=\"177\" fill=\"#ADD1B2\" rx=\"11\" ry=\"11\" style=\"stroke: #A80036; stroke-width: 1.0;\"/><path d=\"M684.0625,170.5156 Q681.3281,170.5156 680.25,172.1406 Q679.1094,173.8594 679.1094,176.7813 Q679.1094,180.0781 680.2656,181.7813 Q681.25,183.2813 683.8594,183.2813 Q685.4375,183.2813 686.3125,182.4531 Q687.2969,181.5 687.4375,179.375 Q687.4375,179.0781 687.2656,178.9063 Q687.1406,178.75 686.9219,178.7344 Q685.7031,178.7344 685.5469,178.8594 Q685.375,179.0156 685.375,179.2813 Q685.3438,180.7656 684.6875,181.5781 Q684.0781,182.375 684,182.375 Q682.6719,182.375 681.8906,180.7813 Q681.1406,179.2344 681.1406,176.75 Q681.1406,174.125 682.0781,172.6719 Q682.9063,171.4219 684.1875,171.4219 Q684.1875,171.4219 684.5313,172.0469 Q685.1563,172.7188 685.2969,173.875 Q685.4063,174.4531 686.875,174.2344 Q687.4063,174.1563 687.375,173.7344 Q687.2031,172.2969 686.4844,171.4844 Q685.625,170.5156 684.0625,170.5156 Z \"/><text fill=\"#000000\" font-family=\"sans-serif\" font-size=\"12\" lengthAdjust=\"spacingAndGlyphs\" textLength=\"69\" x=\"698.5\" y=\"182.6045\">HouseBlend</text><line style=\"stroke: #A80036; stroke-width: 1.5;\" x1=\"670.5\" x2=\"769.5\" y1=\"193\" y2=\"193\"/><line style=\"stroke: #A80036; stroke-width: 1.5;\" x1=\"670.5\" x2=\"769.5\" y1=\"201\" y2=\"201\"/><ellipse cx=\"680.5\" cy=\"214.0544\" fill=\"#84BE84\" rx=\"3\" ry=\"3\" style=\"stroke: #038048; stroke-width: 1.0;\"/><text fill=\"#000000\" font-family=\"sans-serif\" font-size=\"11\" lengthAdjust=\"spacingAndGlyphs\" textLength=\"66\" x=\"689.5\" y=\"217.6919\">HouseBlend()</text><ellipse cx=\"680.5\" cy=\"229.1633\" fill=\"#84BE84\" rx=\"3\" ry=\"3\" style=\"stroke: #038048; stroke-width: 1.0;\"/><text fill=\"#000000\" font-family=\"sans-serif\" font-size=\"11\" lengthAdjust=\"spacingAndGlyphs\" textLength=\"70\" x=\"689.5\" y=\"232.8008\">cost() : double</text><rect fill=\"#FEFECE\" filter=\"url(#f1)\" height=\"93.3267\" style=\"stroke: #A80036; stroke-width: 1.5;\" width=\"162\" x=\"6\" y=\"299\"/><ellipse cx=\"64.75\" cy=\"315\" fill=\"#ADD1B2\" rx=\"11\" ry=\"11\" style=\"stroke: #A80036; stroke-width: 1.0;\"/><path d=\"M64.3125,308.5156 Q61.5781,308.5156 60.5,310.1406 Q59.3594,311.8594 59.3594,314.7813 Q59.3594,318.0781 60.5156,319.7813 Q61.5,321.2813 64.1094,321.2813 Q65.6875,321.2813 66.5625,320.4531 Q67.5469,319.5 67.6875,317.375 Q67.6875,317.0781 67.5156,316.9063 Q67.3906,316.75 67.1719,316.7344 Q65.9531,316.7344 65.7969,316.8594 Q65.625,317.0156 65.625,317.2813 Q65.5938,318.7656 64.9375,319.5781 Q64.3281,320.375 64.25,320.375 Q62.9219,320.375 62.1406,318.7813 Q61.3906,317.2344 61.3906,314.75 Q61.3906,312.125 62.3281,310.6719 Q63.1563,309.4219 64.4375,309.4219 Q64.4375,309.4219 64.7813,310.0469 Q65.4063,310.7188 65.5469,311.875 Q65.6563,312.4531 67.125,312.2344 Q67.6563,312.1563 67.625,311.7344 Q67.4531,310.2969 66.7344,309.4844 Q65.875,308.5156 64.3125,308.5156 Z \"/><text fill=\"#000000\" font-family=\"sans-serif\" font-size=\"12\" lengthAdjust=\"spacingAndGlyphs\" textLength=\"36\" x=\"85.25\" y=\"320.6045\">Mocha</text><line style=\"stroke: #A80036; stroke-width: 1.5;\" x1=\"7\" x2=\"167\" y1=\"331\" y2=\"331\"/><line style=\"stroke: #A80036; stroke-width: 1.5;\" x1=\"7\" x2=\"167\" y1=\"339\" y2=\"339\"/><ellipse cx=\"17\" cy=\"352.0544\" fill=\"#84BE84\" rx=\"3\" ry=\"3\" style=\"stroke: #038048; stroke-width: 1.0;\"/><text fill=\"#000000\" font-family=\"sans-serif\" font-size=\"11\" lengthAdjust=\"spacingAndGlyphs\" textLength=\"136\" x=\"26\" y=\"355.6919\">Mocha(Beverage beverage)</text><ellipse cx=\"17\" cy=\"367.1633\" fill=\"#84BE84\" rx=\"3\" ry=\"3\" style=\"stroke: #038048; stroke-width: 1.0;\"/><text fill=\"#000000\" font-family=\"sans-serif\" font-size=\"11\" lengthAdjust=\"spacingAndGlyphs\" textLength=\"114\" x=\"26\" y=\"370.8008\">getDescription() : String</text><ellipse cx=\"17\" cy=\"382.2722\" fill=\"#84BE84\" rx=\"3\" ry=\"3\" style=\"stroke: #038048; stroke-width: 1.0;\"/><text fill=\"#000000\" font-family=\"sans-serif\" font-size=\"11\" lengthAdjust=\"spacingAndGlyphs\" textLength=\"70\" x=\"26\" y=\"385.9097\">cost() : double</text><rect fill=\"#FEFECE\" filter=\"url(#f1)\" height=\"93.3267\" style=\"stroke: #A80036; stroke-width: 1.5;\" width=\"154\" x=\"203\" y=\"299\"/><ellipse cx=\"261.75\" cy=\"315\" fill=\"#ADD1B2\" rx=\"11\" ry=\"11\" style=\"stroke: #A80036; stroke-width: 1.0;\"/><path d=\"M261.3125,308.5156 Q258.5781,308.5156 257.5,310.1406 Q256.3594,311.8594 256.3594,314.7813 Q256.3594,318.0781 257.5156,319.7813 Q258.5,321.2813 261.1094,321.2813 Q262.6875,321.2813 263.5625,320.4531 Q264.5469,319.5 264.6875,317.375 Q264.6875,317.0781 264.5156,316.9063 Q264.3906,316.75 264.1719,316.7344 Q262.9531,316.7344 262.7969,316.8594 Q262.625,317.0156 262.625,317.2813 Q262.5938,318.7656 261.9375,319.5781 Q261.3281,320.375 261.25,320.375 Q259.9219,320.375 259.1406,318.7813 Q258.3906,317.2344 258.3906,314.75 Q258.3906,312.125 259.3281,310.6719 Q260.1563,309.4219 261.4375,309.4219 Q261.4375,309.4219 261.7813,310.0469 Q262.4063,310.7188 262.5469,311.875 Q262.6563,312.4531 264.125,312.2344 Q264.6563,312.1563 264.625,311.7344 Q264.4531,310.2969 263.7344,309.4844 Q262.875,308.5156 261.3125,308.5156 Z \"/><text fill=\"#000000\" font-family=\"sans-serif\" font-size=\"12\" lengthAdjust=\"spacingAndGlyphs\" textLength=\"28\" x=\"282.25\" y=\"320.6045\">Whip</text><line style=\"stroke: #A80036; stroke-width: 1.5;\" x1=\"204\" x2=\"356\" y1=\"331\" y2=\"331\"/><line style=\"stroke: #A80036; stroke-width: 1.5;\" x1=\"204\" x2=\"356\" y1=\"339\" y2=\"339\"/><ellipse cx=\"214\" cy=\"352.0544\" fill=\"#84BE84\" rx=\"3\" ry=\"3\" style=\"stroke: #038048; stroke-width: 1.0;\"/><text fill=\"#000000\" font-family=\"sans-serif\" font-size=\"11\" lengthAdjust=\"spacingAndGlyphs\" textLength=\"128\" x=\"223\" y=\"355.6919\">Whip(Beverage beverage)</text><ellipse cx=\"214\" cy=\"367.1633\" fill=\"#84BE84\" rx=\"3\" ry=\"3\" style=\"stroke: #038048; stroke-width: 1.0;\"/><text fill=\"#000000\" font-family=\"sans-serif\" font-size=\"11\" lengthAdjust=\"spacingAndGlyphs\" textLength=\"114\" x=\"223\" y=\"370.8008\">getDescription() : String</text><ellipse cx=\"214\" cy=\"382.2722\" fill=\"#84BE84\" rx=\"3\" ry=\"3\" style=\"stroke: #038048; stroke-width: 1.0;\"/><text fill=\"#000000\" font-family=\"sans-serif\" font-size=\"11\" lengthAdjust=\"spacingAndGlyphs\" textLength=\"70\" x=\"223\" y=\"385.9097\">cost() : double</text><rect fill=\"#FEFECE\" filter=\"url(#f1)\" height=\"93.3267\" style=\"stroke: #A80036; stroke-width: 1.5;\" width=\"149\" x=\"392.5\" y=\"299\"/><ellipse cx=\"452.75\" cy=\"315\" fill=\"#ADD1B2\" rx=\"11\" ry=\"11\" style=\"stroke: #A80036; stroke-width: 1.0;\"/><path d=\"M452.3125,308.5156 Q449.5781,308.5156 448.5,310.1406 Q447.3594,311.8594 447.3594,314.7813 Q447.3594,318.0781 448.5156,319.7813 Q449.5,321.2813 452.1094,321.2813 Q453.6875,321.2813 454.5625,320.4531 Q455.5469,319.5 455.6875,317.375 Q455.6875,317.0781 455.5156,316.9063 Q455.3906,316.75 455.1719,316.7344 Q453.9531,316.7344 453.7969,316.8594 Q453.625,317.0156 453.625,317.2813 Q453.5938,318.7656 452.9375,319.5781 Q452.3281,320.375 452.25,320.375 Q450.9219,320.375 450.1406,318.7813 Q449.3906,317.2344 449.3906,314.75 Q449.3906,312.125 450.3281,310.6719 Q451.1563,309.4219 452.4375,309.4219 Q452.4375,309.4219 452.7813,310.0469 Q453.4063,310.7188 453.5469,311.875 Q453.6563,312.4531 455.125,312.2344 Q455.6563,312.1563 455.625,311.7344 Q455.4531,310.2969 454.7344,309.4844 Q453.875,308.5156 452.3125,308.5156 Z \"/><text fill=\"#000000\" font-family=\"sans-serif\" font-size=\"12\" lengthAdjust=\"spacingAndGlyphs\" textLength=\"20\" x=\"473.25\" y=\"320.6045\">Soy</text><line style=\"stroke: #A80036; stroke-width: 1.5;\" x1=\"393.5\" x2=\"540.5\" y1=\"331\" y2=\"331\"/><line style=\"stroke: #A80036; stroke-width: 1.5;\" x1=\"393.5\" x2=\"540.5\" y1=\"339\" y2=\"339\"/><ellipse cx=\"403.5\" cy=\"352.0544\" fill=\"#84BE84\" rx=\"3\" ry=\"3\" style=\"stroke: #038048; stroke-width: 1.0;\"/><text fill=\"#000000\" font-family=\"sans-serif\" font-size=\"11\" lengthAdjust=\"spacingAndGlyphs\" textLength=\"123\" x=\"412.5\" y=\"355.6919\">Soy(Beverage beverage)</text><ellipse cx=\"403.5\" cy=\"367.1633\" fill=\"#84BE84\" rx=\"3\" ry=\"3\" style=\"stroke: #038048; stroke-width: 1.0;\"/><text fill=\"#000000\" font-family=\"sans-serif\" font-size=\"11\" lengthAdjust=\"spacingAndGlyphs\" textLength=\"114\" x=\"412.5\" y=\"370.8008\">getDescription() : String</text><ellipse cx=\"403.5\" cy=\"382.2722\" fill=\"#84BE84\" rx=\"3\" ry=\"3\" style=\"stroke: #038048; stroke-width: 1.0;\"/><text fill=\"#000000\" font-family=\"sans-serif\" font-size=\"11\" lengthAdjust=\"spacingAndGlyphs\" textLength=\"70\" x=\"412.5\" y=\"385.9097\">cost() : double</text><path d=\"M371.563,113.632 C351.619,129.586 331.407,146.471 314.966,160.976 \" fill=\"none\" style=\"stroke: #A80036; stroke-width: 1.0;\"/><polygon fill=\"none\" points=\"367.39,108.008,387.423,101.101,376.07,118.993,367.39,108.008\" style=\"stroke: #A80036; stroke-width: 1.0;\"/><path d=\"M401.942,109.781 C385.359,123.866 366.877,138.908 349.37,152.551 \" fill=\"none\" style=\"stroke: #A80036; stroke-width: 1.0;\"/><polygon fill=\"#A80036\" points=\"338.62,160.843,345.8139,160.3448,348.1208,153.5126,340.927,154.0109,338.62,160.843\" style=\"stroke: #A80036; stroke-width: 1.0;\"/><polygon fill=\"#A80036\" points=\"411.83,101.299,402.3944,104.122,408.0347,104.5541,407.6026,110.1945,411.83,101.299\" style=\"stroke: #A80036; stroke-width: 1.0;\"/><line style=\"stroke: #A80036; stroke-width: 1.0;\" x1=\"408.0347\" x2=\"401.963\" y1=\"104.5541\" y2=\"109.7625\"/><path d=\"M455,121.361 C455,134.887 455,148.695 455,160.843 \" fill=\"none\" style=\"stroke: #A80036; stroke-width: 1.0;\"/><polygon fill=\"none\" points=\"448,121.299,455,101.299,462,121.299,448,121.299\" style=\"stroke: #A80036; stroke-width: 1.0;\"/><path d=\"M510.346,116.127 C524.184,131.286 538.642,147.123 551.167,160.843 \" fill=\"none\" style=\"stroke: #A80036; stroke-width: 1.0;\"/><polygon fill=\"none\" points=\"505.124,120.789,496.809,101.299,515.463,111.35,505.124,120.789\" style=\"stroke: #A80036; stroke-width: 1.0;\"/><path d=\"M558.848,110.666 C588.957,126.781 621.84,144.499 652,161 C657.576,164.051 663.397,167.262 669.184,170.473 \" fill=\"none\" style=\"stroke: #A80036; stroke-width: 1.0;\"/><polygon fill=\"none\" points=\"555.337,116.726,540.998,101.125,561.936,104.379,555.337,116.726\" style=\"stroke: #A80036; stroke-width: 1.0;\"/><path d=\"M212.571,251.135 C191.712,266.644 168.854,283.64 148.424,298.8299 \" fill=\"none\" style=\"stroke: #A80036; stroke-width: 1.0;\"/><polygon fill=\"none\" points=\"208.56,245.395,228.786,239.079,216.913,256.629,208.56,245.395\" style=\"stroke: #A80036; stroke-width: 1.0;\"/><path d=\"M280,259.55 C280,272.645 280,286.347 280,298.8299 \" fill=\"none\" style=\"stroke: #A80036; stroke-width: 1.0;\"/><polygon fill=\"none\" points=\"273,259.079,280,239.079,287,259.079,273,259.079\" style=\"stroke: #A80036; stroke-width: 1.0;\"/><path d=\"M345.633,251.366 C365.763,266.813 387.789,283.715 407.486,298.8299 \" fill=\"none\" style=\"stroke: #A80036; stroke-width: 1.0;\"/><polygon fill=\"none\" points=\"341.227,256.808,329.622,239.079,349.75,245.701,341.227,256.808\" style=\"stroke: #A80036; stroke-width: 1.0;\"/></g></svg>"
      ],
      "text/plain": [
       "<IPython.core.display.SVG object>"
      ]
     },
     "execution_count": 22,
     "metadata": {},
     "output_type": "execute_result"
    }
   ],
   "source": [
    "%%plantuml\n",
    "\n",
    "@startuml\n",
    "\n",
    "abstract class Beverage {\n",
    "    -description = \"Unknown Beverage\" : String\n",
    "    +getDescription() : String\n",
    "    +abstract cost() : double\n",
    "}\n",
    "\n",
    "abstract class CondimentDecorator {\n",
    "    -beverage : Beverage\n",
    "    +abstract getDescription() : String\n",
    "}\n",
    "\n",
    "class Espresso {\n",
    "    +Espresso()\n",
    "    +cost() : double\n",
    "}\n",
    "\n",
    "class DarkRoast {\n",
    "    +DarkRoast()\n",
    "    +cost() : double\n",
    "}\n",
    "\n",
    "class HouseBlend {\n",
    "    +HouseBlend()\n",
    "    +cost() : double\n",
    "}\n",
    "\n",
    "class Mocha {\n",
    "    +Mocha(Beverage beverage)\n",
    "    +getDescription() : String\n",
    "    +cost() : double\n",
    "}\n",
    "\n",
    "class Whip {\n",
    "    +Whip(Beverage beverage)\n",
    "    +getDescription() : String\n",
    "    +cost() : double\n",
    "}\n",
    "\n",
    "class Soy {\n",
    "    +Soy(Beverage beverage)\n",
    "    +getDescription() : String\n",
    "    +cost() : double\n",
    "}\n",
    "\n",
    "Beverage <|-- CondimentDecorator\n",
    "Beverage <--* CondimentDecorator\n",
    "\n",
    "Beverage <|-- Espresso\n",
    "Beverage <|-- DarkRoast\n",
    "Beverage <|-- HouseBlend\n",
    "\n",
    "CondimentDecorator <|-- Mocha\n",
    "CondimentDecorator <|-- Whip\n",
    "CondimentDecorator <|-- Soy\n",
    "\n",
    "@enduml"
   ]
  },
  {
   "cell_type": "code",
   "execution_count": 30,
   "metadata": {
    "collapsed": false
   },
   "outputs": [
    {
     "data": {
      "image/svg+xml": [
       "<svg height=\"359px\" style=\"width:448px;height:359px;\" version=\"1.1\" viewBox=\"0 0 448 359\" width=\"448px\" xmlns=\"http://www.w3.org/2000/svg\" xmlns:xlink=\"http://www.w3.org/1999/xlink\"><defs><filter height=\"300%\" id=\"f1\" width=\"300%\" x=\"-1\" y=\"-1\"><feGaussianBlur result=\"blurOut\" stdDeviation=\"2.0\"/><feColorMatrix in=\"blurOut\" result=\"blurOut2\" type=\"matrix\" values=\"0 0 0 0 0 0 0 0 0 0 0 0 0 0 0 0 0 0 .4 0\"/><feOffset dx=\"4.0\" dy=\"4.0\" in=\"blurOut2\" result=\"blurOut3\"/><feBlend in=\"SourceGraphic\" in2=\"blurOut3\" mode=\"normal\"/></filter></defs><g><rect fill=\"#FFFFFF\" filter=\"url(#f1)\" height=\"242.8477\" style=\"stroke: #000000; stroke-width: 2.0;\" width=\"426.5\" x=\"13\" y=\"58.2295\"/><line style=\"stroke: #A80036; stroke-width: 1.0; stroke-dasharray: 5.0,5.0;\" x1=\"50\" x2=\"50\" y1=\"41.2295\" y2=\"318.0771\"/><line style=\"stroke: #A80036; stroke-width: 1.0; stroke-dasharray: 5.0,5.0;\" x1=\"164.5\" x2=\"164.5\" y1=\"41.2295\" y2=\"318.0771\"/><line style=\"stroke: #A80036; stroke-width: 1.0; stroke-dasharray: 5.0,5.0;\" x1=\"256.5\" x2=\"256.5\" y1=\"41.2295\" y2=\"318.0771\"/><line style=\"stroke: #A80036; stroke-width: 1.0; stroke-dasharray: 5.0,5.0;\" x1=\"339.5\" x2=\"339.5\" y1=\"41.2295\" y2=\"318.0771\"/><line style=\"stroke: #A80036; stroke-width: 1.0; stroke-dasharray: 5.0,5.0;\" x1=\"404.5\" x2=\"404.5\" y1=\"41.2295\" y2=\"318.0771\"/><rect fill=\"#FEFECE\" filter=\"url(#f1)\" height=\"33.2295\" style=\"stroke: #A80036; stroke-width: 1.5;\" width=\"50\" x=\"23\" y=\"3\"/><text fill=\"#000000\" font-family=\"sans-serif\" font-size=\"14\" lengthAdjust=\"spacingAndGlyphs\" textLength=\"36\" x=\"30\" y=\"26.1533\">Client</text><rect fill=\"#FEFECE\" filter=\"url(#f1)\" height=\"33.2295\" style=\"stroke: #A80036; stroke-width: 1.5;\" width=\"50\" x=\"23\" y=\"317.0771\"/><text fill=\"#000000\" font-family=\"sans-serif\" font-size=\"14\" lengthAdjust=\"spacingAndGlyphs\" textLength=\"36\" x=\"30\" y=\"340.2305\">Client</text><rect fill=\"#FEFECE\" filter=\"url(#f1)\" height=\"33.2295\" style=\"stroke: #A80036; stroke-width: 1.5;\" width=\"75\" x=\"125.5\" y=\"3\"/><text fill=\"#000000\" font-family=\"sans-serif\" font-size=\"14\" lengthAdjust=\"spacingAndGlyphs\" textLength=\"61\" x=\"132.5\" y=\"26.1533\">Beverage</text><rect fill=\"#FEFECE\" filter=\"url(#f1)\" height=\"33.2295\" style=\"stroke: #A80036; stroke-width: 1.5;\" width=\"75\" x=\"125.5\" y=\"317.0771\"/><text fill=\"#000000\" font-family=\"sans-serif\" font-size=\"14\" lengthAdjust=\"spacingAndGlyphs\" textLength=\"61\" x=\"132.5\" y=\"340.2305\">Beverage</text><rect fill=\"#FEFECE\" filter=\"url(#f1)\" height=\"33.2295\" style=\"stroke: #A80036; stroke-width: 1.5;\" width=\"81\" x=\"214.5\" y=\"3\"/><text fill=\"#000000\" font-family=\"sans-serif\" font-size=\"14\" lengthAdjust=\"spacingAndGlyphs\" textLength=\"67\" x=\"221.5\" y=\"26.1533\">DarkRoast</text><rect fill=\"#FEFECE\" filter=\"url(#f1)\" height=\"33.2295\" style=\"stroke: #A80036; stroke-width: 1.5;\" width=\"81\" x=\"214.5\" y=\"317.0771\"/><text fill=\"#000000\" font-family=\"sans-serif\" font-size=\"14\" lengthAdjust=\"spacingAndGlyphs\" textLength=\"67\" x=\"221.5\" y=\"340.2305\">DarkRoast</text><rect fill=\"#FEFECE\" filter=\"url(#f1)\" height=\"33.2295\" style=\"stroke: #A80036; stroke-width: 1.5;\" width=\"56\" x=\"309.5\" y=\"3\"/><text fill=\"#000000\" font-family=\"sans-serif\" font-size=\"14\" lengthAdjust=\"spacingAndGlyphs\" textLength=\"42\" x=\"316.5\" y=\"26.1533\">Mocha</text><rect fill=\"#FEFECE\" filter=\"url(#f1)\" height=\"33.2295\" style=\"stroke: #A80036; stroke-width: 1.5;\" width=\"56\" x=\"309.5\" y=\"317.0771\"/><text fill=\"#000000\" font-family=\"sans-serif\" font-size=\"14\" lengthAdjust=\"spacingAndGlyphs\" textLength=\"42\" x=\"316.5\" y=\"340.2305\">Mocha</text><rect fill=\"#FEFECE\" filter=\"url(#f1)\" height=\"33.2295\" style=\"stroke: #A80036; stroke-width: 1.5;\" width=\"46\" x=\"379.5\" y=\"3\"/><text fill=\"#000000\" font-family=\"sans-serif\" font-size=\"14\" lengthAdjust=\"spacingAndGlyphs\" textLength=\"32\" x=\"386.5\" y=\"26.1533\">Whip</text><rect fill=\"#FEFECE\" filter=\"url(#f1)\" height=\"33.2295\" style=\"stroke: #A80036; stroke-width: 1.5;\" width=\"46\" x=\"379.5\" y=\"317.0771\"/><text fill=\"#000000\" font-family=\"sans-serif\" font-size=\"14\" lengthAdjust=\"spacingAndGlyphs\" textLength=\"32\" x=\"386.5\" y=\"340.2305\">Whip</text><rect fill=\"none\" height=\"242.8477\" style=\"stroke: #000000; stroke-width: 2.0;\" width=\"426.5\" x=\"13\" y=\"58.2295\"/><polygon fill=\"#EEEEEE\" points=\"13,58.2295,183,58.2295,183,67.2295,173,77.2295,13,77.2295,13,58.2295\" style=\"stroke: #000000; stroke-width: 2.0;\"/><text fill=\"#000000\" font-family=\"sans-serif\" font-size=\"13\" font-weight=\"bold\" lengthAdjust=\"spacingAndGlyphs\" textLength=\"125\" x=\"28\" y=\"74.229\">decoraor DarkRoast</text><polygon fill=\"#A80036\" points=\"153,97.0854,163,101.0854,153,105.0854,157,101.0854\" style=\"stroke: #A80036; stroke-width: 1.0;\"/><line style=\"stroke: #A80036; stroke-width: 1.0;\" x1=\"50\" x2=\"159\" y1=\"101.0854\" y2=\"101.0854\"/><text fill=\"#000000\" font-family=\"sans-serif\" font-size=\"13\" lengthAdjust=\"spacingAndGlyphs\" textLength=\"31\" x=\"57\" y=\"97.085\">new()</text><polygon fill=\"#A80036\" points=\"245,128.9414,255,132.9414,245,136.9414,249,132.9414\" style=\"stroke: #A80036; stroke-width: 1.0;\"/><line style=\"stroke: #A80036; stroke-width: 1.0;\" x1=\"50\" x2=\"251\" y1=\"132.9414\" y2=\"132.9414\"/><text fill=\"#000000\" font-family=\"sans-serif\" font-size=\"13\" lengthAdjust=\"spacingAndGlyphs\" textLength=\"105\" x=\"57\" y=\"128.9409\">beverage2 = new()</text><polygon fill=\"#A80036\" points=\"327.5,160.7974,337.5,164.7974,327.5,168.7974,331.5,164.7974\" style=\"stroke: #A80036; stroke-width: 1.0;\"/><line style=\"stroke: #A80036; stroke-width: 1.0;\" x1=\"50\" x2=\"333.5\" y1=\"164.7974\" y2=\"164.7974\"/><text fill=\"#000000\" font-family=\"sans-serif\" font-size=\"13\" lengthAdjust=\"spacingAndGlyphs\" textLength=\"89\" x=\"57\" y=\"160.7969\">new(beverage2)</text><polygon fill=\"#A80036\" points=\"327.5,192.6533,337.5,196.6533,327.5,200.6533,331.5,196.6533\" style=\"stroke: #A80036; stroke-width: 1.0;\"/><line style=\"stroke: #A80036; stroke-width: 1.0;\" x1=\"50\" x2=\"333.5\" y1=\"196.6533\" y2=\"196.6533\"/><text fill=\"#000000\" font-family=\"sans-serif\" font-size=\"13\" lengthAdjust=\"spacingAndGlyphs\" textLength=\"89\" x=\"57\" y=\"192.6528\">new(beverage2)</text><polygon fill=\"#A80036\" points=\"392.5,224.5093,402.5,228.5093,392.5,232.5093,396.5,228.5093\" style=\"stroke: #A80036; stroke-width: 1.0;\"/><line style=\"stroke: #A80036; stroke-width: 1.0;\" x1=\"50\" x2=\"398.5\" y1=\"228.5093\" y2=\"228.5093\"/><text fill=\"#000000\" font-family=\"sans-serif\" font-size=\"13\" lengthAdjust=\"spacingAndGlyphs\" textLength=\"89\" x=\"57\" y=\"224.5088\">new(beverage2)</text><polygon fill=\"#A80036\" points=\"153,256.3652,163,260.3652,153,264.3652,157,260.3652\" style=\"stroke: #A80036; stroke-width: 1.0;\"/><line style=\"stroke: #A80036; stroke-width: 1.0;\" x1=\"50\" x2=\"159\" y1=\"260.3652\" y2=\"260.3652\"/><text fill=\"#000000\" font-family=\"sans-serif\" font-size=\"13\" lengthAdjust=\"spacingAndGlyphs\" textLength=\"91\" x=\"57\" y=\"256.3647\">getDescription()</text><polygon fill=\"#A80036\" points=\"153,288.2212,163,292.2212,153,296.2212,157,292.2212\" style=\"stroke: #A80036; stroke-width: 1.0;\"/><line style=\"stroke: #A80036; stroke-width: 1.0;\" x1=\"50\" x2=\"159\" y1=\"292.2212\" y2=\"292.2212\"/><text fill=\"#000000\" font-family=\"sans-serif\" font-size=\"13\" lengthAdjust=\"spacingAndGlyphs\" textLength=\"53\" x=\"57\" y=\"288.2207\">getCost()</text></g></svg>"
      ],
      "text/plain": [
       "<IPython.core.display.SVG object>"
      ]
     },
     "execution_count": 30,
     "metadata": {},
     "output_type": "execute_result"
    }
   ],
   "source": [
    "%%plantuml\n",
    "\n",
    "@startuml\n",
    "\n",
    "group decoraor DarkRoast\n",
    "\n",
    "Client -> Beverage : new()\n",
    "Client -> DarkRoast : beverage2 = new()\n",
    "Client -> Mocha : new(beverage2)\n",
    "Client -> Mocha : new(beverage2)\n",
    "Client -> Whip : new(beverage2)\n",
    "Client -> Beverage : getDescription()\n",
    "Client -> Beverage : getCost()\n",
    "\n",
    "end group\n",
    "\n",
    "@enduml"
   ]
  },
  {
   "cell_type": "code",
   "execution_count": 32,
   "metadata": {
    "collapsed": false
   },
   "outputs": [
    {
     "data": {
      "image/svg+xml": [
       "<svg height=\"401px\" style=\"width:651px;height:401px;\" version=\"1.1\" viewBox=\"0 0 651 401\" width=\"651px\" xmlns=\"http://www.w3.org/2000/svg\" xmlns:xlink=\"http://www.w3.org/1999/xlink\"><defs><filter height=\"300%\" id=\"f1\" width=\"300%\" x=\"-1\" y=\"-1\"><feGaussianBlur result=\"blurOut\" stdDeviation=\"2.0\"/><feColorMatrix in=\"blurOut\" result=\"blurOut2\" type=\"matrix\" values=\"0 0 0 0 0 0 0 0 0 0 0 0 0 0 0 0 0 0 .4 0\"/><feOffset dx=\"4.0\" dy=\"4.0\" in=\"blurOut2\" result=\"blurOut3\"/><feBlend in=\"SourceGraphic\" in2=\"blurOut3\" mode=\"normal\"/></filter></defs><g><rect fill=\"#FEFECE\" filter=\"url(#f1)\" height=\"78.2178\" style=\"stroke: #A80036; stroke-width: 1.5;\" width=\"140\" x=\"251.5\" y=\"8\"/><ellipse cx=\"295.75\" cy=\"24\" fill=\"#B4A7E5\" rx=\"11\" ry=\"11\" style=\"stroke: #A80036; stroke-width: 1.0;\"/><path d=\"M293.4531,18.125 L293.4531,29.75 Q293.4531,30 293.6094,30.1563 Q293.75,30.2969 294.9688,30.2969 Q295.1719,30.2969 295.3125,30.1719 Q295.4844,30.0156 295.4844,29.75 L295.4844,18.0781 Q295.4844,17.8125 295.3125,17.6719 Q295.0938,17.4531 293.9688,17.5313 Q293.75,17.5313 293.6094,17.6875 Q293.4531,17.8438 293.4531,18.125 Z \"/><text fill=\"#000000\" font-family=\"sans-serif\" font-size=\"12\" font-style=\"italic\" lengthAdjust=\"spacingAndGlyphs\" textLength=\"43\" x=\"316.25\" y=\"29.6045\">Window</text><line style=\"stroke: #A80036; stroke-width: 1.5;\" x1=\"252.5\" x2=\"390.5\" y1=\"40\" y2=\"40\"/><line style=\"stroke: #A80036; stroke-width: 1.5;\" x1=\"252.5\" x2=\"390.5\" y1=\"48\" y2=\"48\"/><ellipse cx=\"262.5\" cy=\"61.0544\" fill=\"#84BE84\" rx=\"3\" ry=\"3\" style=\"stroke: #038048; stroke-width: 1.0;\"/><text fill=\"#000000\" font-family=\"sans-serif\" font-size=\"11\" lengthAdjust=\"spacingAndGlyphs\" textLength=\"63\" x=\"271.5\" y=\"64.6919\">draw() : void</text><ellipse cx=\"262.5\" cy=\"76.1633\" fill=\"#84BE84\" rx=\"3\" ry=\"3\" style=\"stroke: #038048; stroke-width: 1.0;\"/><text fill=\"#000000\" font-family=\"sans-serif\" font-size=\"11\" lengthAdjust=\"spacingAndGlyphs\" textLength=\"114\" x=\"271.5\" y=\"79.8008\">getDescription() : String</text><rect fill=\"#FEFECE\" filter=\"url(#f1)\" height=\"78.2178\" style=\"stroke: #A80036; stroke-width: 1.5;\" width=\"140\" x=\"19.5\" y=\"146\"/><ellipse cx=\"45.75\" cy=\"162\" fill=\"#ADD1B2\" rx=\"11\" ry=\"11\" style=\"stroke: #A80036; stroke-width: 1.0;\"/><path d=\"M45.3125,155.5156 Q42.5781,155.5156 41.5,157.1406 Q40.3594,158.8594 40.3594,161.7813 Q40.3594,165.0781 41.5156,166.7813 Q42.5,168.2813 45.1094,168.2813 Q46.6875,168.2813 47.5625,167.4531 Q48.5469,166.5 48.6875,164.375 Q48.6875,164.0781 48.5156,163.9063 Q48.3906,163.75 48.1719,163.7344 Q46.9531,163.7344 46.7969,163.8594 Q46.625,164.0156 46.625,164.2813 Q46.5938,165.7656 45.9375,166.5781 Q45.3281,167.375 45.25,167.375 Q43.9219,167.375 43.1406,165.7813 Q42.3906,164.2344 42.3906,161.75 Q42.3906,159.125 43.3281,157.6719 Q44.1563,156.4219 45.4375,156.4219 Q45.4375,156.4219 45.7813,157.0469 Q46.4063,157.7188 46.5469,158.875 Q46.6563,159.4531 48.125,159.2344 Q48.6563,159.1563 48.625,158.7344 Q48.4531,157.2969 47.7344,156.4844 Q46.875,155.5156 45.3125,155.5156 Z \"/><text fill=\"#000000\" font-family=\"sans-serif\" font-size=\"12\" lengthAdjust=\"spacingAndGlyphs\" textLength=\"83\" x=\"62.25\" y=\"167.6045\">SimpleWindow</text><line style=\"stroke: #A80036; stroke-width: 1.5;\" x1=\"20.5\" x2=\"158.5\" y1=\"178\" y2=\"178\"/><line style=\"stroke: #A80036; stroke-width: 1.5;\" x1=\"20.5\" x2=\"158.5\" y1=\"186\" y2=\"186\"/><ellipse cx=\"30.5\" cy=\"199.0544\" fill=\"#84BE84\" rx=\"3\" ry=\"3\" style=\"stroke: #038048; stroke-width: 1.0;\"/><text fill=\"#000000\" font-family=\"sans-serif\" font-size=\"11\" lengthAdjust=\"spacingAndGlyphs\" textLength=\"63\" x=\"39.5\" y=\"202.6919\">draw() : void</text><ellipse cx=\"30.5\" cy=\"214.1633\" fill=\"#84BE84\" rx=\"3\" ry=\"3\" style=\"stroke: #038048; stroke-width: 1.0;\"/><text fill=\"#000000\" font-family=\"sans-serif\" font-size=\"11\" lengthAdjust=\"spacingAndGlyphs\" textLength=\"114\" x=\"39.5\" y=\"217.8008\">getDescription() : String</text><rect fill=\"#FEFECE\" filter=\"url(#f1)\" height=\"78.2178\" style=\"stroke: #A80036; stroke-width: 1.5;\" width=\"254\" x=\"194.5\" y=\"146\"/><ellipse cx=\"268.75\" cy=\"162\" fill=\"#A9DCDF\" rx=\"11\" ry=\"11\" style=\"stroke: #A80036; stroke-width: 1.0;\"/><path d=\"M266.7813,162.3906 L268.2813,156.9688 L269.25,162.3906 L266.7813,162.3906 Z M266.6719,155.4688 L263.5313,166.7969 Q263.4063,167.0938 263.5,167.2969 Q263.5781,167.4844 263.7969,167.5313 Q264.6563,167.7344 265.1875,167.4688 Q265.375,167.3438 265.4688,167.1406 L266.5313,163.2969 L269.4688,163.2969 L270.5313,167.1875 Q270.5781,167.4063 270.7656,167.5 Q271.2656,167.7188 272.1406,167.5313 Q272.3281,167.4844 272.4531,167.3125 Q272.5625,167.1563 272.5,166.9219 L269.375,155.4688 Q269.1094,154.7813 268.5156,154.7656 Q266.9063,154.7656 266.6719,155.4688 Z \"/><text fill=\"#000000\" font-family=\"sans-serif\" font-size=\"12\" font-style=\"italic\" lengthAdjust=\"spacingAndGlyphs\" textLength=\"97\" x=\"289.25\" y=\"167.6045\">WindowDecorator</text><line style=\"stroke: #A80036; stroke-width: 1.5;\" x1=\"195.5\" x2=\"447.5\" y1=\"178\" y2=\"178\"/><polygon fill=\"none\" points=\"205.5,186.0544,209.5,190.0544,205.5,194.0544,201.5,190.0544\" style=\"stroke: #B38D22; stroke-width: 1.0;\"/><text fill=\"#000000\" font-family=\"sans-serif\" font-size=\"11\" lengthAdjust=\"spacingAndGlyphs\" textLength=\"138\" x=\"214.5\" y=\"194.6919\">decoratedWindow : Window</text><line style=\"stroke: #A80036; stroke-width: 1.5;\" x1=\"195.5\" x2=\"447.5\" y1=\"201.1089\" y2=\"201.1089\"/><ellipse cx=\"205.5\" cy=\"214.1633\" fill=\"#84BE84\" rx=\"3\" ry=\"3\" style=\"stroke: #038048; stroke-width: 1.0;\"/><text fill=\"#000000\" font-family=\"sans-serif\" font-size=\"11\" lengthAdjust=\"spacingAndGlyphs\" textLength=\"228\" x=\"214.5\" y=\"217.8008\">WindowDecorator(Window decoratedWindow)</text><rect fill=\"#FEFECE\" filter=\"url(#f1)\" height=\"108.4355\" style=\"stroke: #A80036; stroke-width: 1.5;\" width=\"295\" x=\"6\" y=\"284\"/><ellipse cx=\"77.25\" cy=\"300\" fill=\"#ADD1B2\" rx=\"11\" ry=\"11\" style=\"stroke: #A80036; stroke-width: 1.0;\"/><path d=\"M76.8125,293.5156 Q74.0781,293.5156 73,295.1406 Q71.8594,296.8594 71.8594,299.7813 Q71.8594,303.0781 73.0156,304.7813 Q74,306.2813 76.6094,306.2813 Q78.1875,306.2813 79.0625,305.4531 Q80.0469,304.5 80.1875,302.375 Q80.1875,302.0781 80.0156,301.9063 Q79.8906,301.75 79.6719,301.7344 Q78.4531,301.7344 78.2969,301.8594 Q78.125,302.0156 78.125,302.2813 Q78.0938,303.7656 77.4375,304.5781 Q76.8281,305.375 76.75,305.375 Q75.4219,305.375 74.6406,303.7813 Q73.8906,302.2344 73.8906,299.75 Q73.8906,297.125 74.8281,295.6719 Q75.6563,294.4219 76.9375,294.4219 Q76.9375,294.4219 77.2813,295.0469 Q77.9063,295.7188 78.0469,296.875 Q78.1563,297.4531 79.625,297.2344 Q80.1563,297.1563 80.125,296.7344 Q79.9531,295.2969 79.2344,294.4844 Q78.375,293.5156 76.8125,293.5156 Z \"/><text fill=\"#000000\" font-family=\"sans-serif\" font-size=\"12\" lengthAdjust=\"spacingAndGlyphs\" textLength=\"144\" x=\"97.75\" y=\"305.6045\">VerticalScrollBarDecorator</text><line style=\"stroke: #A80036; stroke-width: 1.5;\" x1=\"7\" x2=\"300\" y1=\"316\" y2=\"316\"/><line style=\"stroke: #A80036; stroke-width: 1.5;\" x1=\"7\" x2=\"300\" y1=\"324\" y2=\"324\"/><ellipse cx=\"17\" cy=\"337.0544\" fill=\"#84BE84\" rx=\"3\" ry=\"3\" style=\"stroke: #038048; stroke-width: 1.0;\"/><text fill=\"#000000\" font-family=\"sans-serif\" font-size=\"11\" lengthAdjust=\"spacingAndGlyphs\" textLength=\"269\" x=\"26\" y=\"340.6919\">VerticalScrollBarDecorator(Window decoratedWindow)</text><ellipse cx=\"17\" cy=\"352.1633\" fill=\"#84BE84\" rx=\"3\" ry=\"3\" style=\"stroke: #038048; stroke-width: 1.0;\"/><text fill=\"#000000\" font-family=\"sans-serif\" font-size=\"11\" lengthAdjust=\"spacingAndGlyphs\" textLength=\"63\" x=\"26\" y=\"355.8008\">draw() : void</text><rect fill=\"#F24D5C\" height=\"6\" style=\"stroke: #C82930; stroke-width: 1.0;\" width=\"6\" x=\"14\" y=\"364.2722\"/><text fill=\"#000000\" font-family=\"sans-serif\" font-size=\"11\" lengthAdjust=\"spacingAndGlyphs\" textLength=\"144\" x=\"26\" y=\"370.9097\">drawVerticalScrollBar() : void</text><ellipse cx=\"17\" cy=\"382.3811\" fill=\"#84BE84\" rx=\"3\" ry=\"3\" style=\"stroke: #038048; stroke-width: 1.0;\"/><text fill=\"#000000\" font-family=\"sans-serif\" font-size=\"11\" lengthAdjust=\"spacingAndGlyphs\" textLength=\"114\" x=\"26\" y=\"386.0186\">getDescription() : String</text><rect fill=\"#FEFECE\" filter=\"url(#f1)\" height=\"108.4355\" style=\"stroke: #A80036; stroke-width: 1.5;\" width=\"306\" x=\"336.5\" y=\"284\"/><ellipse cx=\"405.75\" cy=\"300\" fill=\"#ADD1B2\" rx=\"11\" ry=\"11\" style=\"stroke: #A80036; stroke-width: 1.0;\"/><path d=\"M405.3125,293.5156 Q402.5781,293.5156 401.5,295.1406 Q400.3594,296.8594 400.3594,299.7813 Q400.3594,303.0781 401.5156,304.7813 Q402.5,306.2813 405.1094,306.2813 Q406.6875,306.2813 407.5625,305.4531 Q408.5469,304.5 408.6875,302.375 Q408.6875,302.0781 408.5156,301.9063 Q408.3906,301.75 408.1719,301.7344 Q406.9531,301.7344 406.7969,301.8594 Q406.625,302.0156 406.625,302.2813 Q406.5938,303.7656 405.9375,304.5781 Q405.3281,305.375 405.25,305.375 Q403.9219,305.375 403.1406,303.7813 Q402.3906,302.2344 402.3906,299.75 Q402.3906,297.125 403.3281,295.6719 Q404.1563,294.4219 405.4375,294.4219 Q405.4375,294.4219 405.7813,295.0469 Q406.4063,295.7188 406.5469,296.875 Q406.6563,297.4531 408.125,297.2344 Q408.6563,297.1563 408.625,296.7344 Q408.4531,295.2969 407.7344,294.4844 Q406.875,293.5156 405.3125,293.5156 Z \"/><text fill=\"#000000\" font-family=\"sans-serif\" font-size=\"12\" lengthAdjust=\"spacingAndGlyphs\" textLength=\"159\" x=\"426.25\" y=\"305.6045\">HorizontalScrollBarDecorator</text><line style=\"stroke: #A80036; stroke-width: 1.5;\" x1=\"337.5\" x2=\"641.5\" y1=\"316\" y2=\"316\"/><line style=\"stroke: #A80036; stroke-width: 1.5;\" x1=\"337.5\" x2=\"641.5\" y1=\"324\" y2=\"324\"/><ellipse cx=\"347.5\" cy=\"337.0544\" fill=\"#84BE84\" rx=\"3\" ry=\"3\" style=\"stroke: #038048; stroke-width: 1.0;\"/><text fill=\"#000000\" font-family=\"sans-serif\" font-size=\"11\" lengthAdjust=\"spacingAndGlyphs\" textLength=\"280\" x=\"356.5\" y=\"340.6919\">HorizontalScrollBarDecorator(Window decoratedWindow)</text><ellipse cx=\"347.5\" cy=\"352.1633\" fill=\"#84BE84\" rx=\"3\" ry=\"3\" style=\"stroke: #038048; stroke-width: 1.0;\"/><text fill=\"#000000\" font-family=\"sans-serif\" font-size=\"11\" lengthAdjust=\"spacingAndGlyphs\" textLength=\"63\" x=\"356.5\" y=\"355.8008\">draw() : void</text><rect fill=\"#F24D5C\" height=\"6\" style=\"stroke: #C82930; stroke-width: 1.0;\" width=\"6\" x=\"344.5\" y=\"364.2722\"/><text fill=\"#000000\" font-family=\"sans-serif\" font-size=\"11\" lengthAdjust=\"spacingAndGlyphs\" textLength=\"155\" x=\"356.5\" y=\"370.9097\">drawHorizontalScrollBar() : void</text><ellipse cx=\"347.5\" cy=\"382.3811\" fill=\"#84BE84\" rx=\"3\" ry=\"3\" style=\"stroke: #038048; stroke-width: 1.0;\"/><text fill=\"#000000\" font-family=\"sans-serif\" font-size=\"11\" lengthAdjust=\"spacingAndGlyphs\" textLength=\"114\" x=\"356.5\" y=\"386.0186\">getDescription() : String</text><path d=\"M239.215,96.236 C211.382,112.552 180.712,130.531 154.418,145.945 \" fill=\"none\" style=\"stroke: #A80036; stroke-width: 1.0;\"/><polygon fill=\"none\" points=\"235.773,90.14,256.567,86.064,242.853,102.218,235.773,90.14\" style=\"stroke: #A80036; stroke-width: 1.0;\"/><path d=\"M308.864,106.372 C308.548,119.63 308.889,133.387 309.888,145.57 \" fill=\"none\" style=\"stroke: #A80036; stroke-width: 1.0;\"/><polygon fill=\"none\" points=\"301.881,105.858,309.903,86.246,315.863,106.58,301.881,105.858\" style=\"stroke: #A80036; stroke-width: 1.0;\"/><path d=\"M334.633,99.329 C335.117,110.113 335.122,121.494 334.65,132.293 \" fill=\"none\" style=\"stroke: #A80036; stroke-width: 1.0;\"/><polygon fill=\"#A80036\" points=\"333.795,145.57,338.1724,139.8395,334.5664,133.5948,330.189,139.3253,333.795,145.57\" style=\"stroke: #A80036; stroke-width: 1.0;\"/><polygon fill=\"#A80036\" points=\"333.779,86.246,330.374,95.4875,334.1048,91.2354,338.357,94.9662,333.779,86.246\" style=\"stroke: #A80036; stroke-width: 1.0;\"/><line style=\"stroke: #A80036; stroke-width: 1.0;\" x1=\"334.1048\" x2=\"334.6255\" y1=\"91.2354\" y2=\"99.2175\"/><path d=\"M264.088,237.602 C247.506,252.507 229.382,268.796 212.694,283.796 \" fill=\"none\" style=\"stroke: #A80036; stroke-width: 1.0;\"/><polygon fill=\"none\" points=\"259.552,232.267,279.107,224.104,268.911,242.679,259.552,232.267\" style=\"stroke: #A80036; stroke-width: 1.0;\"/><path d=\"M378.912,237.602 C395.494,252.507 413.618,268.796 430.306,283.796 \" fill=\"none\" style=\"stroke: #A80036; stroke-width: 1.0;\"/><polygon fill=\"none\" points=\"374.089,242.679,363.893,224.104,383.448,232.267,374.089,242.679\" style=\"stroke: #A80036; stroke-width: 1.0;\"/></g></svg>"
      ],
      "text/plain": [
       "<IPython.core.display.SVG object>"
      ]
     },
     "execution_count": 32,
     "metadata": {},
     "output_type": "execute_result"
    }
   ],
   "source": [
    "%%plantuml\n",
    "\n",
    "@startuml\n",
    "\n",
    "interface Window {\n",
    "    +draw() : void\n",
    "    +getDescription() : String\n",
    "}\n",
    "\n",
    "class SimpleWindow {\n",
    "    +draw() : void\n",
    "    +getDescription() : String\n",
    "}\n",
    "\n",
    "abstract class WindowDecorator {\n",
    "    #decoratedWindow : Window\n",
    "    +WindowDecorator(Window decoratedWindow)\n",
    "}\n",
    "\n",
    "class VerticalScrollBarDecorator {\n",
    "    +VerticalScrollBarDecorator(Window decoratedWindow)\n",
    "    +draw() : void\n",
    "    -drawVerticalScrollBar() : void\n",
    "    +getDescription() : String\n",
    "}\n",
    "\n",
    "class HorizontalScrollBarDecorator {\n",
    "    +HorizontalScrollBarDecorator(Window decoratedWindow)\n",
    "    +draw() : void\n",
    "    -drawHorizontalScrollBar() : void\n",
    "    +getDescription() : String\n",
    "}\n",
    "\n",
    "Window <|-- SimpleWindow\n",
    "Window <|-- WindowDecorator\n",
    "Window <--* WindowDecorator\n",
    "\n",
    "WindowDecorator <|-- VerticalScrollBarDecorator\n",
    "WindowDecorator <|-- HorizontalScrollBarDecorator\n",
    "\n",
    "@enduml"
   ]
  },
  {
   "cell_type": "code",
   "execution_count": 41,
   "metadata": {
    "collapsed": false
   },
   "outputs": [
    {
     "data": {
      "image/svg+xml": [
       "<svg height=\"295px\" style=\"width:741px;height:295px;\" version=\"1.1\" viewBox=\"0 0 741 295\" width=\"741px\" xmlns=\"http://www.w3.org/2000/svg\" xmlns:xlink=\"http://www.w3.org/1999/xlink\"><defs><filter height=\"300%\" id=\"f1\" width=\"300%\" x=\"-1\" y=\"-1\"><feGaussianBlur result=\"blurOut\" stdDeviation=\"2.0\"/><feColorMatrix in=\"blurOut\" result=\"blurOut2\" type=\"matrix\" values=\"0 0 0 0 0 0 0 0 0 0 0 0 0 0 0 0 0 0 .4 0\"/><feOffset dx=\"4.0\" dy=\"4.0\" in=\"blurOut2\" result=\"blurOut3\"/><feBlend in=\"SourceGraphic\" in2=\"blurOut3\" mode=\"normal\"/></filter></defs><g><rect fill=\"#FFFFFF\" filter=\"url(#f1)\" height=\"179.1357\" style=\"stroke: #000000; stroke-width: 2.0;\" width=\"719.5\" x=\"13\" y=\"58.2295\"/><line style=\"stroke: #A80036; stroke-width: 1.0; stroke-dasharray: 5.0,5.0;\" x1=\"50\" x2=\"50\" y1=\"41.2295\" y2=\"254.3652\"/><line style=\"stroke: #A80036; stroke-width: 1.0; stroke-dasharray: 5.0,5.0;\" x1=\"164.5\" x2=\"164.5\" y1=\"41.2295\" y2=\"254.3652\"/><line style=\"stroke: #A80036; stroke-width: 1.0; stroke-dasharray: 5.0,5.0;\" x1=\"262.5\" x2=\"262.5\" y1=\"41.2295\" y2=\"254.3652\"/><line style=\"stroke: #A80036; stroke-width: 1.0; stroke-dasharray: 5.0,5.0;\" x1=\"419.5\" x2=\"419.5\" y1=\"41.2295\" y2=\"254.3652\"/><line style=\"stroke: #A80036; stroke-width: 1.0; stroke-dasharray: 5.0,5.0;\" x1=\"622.5\" x2=\"622.5\" y1=\"41.2295\" y2=\"254.3652\"/><rect fill=\"#FEFECE\" filter=\"url(#f1)\" height=\"33.2295\" style=\"stroke: #A80036; stroke-width: 1.5;\" width=\"50\" x=\"23\" y=\"3\"/><text fill=\"#000000\" font-family=\"sans-serif\" font-size=\"14\" lengthAdjust=\"spacingAndGlyphs\" textLength=\"36\" x=\"30\" y=\"26.1533\">Client</text><rect fill=\"#FEFECE\" filter=\"url(#f1)\" height=\"33.2295\" style=\"stroke: #A80036; stroke-width: 1.5;\" width=\"50\" x=\"23\" y=\"253.3652\"/><text fill=\"#000000\" font-family=\"sans-serif\" font-size=\"14\" lengthAdjust=\"spacingAndGlyphs\" textLength=\"36\" x=\"30\" y=\"276.5186\">Client</text><rect fill=\"#FEFECE\" filter=\"url(#f1)\" height=\"33.2295\" style=\"stroke: #A80036; stroke-width: 1.5;\" width=\"63\" x=\"131.5\" y=\"3\"/><text fill=\"#000000\" font-family=\"sans-serif\" font-size=\"14\" lengthAdjust=\"spacingAndGlyphs\" textLength=\"49\" x=\"138.5\" y=\"26.1533\">Window</text><rect fill=\"#FEFECE\" filter=\"url(#f1)\" height=\"33.2295\" style=\"stroke: #A80036; stroke-width: 1.5;\" width=\"63\" x=\"131.5\" y=\"253.3652\"/><text fill=\"#000000\" font-family=\"sans-serif\" font-size=\"14\" lengthAdjust=\"spacingAndGlyphs\" textLength=\"49\" x=\"138.5\" y=\"276.5186\">Window</text><rect fill=\"#FEFECE\" filter=\"url(#f1)\" height=\"33.2295\" style=\"stroke: #A80036; stroke-width: 1.5;\" width=\"105\" x=\"208.5\" y=\"3\"/><text fill=\"#000000\" font-family=\"sans-serif\" font-size=\"14\" lengthAdjust=\"spacingAndGlyphs\" textLength=\"91\" x=\"215.5\" y=\"26.1533\">SimpleWindow</text><rect fill=\"#FEFECE\" filter=\"url(#f1)\" height=\"33.2295\" style=\"stroke: #A80036; stroke-width: 1.5;\" width=\"105\" x=\"208.5\" y=\"253.3652\"/><text fill=\"#000000\" font-family=\"sans-serif\" font-size=\"14\" lengthAdjust=\"spacingAndGlyphs\" textLength=\"91\" x=\"215.5\" y=\"276.5186\">SimpleWindow</text><rect fill=\"#FEFECE\" filter=\"url(#f1)\" height=\"33.2295\" style=\"stroke: #A80036; stroke-width: 1.5;\" width=\"181\" x=\"327.5\" y=\"3\"/><text fill=\"#000000\" font-family=\"sans-serif\" font-size=\"14\" lengthAdjust=\"spacingAndGlyphs\" textLength=\"167\" x=\"334.5\" y=\"26.1533\">VerticalScrollBarDecorator</text><rect fill=\"#FEFECE\" filter=\"url(#f1)\" height=\"33.2295\" style=\"stroke: #A80036; stroke-width: 1.5;\" width=\"181\" x=\"327.5\" y=\"253.3652\"/><text fill=\"#000000\" font-family=\"sans-serif\" font-size=\"14\" lengthAdjust=\"spacingAndGlyphs\" textLength=\"167\" x=\"334.5\" y=\"276.5186\">VerticalScrollBarDecorator</text><rect fill=\"#FEFECE\" filter=\"url(#f1)\" height=\"33.2295\" style=\"stroke: #A80036; stroke-width: 1.5;\" width=\"196\" x=\"522.5\" y=\"3\"/><text fill=\"#000000\" font-family=\"sans-serif\" font-size=\"14\" lengthAdjust=\"spacingAndGlyphs\" textLength=\"182\" x=\"529.5\" y=\"26.1533\">HorizontalScrollBarDecorator</text><rect fill=\"#FEFECE\" filter=\"url(#f1)\" height=\"33.2295\" style=\"stroke: #A80036; stroke-width: 1.5;\" width=\"196\" x=\"522.5\" y=\"253.3652\"/><text fill=\"#000000\" font-family=\"sans-serif\" font-size=\"14\" lengthAdjust=\"spacingAndGlyphs\" textLength=\"182\" x=\"529.5\" y=\"276.5186\">HorizontalScrollBarDecorator</text><rect fill=\"none\" height=\"179.1357\" style=\"stroke: #000000; stroke-width: 2.0;\" width=\"719.5\" x=\"13\" y=\"58.2295\"/><polygon fill=\"#EEEEEE\" points=\"13,58.2295,266,58.2295,266,67.2295,256,77.2295,13,77.2295,13,58.2295\" style=\"stroke: #000000; stroke-width: 2.0;\"/><text fill=\"#000000\" font-family=\"sans-serif\" font-size=\"13\" font-weight=\"bold\" lengthAdjust=\"spacingAndGlyphs\" textLength=\"208\" x=\"28\" y=\"74.229\">decorator DecoratedWindowTest</text><polygon fill=\"#A80036\" points=\"153,97.0854,163,101.0854,153,105.0854,157,101.0854\" style=\"stroke: #A80036; stroke-width: 1.0;\"/><line style=\"stroke: #A80036; stroke-width: 1.0;\" x1=\"50\" x2=\"159\" y1=\"101.0854\" y2=\"101.0854\"/><text fill=\"#000000\" font-family=\"sans-serif\" font-size=\"13\" lengthAdjust=\"spacingAndGlyphs\" textLength=\"31\" x=\"57\" y=\"97.085\">new()</text><polygon fill=\"#A80036\" points=\"251,128.9414,261,132.9414,251,136.9414,255,132.9414\" style=\"stroke: #A80036; stroke-width: 1.0;\"/><line style=\"stroke: #A80036; stroke-width: 1.0;\" x1=\"50\" x2=\"257\" y1=\"132.9414\" y2=\"132.9414\"/><text fill=\"#000000\" font-family=\"sans-serif\" font-size=\"13\" lengthAdjust=\"spacingAndGlyphs\" textLength=\"150\" x=\"57\" y=\"128.9409\">decoratedWindow = new()</text><polygon fill=\"#A80036\" points=\"408,160.7974,418,164.7974,408,168.7974,412,164.7974\" style=\"stroke: #A80036; stroke-width: 1.0;\"/><line style=\"stroke: #A80036; stroke-width: 1.0;\" x1=\"50\" x2=\"414\" y1=\"164.7974\" y2=\"164.7974\"/><text fill=\"#000000\" font-family=\"sans-serif\" font-size=\"13\" lengthAdjust=\"spacingAndGlyphs\" textLength=\"134\" x=\"57\" y=\"160.7969\">new(decoratedWindow)</text><polygon fill=\"#A80036\" points=\"610.5,192.6533,620.5,196.6533,610.5,200.6533,614.5,196.6533\" style=\"stroke: #A80036; stroke-width: 1.0;\"/><line style=\"stroke: #A80036; stroke-width: 1.0;\" x1=\"50\" x2=\"616.5\" y1=\"196.6533\" y2=\"196.6533\"/><text fill=\"#000000\" font-family=\"sans-serif\" font-size=\"13\" lengthAdjust=\"spacingAndGlyphs\" textLength=\"31\" x=\"57\" y=\"192.6528\">new()</text><polygon fill=\"#A80036\" points=\"153,224.5093,163,228.5093,153,232.5093,157,228.5093\" style=\"stroke: #A80036; stroke-width: 1.0;\"/><line style=\"stroke: #A80036; stroke-width: 1.0;\" x1=\"50\" x2=\"159\" y1=\"228.5093\" y2=\"228.5093\"/><text fill=\"#000000\" font-family=\"sans-serif\" font-size=\"13\" lengthAdjust=\"spacingAndGlyphs\" textLength=\"91\" x=\"57\" y=\"224.5088\">getDescription()</text></g></svg>"
      ],
      "text/plain": [
       "<IPython.core.display.SVG object>"
      ]
     },
     "execution_count": 41,
     "metadata": {},
     "output_type": "execute_result"
    }
   ],
   "source": [
    "%%plantuml\n",
    "\n",
    "@startuml\n",
    "\n",
    "group decorator DecoratedWindowTest\n",
    "\n",
    "Client -> Window : new()\n",
    "Client -> SimpleWindow : decoratedWindow = new()\n",
    "Client -> VerticalScrollBarDecorator : new(decoratedWindow)\n",
    "Client -> HorizontalScrollBarDecorator : new()\n",
    "Client -> Window : getDescription()\n",
    "\n",
    "end group\n",
    "\n",
    "@enduml"
   ]
  }
 ],
 "metadata": {
  "kernelspec": {
   "display_name": "Python 3",
   "language": "python",
   "name": "python3"
  },
  "language_info": {
   "codemirror_mode": {
    "name": "ipython",
    "version": 3
   },
   "file_extension": ".py",
   "mimetype": "text/x-python",
   "name": "python",
   "nbconvert_exporter": "python",
   "pygments_lexer": "ipython3",
   "version": "3.4.3"
  }
 },
 "nbformat": 4,
 "nbformat_minor": 0
}
