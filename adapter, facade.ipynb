{
 "cells": [
  {
   "cell_type": "code",
   "execution_count": 1,
   "metadata": {
    "collapsed": false
   },
   "outputs": [
    {
     "name": "stdout",
     "output_type": "stream",
     "text": [
      "Installed plantuml_magics.py. To use it, type:\n",
      "  %load_ext plantuml_magics\n"
     ]
    },
    {
     "name": "stderr",
     "output_type": "stream",
     "text": [
      "C:\\Anaconda\\lib\\site-packages\\IPython\\core\\magics\\extension.py:47: UserWarning: %install_ext` is deprecated, please distribute your extension(s)as a python packages.\n",
      "  \"as a python packages.\", UserWarning)\n"
     ]
    }
   ],
   "source": [
    "%install_ext https://raw.githubusercontent.com/sberke/ipython-plantuml/master/plantuml_magics.py"
   ]
  },
  {
   "cell_type": "code",
   "execution_count": 2,
   "metadata": {
    "collapsed": true
   },
   "outputs": [],
   "source": [
    "%load_ext plantuml_magics"
   ]
  },
  {
   "cell_type": "code",
   "execution_count": 3,
   "metadata": {
    "collapsed": false
   },
   "outputs": [
    {
     "data": {
      "text/plain": [
       "['.\\\\plantuml.jar']"
      ]
     },
     "execution_count": 3,
     "metadata": {},
     "output_type": "execute_result"
    }
   ],
   "source": [
    "import glob\n",
    "glob.glob(r'./*.jar')"
   ]
  },
  {
   "cell_type": "code",
   "execution_count": 4,
   "metadata": {
    "collapsed": false
   },
   "outputs": [
    {
     "data": {
      "image/svg+xml": [
       "<svg height=\"203px\" style=\"width:360px;height:203px;\" version=\"1.1\" viewBox=\"0 0 360 203\" width=\"360px\" xmlns=\"http://www.w3.org/2000/svg\" xmlns:xlink=\"http://www.w3.org/1999/xlink\"><defs><filter height=\"300%\" id=\"f1\" width=\"300%\" x=\"-1\" y=\"-1\"><feGaussianBlur result=\"blurOut\" stdDeviation=\"2.0\"/><feColorMatrix in=\"blurOut\" result=\"blurOut2\" type=\"matrix\" values=\"0 0 0 0 0 0 0 0 0 0 0 0 0 0 0 0 0 0 .4 0\"/><feOffset dx=\"4.0\" dy=\"4.0\" in=\"blurOut2\" result=\"blurOut3\"/><feBlend in=\"SourceGraphic\" in2=\"blurOut3\" mode=\"normal\"/></filter></defs><g><rect fill=\"#FEFECE\" filter=\"url(#f1)\" height=\"63.1089\" style=\"stroke: #A80036; stroke-width: 1.5;\" width=\"120\" x=\"231\" y=\"131\"/><ellipse cx=\"265.35\" cy=\"147\" fill=\"#ADD1B2\" rx=\"11\" ry=\"11\" style=\"stroke: #A80036; stroke-width: 1.0;\"/><path d=\"M264.9125,140.5156 Q262.1781,140.5156 261.1,142.1406 Q259.9594,143.8594 259.9594,146.7813 Q259.9594,150.0781 261.1156,151.7813 Q262.1,153.2813 264.7094,153.2813 Q266.2875,153.2813 267.1625,152.4531 Q268.1469,151.5 268.2875,149.375 Q268.2875,149.0781 268.1156,148.9063 Q267.9906,148.75 267.7719,148.7344 Q266.5531,148.7344 266.3969,148.8594 Q266.225,149.0156 266.225,149.2813 Q266.1938,150.7656 265.5375,151.5781 Q264.9281,152.375 264.85,152.375 Q263.5219,152.375 262.7406,150.7813 Q261.9906,149.2344 261.9906,146.75 Q261.9906,144.125 262.9281,142.6719 Q263.7563,141.4219 265.0375,141.4219 Q265.0375,141.4219 265.3813,142.0469 Q266.0063,142.7188 266.1469,143.875 Q266.2563,144.4531 267.725,144.2344 Q268.2563,144.1563 268.225,143.7344 Q268.0531,142.2969 267.3344,141.4844 Q266.475,140.5156 264.9125,140.5156 Z \"/><text fill=\"#000000\" font-family=\"sans-serif\" font-size=\"12\" lengthAdjust=\"spacingAndGlyphs\" textLength=\"45\" x=\"283.65\" y=\"152.6045\">Adaptee</text><line style=\"stroke: #A80036; stroke-width: 1.5;\" x1=\"232\" x2=\"350\" y1=\"163\" y2=\"163\"/><line style=\"stroke: #A80036; stroke-width: 1.5;\" x1=\"232\" x2=\"350\" y1=\"171\" y2=\"171\"/><ellipse cx=\"242\" cy=\"184.0544\" fill=\"#84BE84\" rx=\"3\" ry=\"3\" style=\"stroke: #038048; stroke-width: 1.0;\"/><text fill=\"#000000\" font-family=\"sans-serif\" font-size=\"11\" lengthAdjust=\"spacingAndGlyphs\" textLength=\"94\" x=\"251\" y=\"187.6919\">requestOtherWay()</text><rect fill=\"#FEFECE\" filter=\"url(#f1)\" height=\"63.1089\" style=\"stroke: #A80036; stroke-width: 1.5;\" width=\"71\" x=\"105.5\" y=\"8\"/><ellipse cx=\"122.3\" cy=\"24\" fill=\"#B4A7E5\" rx=\"11\" ry=\"11\" style=\"stroke: #A80036; stroke-width: 1.0;\"/><path d=\"M120.0031,18.125 L120.0031,29.75 Q120.0031,30 120.1594,30.1563 Q120.3,30.2969 121.5188,30.2969 Q121.7219,30.2969 121.8625,30.1719 Q122.0344,30.0156 122.0344,29.75 L122.0344,18.0781 Q122.0344,17.8125 121.8625,17.6719 Q121.6438,17.4531 120.5188,17.5313 Q120.3,17.5313 120.1594,17.6875 Q120.0031,17.8438 120.0031,18.125 Z \"/><text fill=\"#000000\" font-family=\"sans-serif\" font-size=\"12\" font-style=\"italic\" lengthAdjust=\"spacingAndGlyphs\" textLength=\"35\" x=\"136.7\" y=\"29.6045\">Target</text><line style=\"stroke: #A80036; stroke-width: 1.5;\" x1=\"106.5\" x2=\"175.5\" y1=\"40\" y2=\"40\"/><line style=\"stroke: #A80036; stroke-width: 1.5;\" x1=\"106.5\" x2=\"175.5\" y1=\"48\" y2=\"48\"/><ellipse cx=\"116.5\" cy=\"61.0544\" fill=\"#84BE84\" rx=\"3\" ry=\"3\" style=\"stroke: #038048; stroke-width: 1.0;\"/><text fill=\"#000000\" font-family=\"sans-serif\" font-size=\"11\" lengthAdjust=\"spacingAndGlyphs\" textLength=\"45\" x=\"125.5\" y=\"64.6919\">request()</text><rect fill=\"#FEFECE\" filter=\"url(#f1)\" height=\"63.1089\" style=\"stroke: #A80036; stroke-width: 1.5;\" width=\"109\" x=\"86.5\" y=\"131\"/><ellipse cx=\"117.25\" cy=\"147\" fill=\"#ADD1B2\" rx=\"11\" ry=\"11\" style=\"stroke: #A80036; stroke-width: 1.0;\"/><path d=\"M116.8125,140.5156 Q114.0781,140.5156 113,142.1406 Q111.8594,143.8594 111.8594,146.7813 Q111.8594,150.0781 113.0156,151.7813 Q114,153.2813 116.6094,153.2813 Q118.1875,153.2813 119.0625,152.4531 Q120.0469,151.5 120.1875,149.375 Q120.1875,149.0781 120.0156,148.9063 Q119.8906,148.75 119.6719,148.7344 Q118.4531,148.7344 118.2969,148.8594 Q118.125,149.0156 118.125,149.2813 Q118.0938,150.7656 117.4375,151.5781 Q116.8281,152.375 116.75,152.375 Q115.4219,152.375 114.6406,150.7813 Q113.8906,149.2344 113.8906,146.75 Q113.8906,144.125 114.8281,142.6719 Q115.6563,141.4219 116.9375,141.4219 Q116.9375,141.4219 117.2813,142.0469 Q117.9063,142.7188 118.0469,143.875 Q118.1563,144.4531 119.625,144.2344 Q120.1563,144.1563 120.125,143.7344 Q119.9531,142.2969 119.2344,141.4844 Q118.375,140.5156 116.8125,140.5156 Z \"/><text fill=\"#000000\" font-family=\"sans-serif\" font-size=\"12\" lengthAdjust=\"spacingAndGlyphs\" textLength=\"42\" x=\"134.75\" y=\"152.6045\">Adapter</text><line style=\"stroke: #A80036; stroke-width: 1.5;\" x1=\"87.5\" x2=\"194.5\" y1=\"163\" y2=\"163\"/><rect fill=\"none\" height=\"6\" style=\"stroke: #C82930; stroke-width: 1.0;\" width=\"6\" x=\"94.5\" y=\"173.0544\"/><text fill=\"#000000\" font-family=\"sans-serif\" font-size=\"11\" lengthAdjust=\"spacingAndGlyphs\" textLength=\"83\" x=\"106.5\" y=\"179.6919\">adaptee:Adaptee</text><line style=\"stroke: #A80036; stroke-width: 1.5;\" x1=\"87.5\" x2=\"194.5\" y1=\"186.1089\" y2=\"186.1089\"/><rect fill=\"#FEFECE\" filter=\"url(#f1)\" height=\"48\" style=\"stroke: #A80036; stroke-width: 1.5;\" width=\"64\" x=\"6\" y=\"15.5\"/><ellipse cx=\"21\" cy=\"31.5\" fill=\"#ADD1B2\" rx=\"11\" ry=\"11\" style=\"stroke: #A80036; stroke-width: 1.0;\"/><path d=\"M20.5625,25.0156 Q17.8281,25.0156 16.75,26.6406 Q15.6094,28.3594 15.6094,31.2813 Q15.6094,34.5781 16.7656,36.2813 Q17.75,37.7813 20.3594,37.7813 Q21.9375,37.7813 22.8125,36.9531 Q23.7969,36 23.9375,33.875 Q23.9375,33.5781 23.7656,33.4063 Q23.6406,33.25 23.4219,33.2344 Q22.2031,33.2344 22.0469,33.3594 Q21.875,33.5156 21.875,33.7813 Q21.8438,35.2656 21.1875,36.0781 Q20.5781,36.875 20.5,36.875 Q19.1719,36.875 18.3906,35.2813 Q17.6406,33.7344 17.6406,31.25 Q17.6406,28.625 18.5781,27.1719 Q19.4063,25.9219 20.6875,25.9219 Q20.6875,25.9219 21.0313,26.5469 Q21.6563,27.2188 21.7969,28.375 Q21.9063,28.9531 23.375,28.7344 Q23.9063,28.6563 23.875,28.2344 Q23.7031,26.7969 22.9844,25.9844 Q22.125,25.0156 20.5625,25.0156 Z \"/><text fill=\"#000000\" font-family=\"sans-serif\" font-size=\"12\" lengthAdjust=\"spacingAndGlyphs\" textLength=\"32\" x=\"35\" y=\"37.1045\">Client</text><line style=\"stroke: #A80036; stroke-width: 1.5;\" x1=\"7\" x2=\"69\" y1=\"47.5\" y2=\"47.5\"/><line style=\"stroke: #A80036; stroke-width: 1.5;\" x1=\"7\" x2=\"69\" y1=\"55.5\" y2=\"55.5\"/><path d=\"M70.1875,39.5 C80.1592,39.5 90.1309,39.5 100.1026,39.5 \" fill=\"none\" style=\"stroke: #A80036; stroke-width: 1.0;\"/><polygon fill=\"#A80036\" points=\"105.3171,39.5,96.3171,35.5,100.3171,39.5,96.3171,43.5,105.3171,39.5\" style=\"stroke: #A80036; stroke-width: 1.0;\"/><path d=\"M141,91.293 C141,104.7857 141,118.9401 141,130.9764 \" fill=\"none\" style=\"stroke: #A80036; stroke-width: 1.0; stroke-dasharray: 7.0,7.0;\"/><polygon fill=\"none\" points=\"134,91.033,141,71.033,148,91.033,134,91.033\" style=\"stroke: #A80036; stroke-width: 1.0;\"/><path d=\"M195.785,162.5 C205.709,162.5 215.633,162.5 225.557,162.5 \" fill=\"none\" style=\"stroke: #A80036; stroke-width: 1.0;\"/><polygon fill=\"#A80036\" points=\"230.747,162.5,221.747,158.5,225.747,162.5,221.747,166.5,230.747,162.5\" style=\"stroke: #A80036; stroke-width: 1.0;\"/></g></svg>"
      ],
      "text/plain": [
       "<IPython.core.display.SVG object>"
      ]
     },
     "execution_count": 4,
     "metadata": {},
     "output_type": "execute_result"
    }
   ],
   "source": [
    "%%plantuml\n",
    "@startuml\n",
    "\n",
    "class Adaptee {\n",
    "    +requestOtherWay()\n",
    "}\n",
    "Interface Target {\n",
    "    +request()\n",
    "}\n",
    "class Adapter {\n",
    "    -adaptee:Adaptee\n",
    "}\n",
    "\n",
    "Client -right-> Target\n",
    "Adapter .up.|> Target\n",
    "Adapter -right-> Adaptee\n",
    "\n",
    "@enduml"
   ]
  },
  {
   "cell_type": "code",
   "execution_count": 15,
   "metadata": {
    "collapsed": false
   },
   "outputs": [
    {
     "data": {
      "image/svg+xml": [
       "<svg height=\"270px\" style=\"width:573px;height:270px;\" version=\"1.1\" viewBox=\"0 0 573 270\" width=\"573px\" xmlns=\"http://www.w3.org/2000/svg\" xmlns:xlink=\"http://www.w3.org/1999/xlink\"><defs><filter height=\"300%\" id=\"f1\" width=\"300%\" x=\"-1\" y=\"-1\"><feGaussianBlur result=\"blurOut\" stdDeviation=\"2.0\"/><feColorMatrix in=\"blurOut\" result=\"blurOut2\" type=\"matrix\" values=\"0 0 0 0 0 0 0 0 0 0 0 0 0 0 0 0 0 0 .4 0\"/><feOffset dx=\"4.0\" dy=\"4.0\" in=\"blurOut2\" result=\"blurOut3\"/><feBlend in=\"SourceGraphic\" in2=\"blurOut3\" mode=\"normal\"/></filter></defs><g><rect fill=\"#FEFECE\" filter=\"url(#f1)\" height=\"78.2178\" style=\"stroke: #A80036; stroke-width: 1.5;\" width=\"63\" x=\"186.5\" y=\"45\"/><ellipse cx=\"202.4\" cy=\"61\" fill=\"#B4A7E5\" rx=\"11\" ry=\"11\" style=\"stroke: #A80036; stroke-width: 1.0;\"/><path d=\"M200.1031,55.125 L200.1031,66.75 Q200.1031,67 200.2594,67.1563 Q200.4,67.2969 201.6188,67.2969 Q201.8219,67.2969 201.9625,67.1719 Q202.1344,67.0156 202.1344,66.75 L202.1344,55.0781 Q202.1344,54.8125 201.9625,54.6719 Q201.7438,54.4531 200.6188,54.5313 Q200.4,54.5313 200.2594,54.6875 Q200.1031,54.8438 200.1031,55.125 Z \"/><text fill=\"#000000\" font-family=\"sans-serif\" font-size=\"12\" font-style=\"italic\" lengthAdjust=\"spacingAndGlyphs\" textLength=\"29\" x=\"216.6\" y=\"66.6045\">Duck</text><line style=\"stroke: #A80036; stroke-width: 1.5;\" x1=\"187.5\" x2=\"248.5\" y1=\"77\" y2=\"77\"/><line style=\"stroke: #A80036; stroke-width: 1.5;\" x1=\"187.5\" x2=\"248.5\" y1=\"85\" y2=\"85\"/><ellipse cx=\"197.5\" cy=\"98.0544\" fill=\"#84BE84\" rx=\"3\" ry=\"3\" style=\"stroke: #038048; stroke-width: 1.0;\"/><text fill=\"#000000\" font-family=\"sans-serif\" font-size=\"11\" lengthAdjust=\"spacingAndGlyphs\" textLength=\"37\" x=\"206.5\" y=\"101.6919\">quack()</text><ellipse cx=\"197.5\" cy=\"113.1633\" fill=\"#84BE84\" rx=\"3\" ry=\"3\" style=\"stroke: #038048; stroke-width: 1.0;\"/><text fill=\"#000000\" font-family=\"sans-serif\" font-size=\"11\" lengthAdjust=\"spacingAndGlyphs\" textLength=\"20\" x=\"206.5\" y=\"116.8008\">fly()</text><rect fill=\"#FEFECE\" filter=\"url(#f1)\" height=\"78.2178\" style=\"stroke: #A80036; stroke-width: 1.5;\" width=\"70\" x=\"316\" y=\"45\"/><ellipse cx=\"331\" cy=\"61\" fill=\"#B4A7E5\" rx=\"11\" ry=\"11\" style=\"stroke: #A80036; stroke-width: 1.0;\"/><path d=\"M328.7031,55.125 L328.7031,66.75 Q328.7031,67 328.8594,67.1563 Q329,67.2969 330.2188,67.2969 Q330.4219,67.2969 330.5625,67.1719 Q330.7344,67.0156 330.7344,66.75 L330.7344,55.0781 Q330.7344,54.8125 330.5625,54.6719 Q330.3438,54.4531 329.2188,54.5313 Q329,54.5313 328.8594,54.6875 Q328.7031,54.8438 328.7031,55.125 Z \"/><text fill=\"#000000\" font-family=\"sans-serif\" font-size=\"12\" font-style=\"italic\" lengthAdjust=\"spacingAndGlyphs\" textLength=\"38\" x=\"345\" y=\"66.6045\">Turkey</text><line style=\"stroke: #A80036; stroke-width: 1.5;\" x1=\"317\" x2=\"385\" y1=\"77\" y2=\"77\"/><line style=\"stroke: #A80036; stroke-width: 1.5;\" x1=\"317\" x2=\"385\" y1=\"85\" y2=\"85\"/><ellipse cx=\"327\" cy=\"98.0544\" fill=\"#84BE84\" rx=\"3\" ry=\"3\" style=\"stroke: #038048; stroke-width: 1.0;\"/><text fill=\"#000000\" font-family=\"sans-serif\" font-size=\"11\" lengthAdjust=\"spacingAndGlyphs\" textLength=\"40\" x=\"336\" y=\"101.6919\">gobble()</text><ellipse cx=\"327\" cy=\"113.1633\" fill=\"#84BE84\" rx=\"3\" ry=\"3\" style=\"stroke: #038048; stroke-width: 1.0;\"/><text fill=\"#000000\" font-family=\"sans-serif\" font-size=\"11\" lengthAdjust=\"spacingAndGlyphs\" textLength=\"20\" x=\"336\" y=\"116.8008\">fly()</text><rect fill=\"#FEFECE\" filter=\"url(#f1)\" height=\"78.2178\" style=\"stroke: #A80036; stroke-width: 1.5;\" width=\"121\" x=\"141.5\" y=\"183\"/><ellipse cx=\"165.05\" cy=\"199\" fill=\"#ADD1B2\" rx=\"11\" ry=\"11\" style=\"stroke: #A80036; stroke-width: 1.0;\"/><path d=\"M164.6125,192.5156 Q161.8781,192.5156 160.8,194.1406 Q159.6594,195.8594 159.6594,198.7813 Q159.6594,202.0781 160.8156,203.7813 Q161.8,205.2813 164.4094,205.2813 Q165.9875,205.2813 166.8625,204.4531 Q167.8469,203.5 167.9875,201.375 Q167.9875,201.0781 167.8156,200.9063 Q167.6906,200.75 167.4719,200.7344 Q166.2531,200.7344 166.0969,200.8594 Q165.925,201.0156 165.925,201.2813 Q165.8938,202.7656 165.2375,203.5781 Q164.6281,204.375 164.55,204.375 Q163.2219,204.375 162.4406,202.7813 Q161.6906,201.2344 161.6906,198.75 Q161.6906,196.125 162.6281,194.6719 Q163.4563,193.4219 164.7375,193.4219 Q164.7375,193.4219 165.0813,194.0469 Q165.7063,194.7188 165.8469,195.875 Q165.9563,196.4531 167.425,196.2344 Q167.9563,196.1563 167.925,195.7344 Q167.7531,194.2969 167.0344,193.4844 Q166.175,192.5156 164.6125,192.5156 Z \"/><text fill=\"#000000\" font-family=\"sans-serif\" font-size=\"12\" lengthAdjust=\"spacingAndGlyphs\" textLength=\"70\" x=\"180.95\" y=\"204.6045\">DuckAdapter</text><line style=\"stroke: #A80036; stroke-width: 1.5;\" x1=\"142.5\" x2=\"261.5\" y1=\"215\" y2=\"215\"/><rect fill=\"none\" height=\"6\" style=\"stroke: #C82930; stroke-width: 1.0;\" width=\"6\" x=\"149.5\" y=\"225.0544\"/><text fill=\"#000000\" font-family=\"sans-serif\" font-size=\"11\" lengthAdjust=\"spacingAndGlyphs\" textLength=\"50\" x=\"161.5\" y=\"231.6919\">duck:Duck</text><line style=\"stroke: #A80036; stroke-width: 1.5;\" x1=\"142.5\" x2=\"261.5\" y1=\"238.1089\" y2=\"238.1089\"/><ellipse cx=\"152.5\" cy=\"251.1633\" fill=\"#84BE84\" rx=\"3\" ry=\"3\" style=\"stroke: #038048; stroke-width: 1.0;\"/><text fill=\"#000000\" font-family=\"sans-serif\" font-size=\"11\" lengthAdjust=\"spacingAndGlyphs\" textLength=\"95\" x=\"161.5\" y=\"254.8008\">DuckAdapter(Duck)</text><rect fill=\"#FEFECE\" filter=\"url(#f1)\" height=\"78.2178\" style=\"stroke: #A80036; stroke-width: 1.5;\" width=\"139\" x=\"297.5\" y=\"183\"/><ellipse cx=\"325.55\" cy=\"199\" fill=\"#ADD1B2\" rx=\"11\" ry=\"11\" style=\"stroke: #A80036; stroke-width: 1.0;\"/><path d=\"M325.1125,192.5156 Q322.3781,192.5156 321.3,194.1406 Q320.1594,195.8594 320.1594,198.7813 Q320.1594,202.0781 321.3156,203.7813 Q322.3,205.2813 324.9094,205.2813 Q326.4875,205.2813 327.3625,204.4531 Q328.3469,203.5 328.4875,201.375 Q328.4875,201.0781 328.3156,200.9063 Q328.1906,200.75 327.9719,200.7344 Q326.7531,200.7344 326.5969,200.8594 Q326.425,201.0156 326.425,201.2813 Q326.3938,202.7656 325.7375,203.5781 Q325.1281,204.375 325.05,204.375 Q323.7219,204.375 322.9406,202.7813 Q322.1906,201.2344 322.1906,198.75 Q322.1906,196.125 323.1281,194.6719 Q323.9563,193.4219 325.2375,193.4219 Q325.2375,193.4219 325.5813,194.0469 Q326.2063,194.7188 326.3469,195.875 Q326.4563,196.4531 327.925,196.2344 Q328.4563,196.1563 328.425,195.7344 Q328.2531,194.2969 327.5344,193.4844 Q326.675,192.5156 325.1125,192.5156 Z \"/><text fill=\"#000000\" font-family=\"sans-serif\" font-size=\"12\" lengthAdjust=\"spacingAndGlyphs\" textLength=\"78\" x=\"342.45\" y=\"204.6045\">TurkeyAdapter</text><line style=\"stroke: #A80036; stroke-width: 1.5;\" x1=\"298.5\" x2=\"435.5\" y1=\"215\" y2=\"215\"/><rect fill=\"none\" height=\"6\" style=\"stroke: #C82930; stroke-width: 1.0;\" width=\"6\" x=\"305.5\" y=\"225.0544\"/><text fill=\"#000000\" font-family=\"sans-serif\" font-size=\"11\" lengthAdjust=\"spacingAndGlyphs\" textLength=\"66\" x=\"317.5\" y=\"231.6919\">turkey:Turkey</text><line style=\"stroke: #A80036; stroke-width: 1.5;\" x1=\"298.5\" x2=\"435.5\" y1=\"238.1089\" y2=\"238.1089\"/><ellipse cx=\"308.5\" cy=\"251.1633\" fill=\"#84BE84\" rx=\"3\" ry=\"3\" style=\"stroke: #038048; stroke-width: 1.0;\"/><text fill=\"#000000\" font-family=\"sans-serif\" font-size=\"11\" lengthAdjust=\"spacingAndGlyphs\" textLength=\"113\" x=\"317.5\" y=\"254.8008\">TurkeyAdapter(Turkey)</text><rect fill=\"#FEFECE\" filter=\"url(#f1)\" height=\"48\" style=\"stroke: #A80036; stroke-width: 1.5;\" width=\"100\" x=\"6\" y=\"198\"/><ellipse cx=\"21\" cy=\"214\" fill=\"#ADD1B2\" rx=\"11\" ry=\"11\" style=\"stroke: #A80036; stroke-width: 1.0;\"/><path d=\"M20.5625,207.5156 Q17.8281,207.5156 16.75,209.1406 Q15.6094,210.8594 15.6094,213.7813 Q15.6094,217.0781 16.7656,218.7813 Q17.75,220.2813 20.3594,220.2813 Q21.9375,220.2813 22.8125,219.4531 Q23.7969,218.5 23.9375,216.375 Q23.9375,216.0781 23.7656,215.9063 Q23.6406,215.75 23.4219,215.7344 Q22.2031,215.7344 22.0469,215.8594 Q21.875,216.0156 21.875,216.2813 Q21.8438,217.7656 21.1875,218.5781 Q20.5781,219.375 20.5,219.375 Q19.1719,219.375 18.3906,217.7813 Q17.6406,216.2344 17.6406,213.75 Q17.6406,211.125 18.5781,209.6719 Q19.4063,208.4219 20.6875,208.4219 Q20.6875,208.4219 21.0313,209.0469 Q21.6563,209.7188 21.7969,210.875 Q21.9063,211.4531 23.375,211.2344 Q23.9063,211.1563 23.875,210.7344 Q23.7031,209.2969 22.9844,208.4844 Q22.125,207.5156 20.5625,207.5156 Z \"/><text fill=\"#000000\" font-family=\"sans-serif\" font-size=\"12\" lengthAdjust=\"spacingAndGlyphs\" textLength=\"68\" x=\"35\" y=\"219.6045\">MallardDuck</text><line style=\"stroke: #A80036; stroke-width: 1.5;\" x1=\"7\" x2=\"105\" y1=\"230\" y2=\"230\"/><line style=\"stroke: #A80036; stroke-width: 1.5;\" x1=\"7\" x2=\"105\" y1=\"238\" y2=\"238\"/><rect fill=\"#FEFECE\" filter=\"url(#f1)\" height=\"48\" style=\"stroke: #A80036; stroke-width: 1.5;\" width=\"92\" x=\"472\" y=\"198\"/><ellipse cx=\"487\" cy=\"214\" fill=\"#ADD1B2\" rx=\"11\" ry=\"11\" style=\"stroke: #A80036; stroke-width: 1.0;\"/><path d=\"M486.5625,207.5156 Q483.8281,207.5156 482.75,209.1406 Q481.6094,210.8594 481.6094,213.7813 Q481.6094,217.0781 482.7656,218.7813 Q483.75,220.2813 486.3594,220.2813 Q487.9375,220.2813 488.8125,219.4531 Q489.7969,218.5 489.9375,216.375 Q489.9375,216.0781 489.7656,215.9063 Q489.6406,215.75 489.4219,215.7344 Q488.2031,215.7344 488.0469,215.8594 Q487.875,216.0156 487.875,216.2813 Q487.8438,217.7656 487.1875,218.5781 Q486.5781,219.375 486.5,219.375 Q485.1719,219.375 484.3906,217.7813 Q483.6406,216.2344 483.6406,213.75 Q483.6406,211.125 484.5781,209.6719 Q485.4063,208.4219 486.6875,208.4219 Q486.6875,208.4219 487.0313,209.0469 Q487.6563,209.7188 487.7969,210.875 Q487.9063,211.4531 489.375,211.2344 Q489.9063,211.1563 489.875,210.7344 Q489.7031,209.2969 488.9844,208.4844 Q488.125,207.5156 486.5625,207.5156 Z \"/><text fill=\"#000000\" font-family=\"sans-serif\" font-size=\"12\" lengthAdjust=\"spacingAndGlyphs\" textLength=\"60\" x=\"501\" y=\"219.6045\">WildTurkey</text><line style=\"stroke: #A80036; stroke-width: 1.5;\" x1=\"473\" x2=\"563\" y1=\"230\" y2=\"230\"/><line style=\"stroke: #A80036; stroke-width: 1.5;\" x1=\"473\" x2=\"563\" y1=\"238\" y2=\"238\"/><rect fill=\"#FEFECE\" filter=\"url(#f1)\" height=\"48\" style=\"stroke: #A80036; stroke-width: 1.5;\" width=\"64\" x=\"87\" y=\"60\"/><ellipse cx=\"102\" cy=\"76\" fill=\"#ADD1B2\" rx=\"11\" ry=\"11\" style=\"stroke: #A80036; stroke-width: 1.0;\"/><path d=\"M101.5625,69.5156 Q98.8281,69.5156 97.75,71.1406 Q96.6094,72.8594 96.6094,75.7813 Q96.6094,79.0781 97.7656,80.7813 Q98.75,82.2813 101.3594,82.2813 Q102.9375,82.2813 103.8125,81.4531 Q104.7969,80.5 104.9375,78.375 Q104.9375,78.0781 104.7656,77.9063 Q104.6406,77.75 104.4219,77.7344 Q103.2031,77.7344 103.0469,77.8594 Q102.875,78.0156 102.875,78.2813 Q102.8438,79.7656 102.1875,80.5781 Q101.5781,81.375 101.5,81.375 Q100.1719,81.375 99.3906,79.7813 Q98.6406,78.2344 98.6406,75.75 Q98.6406,73.125 99.5781,71.6719 Q100.4063,70.4219 101.6875,70.4219 Q101.6875,70.4219 102.0313,71.0469 Q102.6563,71.7188 102.7969,72.875 Q102.9063,73.4531 104.375,73.2344 Q104.9063,73.1563 104.875,72.7344 Q104.7031,71.2969 103.9844,70.4844 Q103.125,69.5156 101.5625,69.5156 Z \"/><text fill=\"#000000\" font-family=\"sans-serif\" font-size=\"12\" lengthAdjust=\"spacingAndGlyphs\" textLength=\"32\" x=\"116\" y=\"81.6045\">Client</text><line style=\"stroke: #A80036; stroke-width: 1.5;\" x1=\"88\" x2=\"150\" y1=\"92\" y2=\"92\"/><line style=\"stroke: #A80036; stroke-width: 1.5;\" x1=\"88\" x2=\"150\" y1=\"100\" y2=\"100\"/><path d=\"M171.008,124.45 C142.62,148.282 107.424,177.8296 83.4961,197.9168 \" fill=\"none\" style=\"stroke: #A80036; stroke-width: 1.0; stroke-dasharray: 7.0,7.0;\"/><polygon fill=\"none\" points=\"166.562,119.043,186.38,111.545,175.563,129.766,166.562,119.043\" style=\"stroke: #A80036; stroke-width: 1.0;\"/><path d=\"M264.436,127.384 C283.891,145.142 306.336,165.6288 325.26,182.9016 \" fill=\"none\" style=\"stroke: #A80036; stroke-width: 1.0; stroke-dasharray: 7.0,7.0;\"/><polygon fill=\"none\" points=\"259.652,132.495,249.599,113.842,269.09,122.155,259.652,132.495\" style=\"stroke: #A80036; stroke-width: 1.0;\"/><path d=\"M212.876,128.551 C210.833,145.921 208.501,165.7452 206.521,182.5703 \" fill=\"none\" style=\"stroke: #A80036; stroke-width: 1.0;\"/><polygon fill=\"#A80036\" points=\"213.501,123.246,208.4767,131.7169,212.9167,128.2117,216.4219,132.6518,213.501,123.246\" style=\"stroke: #A80036; stroke-width: 1.0;\"/><path d=\"M401.723,126.307 C430.583,149.81 465.654,178.3711 489.684,197.9403 \" fill=\"none\" style=\"stroke: #A80036; stroke-width: 1.0; stroke-dasharray: 7.0,7.0;\"/><polygon fill=\"none\" points=\"397.096,131.567,386.009,113.51,405.937,120.712,397.096,131.567\" style=\"stroke: #A80036; stroke-width: 1.0;\"/><path d=\"M300.749,130.867 C282.193,147.804 261.384,166.797 243.67,182.9653 \" fill=\"none\" style=\"stroke: #A80036; stroke-width: 1.0; stroke-dasharray: 7.0,7.0;\"/><polygon fill=\"none\" points=\"296.198,125.543,315.689,117.23,305.636,135.883,296.198,125.543\" style=\"stroke: #A80036; stroke-width: 1.0;\"/><path d=\"M356.124,128.551 C358.167,145.921 360.499,165.7452 362.479,182.5703 \" fill=\"none\" style=\"stroke: #A80036; stroke-width: 1.0;\"/><polygon fill=\"#A80036\" points=\"355.499,123.246,352.5781,132.6518,356.0833,128.2117,360.5233,131.7169,355.499,123.246\" style=\"stroke: #A80036; stroke-width: 1.0;\"/><path d=\"M134.697,59.941 C146.714,43.88 164.874,24.097 186.5,15 C212.309,4.143 222.738,6.765 249.5,15 C271.841,21.875 293.674,35.528 311.331,48.889 \" fill=\"none\" style=\"stroke: #A80036; stroke-width: 1.0;\"/><polygon fill=\"#A80036\" points=\"315.728,52.275,311.037,43.6151,311.7662,49.2247,306.1566,49.9539,315.728,52.275\" style=\"stroke: #A80036; stroke-width: 1.0;\"/><path d=\"M151.098,84 C161.112,84 171.127,84 181.141,84 \" fill=\"none\" style=\"stroke: #A80036; stroke-width: 1.0;\"/><polygon fill=\"#A80036\" points=\"186.378,84,177.378,80,181.378,84,177.378,88,186.378,84\" style=\"stroke: #A80036; stroke-width: 1.0;\"/></g></svg>"
      ],
      "text/plain": [
       "<IPython.core.display.SVG object>"
      ]
     },
     "execution_count": 15,
     "metadata": {},
     "output_type": "execute_result"
    }
   ],
   "source": [
    "%%plantuml\n",
    "@startuml\n",
    "\n",
    "interface Duck {\n",
    "    +quack()\n",
    "    +fly()\n",
    "}\n",
    "interface Turkey {\n",
    "    +gobble()\n",
    "    +fly()\n",
    "}\n",
    "class DuckAdapter {\n",
    "    -duck:Duck\n",
    "    +DuckAdapter(Duck)\n",
    "}\n",
    "class TurkeyAdapter {\n",
    "    -turkey:Turkey\n",
    "    +TurkeyAdapter(Turkey)\n",
    "}\n",
    "\n",
    "Duck <|.. MallardDuck\n",
    "Duck <|.. TurkeyAdapter\n",
    "DuckAdapter -up-> Duck\n",
    "\n",
    "Turkey <|.. WildTurkey\n",
    "Turkey <|.. DuckAdapter\n",
    "TurkeyAdapter -up-> Turkey\n",
    "\n",
    "Client -> Turkey\n",
    "Client -> Duck\n",
    "\n",
    "@enduml"
   ]
  },
  {
   "cell_type": "code",
   "execution_count": 36,
   "metadata": {
    "collapsed": false,
    "scrolled": false
   },
   "outputs": [
    {
     "data": {
      "image/svg+xml": [
       "<svg height=\"460px\" style=\"width:695px;height:460px;\" version=\"1.1\" viewBox=\"0 0 695 460\" width=\"695px\" xmlns=\"http://www.w3.org/2000/svg\" xmlns:xlink=\"http://www.w3.org/1999/xlink\"><defs><filter height=\"300%\" id=\"f1\" width=\"300%\" x=\"-1\" y=\"-1\"><feGaussianBlur result=\"blurOut\" stdDeviation=\"2.0\"/><feColorMatrix in=\"blurOut\" result=\"blurOut2\" type=\"matrix\" values=\"0 0 0 0 0 0 0 0 0 0 0 0 0 0 0 0 0 0 .4 0\"/><feOffset dx=\"4.0\" dy=\"4.0\" in=\"blurOut2\" result=\"blurOut3\"/><feBlend in=\"SourceGraphic\" in2=\"blurOut3\" mode=\"normal\"/></filter></defs><g><rect fill=\"#FEFECE\" filter=\"url(#f1)\" height=\"183.98\" style=\"stroke: #A80036; stroke-width: 1.5;\" width=\"314\" x=\"210\" y=\"8\"/><ellipse cx=\"304.25\" cy=\"24\" fill=\"#ADD1B2\" rx=\"11\" ry=\"11\" style=\"stroke: #A80036; stroke-width: 1.0;\"/><path d=\"M303.8125,17.5156 Q301.0781,17.5156 300,19.1406 Q298.8594,20.8594 298.8594,23.7813 Q298.8594,27.0781 300.0156,28.7813 Q301,30.2813 303.6094,30.2813 Q305.1875,30.2813 306.0625,29.4531 Q307.0469,28.5 307.1875,26.375 Q307.1875,26.0781 307.0156,25.9063 Q306.8906,25.75 306.6719,25.7344 Q305.4531,25.7344 305.2969,25.8594 Q305.125,26.0156 305.125,26.2813 Q305.0938,27.7656 304.4375,28.5781 Q303.8281,29.375 303.75,29.375 Q302.4219,29.375 301.6406,27.7813 Q300.8906,26.2344 300.8906,23.75 Q300.8906,21.125 301.8281,19.6719 Q302.6563,18.4219 303.9375,18.4219 Q303.9375,18.4219 304.2813,19.0469 Q304.9063,19.7188 305.0469,20.875 Q305.1563,21.4531 306.625,21.2344 Q307.1563,21.1563 307.125,20.7344 Q306.9531,19.2969 306.2344,18.4844 Q305.375,17.5156 303.8125,17.5156 Z \"/><text fill=\"#000000\" font-family=\"sans-serif\" font-size=\"12\" lengthAdjust=\"spacingAndGlyphs\" textLength=\"117\" x=\"324.75\" y=\"29.6045\">HomeTheaterFacade</text><line style=\"stroke: #A80036; stroke-width: 1.5;\" x1=\"211\" x2=\"523\" y1=\"40\" y2=\"40\"/><rect fill=\"none\" height=\"6\" style=\"stroke: #C82930; stroke-width: 1.0;\" width=\"6\" x=\"218\" y=\"50.0544\"/><text fill=\"#000000\" font-family=\"sans-serif\" font-size=\"11\" lengthAdjust=\"spacingAndGlyphs\" textLength=\"65\" x=\"230\" y=\"56.6919\">amp:Amplifier</text><rect fill=\"none\" height=\"6\" style=\"stroke: #C82930; stroke-width: 1.0;\" width=\"6\" x=\"218\" y=\"65.1633\"/><text fill=\"#000000\" font-family=\"sans-serif\" font-size=\"11\" lengthAdjust=\"spacingAndGlyphs\" textLength=\"56\" x=\"230\" y=\"71.8008\">tuner:Tuner</text><rect fill=\"none\" height=\"6\" style=\"stroke: #C82930; stroke-width: 1.0;\" width=\"6\" x=\"218\" y=\"80.2722\"/><text fill=\"#000000\" font-family=\"sans-serif\" font-size=\"11\" lengthAdjust=\"spacingAndGlyphs\" textLength=\"70\" x=\"230\" y=\"86.9097\">dvd:DvdPlayer</text><rect fill=\"none\" height=\"6\" style=\"stroke: #C82930; stroke-width: 1.0;\" width=\"6\" x=\"218\" y=\"95.3811\"/><text fill=\"#000000\" font-family=\"sans-serif\" font-size=\"11\" lengthAdjust=\"spacingAndGlyphs\" textLength=\"89\" x=\"230\" y=\"102.0186\">projector:Projector</text><line style=\"stroke: #A80036; stroke-width: 1.5;\" x1=\"211\" x2=\"523\" y1=\"108.4355\" y2=\"108.4355\"/><ellipse cx=\"221\" cy=\"121.49\" fill=\"#84BE84\" rx=\"3\" ry=\"3\" style=\"stroke: #038048; stroke-width: 1.0;\"/><text fill=\"#000000\" font-family=\"sans-serif\" font-size=\"11\" lengthAdjust=\"spacingAndGlyphs\" textLength=\"288\" x=\"230\" y=\"125.1274\">HomeTheaterFacade(Amplifier, Tuner, DvdPlayer, Projector)</text><ellipse cx=\"221\" cy=\"136.5989\" fill=\"#84BE84\" rx=\"3\" ry=\"3\" style=\"stroke: #038048; stroke-width: 1.0;\"/><text fill=\"#000000\" font-family=\"sans-serif\" font-size=\"11\" lengthAdjust=\"spacingAndGlyphs\" textLength=\"95\" x=\"230\" y=\"140.2363\">watchMovie(String)</text><ellipse cx=\"221\" cy=\"151.7078\" fill=\"#84BE84\" rx=\"3\" ry=\"3\" style=\"stroke: #038048; stroke-width: 1.0;\"/><text fill=\"#000000\" font-family=\"sans-serif\" font-size=\"11\" lengthAdjust=\"spacingAndGlyphs\" textLength=\"54\" x=\"230\" y=\"155.3452\">endMovie()</text><ellipse cx=\"221\" cy=\"166.8167\" fill=\"#84BE84\" rx=\"3\" ry=\"3\" style=\"stroke: #038048; stroke-width: 1.0;\"/><text fill=\"#000000\" font-family=\"sans-serif\" font-size=\"11\" lengthAdjust=\"spacingAndGlyphs\" textLength=\"104\" x=\"230\" y=\"170.4541\">listenToRadio(double)</text><ellipse cx=\"221\" cy=\"181.9255\" fill=\"#84BE84\" rx=\"3\" ry=\"3\" style=\"stroke: #038048; stroke-width: 1.0;\"/><text fill=\"#000000\" font-family=\"sans-serif\" font-size=\"11\" lengthAdjust=\"spacingAndGlyphs\" textLength=\"53\" x=\"230\" y=\"185.563\">endRadio()</text><rect fill=\"#FEFECE\" filter=\"url(#f1)\" height=\"199.0889\" style=\"stroke: #A80036; stroke-width: 1.5;\" width=\"117\" x=\"395.5\" y=\"252\"/><ellipse cx=\"427.15\" cy=\"268\" fill=\"#ADD1B2\" rx=\"11\" ry=\"11\" style=\"stroke: #A80036; stroke-width: 1.0;\"/><path d=\"M426.7125,261.5156 Q423.9781,261.5156 422.9,263.1406 Q421.7594,264.8594 421.7594,267.7813 Q421.7594,271.0781 422.9156,272.7813 Q423.9,274.2813 426.5094,274.2813 Q428.0875,274.2813 428.9625,273.4531 Q429.9469,272.5 430.0875,270.375 Q430.0875,270.0781 429.9156,269.9063 Q429.7906,269.75 429.5719,269.7344 Q428.3531,269.7344 428.1969,269.8594 Q428.025,270.0156 428.025,270.2813 Q427.9938,271.7656 427.3375,272.5781 Q426.7281,273.375 426.65,273.375 Q425.3219,273.375 424.5406,271.7813 Q423.7906,270.2344 423.7906,267.75 Q423.7906,265.125 424.7281,263.6719 Q425.5563,262.4219 426.8375,262.4219 Q426.8375,262.4219 427.1813,263.0469 Q427.8063,263.7188 427.9469,264.875 Q428.0563,265.4531 429.525,265.2344 Q430.0563,265.1563 430.025,264.7344 Q429.8531,263.2969 429.1344,262.4844 Q428.275,261.5156 426.7125,261.5156 Z \"/><text fill=\"#000000\" font-family=\"sans-serif\" font-size=\"12\" lengthAdjust=\"spacingAndGlyphs\" textLength=\"48\" x=\"444.85\" y=\"273.6045\">Amplifier</text><line style=\"stroke: #A80036; stroke-width: 1.5;\" x1=\"396.5\" x2=\"511.5\" y1=\"284\" y2=\"284\"/><rect fill=\"none\" height=\"6\" style=\"stroke: #C82930; stroke-width: 1.0;\" width=\"6\" x=\"403.5\" y=\"294.0544\"/><text fill=\"#000000\" font-family=\"sans-serif\" font-size=\"11\" lengthAdjust=\"spacingAndGlyphs\" textLength=\"84\" x=\"415.5\" y=\"300.6919\">description:String</text><rect fill=\"none\" height=\"6\" style=\"stroke: #C82930; stroke-width: 1.0;\" width=\"6\" x=\"403.5\" y=\"309.1633\"/><text fill=\"#000000\" font-family=\"sans-serif\" font-size=\"11\" lengthAdjust=\"spacingAndGlyphs\" textLength=\"56\" x=\"415.5\" y=\"315.8008\">tuner:Tuner</text><rect fill=\"none\" height=\"6\" style=\"stroke: #C82930; stroke-width: 1.0;\" width=\"6\" x=\"403.5\" y=\"324.2722\"/><text fill=\"#000000\" font-family=\"sans-serif\" font-size=\"11\" lengthAdjust=\"spacingAndGlyphs\" textLength=\"70\" x=\"415.5\" y=\"330.9097\">dvd:DvdPlayer</text><line style=\"stroke: #A80036; stroke-width: 1.5;\" x1=\"396.5\" x2=\"511.5\" y1=\"337.3267\" y2=\"337.3267\"/><ellipse cx=\"406.5\" cy=\"350.3811\" fill=\"#84BE84\" rx=\"3\" ry=\"3\" style=\"stroke: #038048; stroke-width: 1.0;\"/><text fill=\"#000000\" font-family=\"sans-serif\" font-size=\"11\" lengthAdjust=\"spacingAndGlyphs\" textLength=\"78\" x=\"415.5\" y=\"354.0186\">Amplifier(String)</text><ellipse cx=\"406.5\" cy=\"365.49\" fill=\"#84BE84\" rx=\"3\" ry=\"3\" style=\"stroke: #038048; stroke-width: 1.0;\"/><text fill=\"#000000\" font-family=\"sans-serif\" font-size=\"11\" lengthAdjust=\"spacingAndGlyphs\" textLength=\"20\" x=\"415.5\" y=\"369.1274\">on()</text><ellipse cx=\"406.5\" cy=\"380.5989\" fill=\"#84BE84\" rx=\"3\" ry=\"3\" style=\"stroke: #038048; stroke-width: 1.0;\"/><text fill=\"#000000\" font-family=\"sans-serif\" font-size=\"11\" lengthAdjust=\"spacingAndGlyphs\" textLength=\"22\" x=\"415.5\" y=\"384.2363\">off()</text><ellipse cx=\"406.5\" cy=\"395.7078\" fill=\"#84BE84\" rx=\"3\" ry=\"3\" style=\"stroke: #038048; stroke-width: 1.0;\"/><text fill=\"#000000\" font-family=\"sans-serif\" font-size=\"11\" lengthAdjust=\"spacingAndGlyphs\" textLength=\"91\" x=\"415.5\" y=\"399.3452\">setDvd(DvdPlayer)</text><ellipse cx=\"406.5\" cy=\"410.8167\" fill=\"#84BE84\" rx=\"3\" ry=\"3\" style=\"stroke: #038048; stroke-width: 1.0;\"/><text fill=\"#000000\" font-family=\"sans-serif\" font-size=\"11\" lengthAdjust=\"spacingAndGlyphs\" textLength=\"79\" x=\"415.5\" y=\"414.4541\">setTuner(Tuner)</text><ellipse cx=\"406.5\" cy=\"425.9255\" fill=\"#84BE84\" rx=\"3\" ry=\"3\" style=\"stroke: #038048; stroke-width: 1.0;\"/><text fill=\"#000000\" font-family=\"sans-serif\" font-size=\"11\" lengthAdjust=\"spacingAndGlyphs\" textLength=\"70\" x=\"415.5\" y=\"429.563\">setVolume(int)</text><ellipse cx=\"406.5\" cy=\"441.0344\" fill=\"#84BE84\" rx=\"3\" ry=\"3\" style=\"stroke: #038048; stroke-width: 1.0;\"/><text fill=\"#000000\" font-family=\"sans-serif\" font-size=\"11\" lengthAdjust=\"spacingAndGlyphs\" textLength=\"76\" x=\"415.5\" y=\"444.6719\">toString():String</text><rect fill=\"#FEFECE\" filter=\"url(#f1)\" height=\"168.8711\" style=\"stroke: #A80036; stroke-width: 1.5;\" width=\"138\" x=\"548\" y=\"267\"/><ellipse cx=\"596.75\" cy=\"283\" fill=\"#ADD1B2\" rx=\"11\" ry=\"11\" style=\"stroke: #A80036; stroke-width: 1.0;\"/><path d=\"M596.3125,276.5156 Q593.5781,276.5156 592.5,278.1406 Q591.3594,279.8594 591.3594,282.7813 Q591.3594,286.0781 592.5156,287.7813 Q593.5,289.2813 596.1094,289.2813 Q597.6875,289.2813 598.5625,288.4531 Q599.5469,287.5 599.6875,285.375 Q599.6875,285.0781 599.5156,284.9063 Q599.3906,284.75 599.1719,284.7344 Q597.9531,284.7344 597.7969,284.8594 Q597.625,285.0156 597.625,285.2813 Q597.5938,286.7656 596.9375,287.5781 Q596.3281,288.375 596.25,288.375 Q594.9219,288.375 594.1406,286.7813 Q593.3906,285.2344 593.3906,282.75 Q593.3906,280.125 594.3281,278.6719 Q595.1563,277.4219 596.4375,277.4219 Q596.4375,277.4219 596.7813,278.0469 Q597.4063,278.7188 597.5469,279.875 Q597.6563,280.4531 599.125,280.2344 Q599.6563,280.1563 599.625,279.7344 Q599.4531,278.2969 598.7344,277.4844 Q597.875,276.5156 596.3125,276.5156 Z \"/><text fill=\"#000000\" font-family=\"sans-serif\" font-size=\"12\" lengthAdjust=\"spacingAndGlyphs\" textLength=\"32\" x=\"617.25\" y=\"288.6045\">Tuner</text><line style=\"stroke: #A80036; stroke-width: 1.5;\" x1=\"549\" x2=\"685\" y1=\"299\" y2=\"299\"/><rect fill=\"none\" height=\"6\" style=\"stroke: #C82930; stroke-width: 1.0;\" width=\"6\" x=\"556\" y=\"309.0544\"/><text fill=\"#000000\" font-family=\"sans-serif\" font-size=\"11\" lengthAdjust=\"spacingAndGlyphs\" textLength=\"84\" x=\"568\" y=\"315.6919\">description:String</text><rect fill=\"none\" height=\"6\" style=\"stroke: #C82930; stroke-width: 1.0;\" width=\"6\" x=\"556\" y=\"324.1633\"/><text fill=\"#000000\" font-family=\"sans-serif\" font-size=\"11\" lengthAdjust=\"spacingAndGlyphs\" textLength=\"85\" x=\"568\" y=\"330.8008\">amplifier:Amplifier</text><rect fill=\"none\" height=\"6\" style=\"stroke: #C82930; stroke-width: 1.0;\" width=\"6\" x=\"556\" y=\"339.2722\"/><text fill=\"#000000\" font-family=\"sans-serif\" font-size=\"11\" lengthAdjust=\"spacingAndGlyphs\" textLength=\"85\" x=\"568\" y=\"345.9097\">frequency:double</text><line style=\"stroke: #A80036; stroke-width: 1.5;\" x1=\"549\" x2=\"685\" y1=\"352.3267\" y2=\"352.3267\"/><ellipse cx=\"559\" cy=\"365.3811\" fill=\"#84BE84\" rx=\"3\" ry=\"3\" style=\"stroke: #038048; stroke-width: 1.0;\"/><text fill=\"#000000\" font-family=\"sans-serif\" font-size=\"11\" lengthAdjust=\"spacingAndGlyphs\" textLength=\"112\" x=\"568\" y=\"369.0186\">Tuner(String, Amplifier)</text><ellipse cx=\"559\" cy=\"380.49\" fill=\"#84BE84\" rx=\"3\" ry=\"3\" style=\"stroke: #038048; stroke-width: 1.0;\"/><text fill=\"#000000\" font-family=\"sans-serif\" font-size=\"11\" lengthAdjust=\"spacingAndGlyphs\" textLength=\"20\" x=\"568\" y=\"384.1274\">on()</text><ellipse cx=\"559\" cy=\"395.5989\" fill=\"#84BE84\" rx=\"3\" ry=\"3\" style=\"stroke: #038048; stroke-width: 1.0;\"/><text fill=\"#000000\" font-family=\"sans-serif\" font-size=\"11\" lengthAdjust=\"spacingAndGlyphs\" textLength=\"22\" x=\"568\" y=\"399.2363\">off()</text><ellipse cx=\"559\" cy=\"410.7078\" fill=\"#84BE84\" rx=\"3\" ry=\"3\" style=\"stroke: #038048; stroke-width: 1.0;\"/><text fill=\"#000000\" font-family=\"sans-serif\" font-size=\"11\" lengthAdjust=\"spacingAndGlyphs\" textLength=\"107\" x=\"568\" y=\"414.3452\">setFrequency(double)</text><ellipse cx=\"559\" cy=\"425.8167\" fill=\"#84BE84\" rx=\"3\" ry=\"3\" style=\"stroke: #038048; stroke-width: 1.0;\"/><text fill=\"#000000\" font-family=\"sans-serif\" font-size=\"11\" lengthAdjust=\"spacingAndGlyphs\" textLength=\"76\" x=\"568\" y=\"429.4541\">toString():String</text><rect fill=\"#FEFECE\" filter=\"url(#f1)\" height=\"199.0889\" style=\"stroke: #A80036; stroke-width: 1.5;\" width=\"159\" x=\"201.5\" y=\"252\"/><ellipse cx=\"249.25\" cy=\"268\" fill=\"#ADD1B2\" rx=\"11\" ry=\"11\" style=\"stroke: #A80036; stroke-width: 1.0;\"/><path d=\"M248.8125,261.5156 Q246.0781,261.5156 245,263.1406 Q243.8594,264.8594 243.8594,267.7813 Q243.8594,271.0781 245.0156,272.7813 Q246,274.2813 248.6094,274.2813 Q250.1875,274.2813 251.0625,273.4531 Q252.0469,272.5 252.1875,270.375 Q252.1875,270.0781 252.0156,269.9063 Q251.8906,269.75 251.6719,269.7344 Q250.4531,269.7344 250.2969,269.8594 Q250.125,270.0156 250.125,270.2813 Q250.0938,271.7656 249.4375,272.5781 Q248.8281,273.375 248.75,273.375 Q247.4219,273.375 246.6406,271.7813 Q245.8906,270.2344 245.8906,267.75 Q245.8906,265.125 246.8281,263.6719 Q247.6563,262.4219 248.9375,262.4219 Q248.9375,262.4219 249.2813,263.0469 Q249.9063,263.7188 250.0469,264.875 Q250.1563,265.4531 251.625,265.2344 Q252.1563,265.1563 252.125,264.7344 Q251.9531,263.2969 251.2344,262.4844 Q250.375,261.5156 248.8125,261.5156 Z \"/><text fill=\"#000000\" font-family=\"sans-serif\" font-size=\"12\" lengthAdjust=\"spacingAndGlyphs\" textLength=\"55\" x=\"269.75\" y=\"273.6045\">DvdPlayer</text><line style=\"stroke: #A80036; stroke-width: 1.5;\" x1=\"202.5\" x2=\"359.5\" y1=\"284\" y2=\"284\"/><rect fill=\"none\" height=\"6\" style=\"stroke: #C82930; stroke-width: 1.0;\" width=\"6\" x=\"209.5\" y=\"294.0544\"/><text fill=\"#000000\" font-family=\"sans-serif\" font-size=\"11\" lengthAdjust=\"spacingAndGlyphs\" textLength=\"84\" x=\"221.5\" y=\"300.6919\">description:String</text><rect fill=\"none\" height=\"6\" style=\"stroke: #C82930; stroke-width: 1.0;\" width=\"6\" x=\"209.5\" y=\"309.1633\"/><text fill=\"#000000\" font-family=\"sans-serif\" font-size=\"11\" lengthAdjust=\"spacingAndGlyphs\" textLength=\"85\" x=\"221.5\" y=\"315.8008\">amplifier:Amplifier</text><rect fill=\"none\" height=\"6\" style=\"stroke: #C82930; stroke-width: 1.0;\" width=\"6\" x=\"209.5\" y=\"324.2722\"/><text fill=\"#000000\" font-family=\"sans-serif\" font-size=\"11\" lengthAdjust=\"spacingAndGlyphs\" textLength=\"59\" x=\"221.5\" y=\"330.9097\">movie:String</text><line style=\"stroke: #A80036; stroke-width: 1.5;\" x1=\"202.5\" x2=\"359.5\" y1=\"337.3267\" y2=\"337.3267\"/><ellipse cx=\"212.5\" cy=\"350.3811\" fill=\"#84BE84\" rx=\"3\" ry=\"3\" style=\"stroke: #038048; stroke-width: 1.0;\"/><text fill=\"#000000\" font-family=\"sans-serif\" font-size=\"11\" lengthAdjust=\"spacingAndGlyphs\" textLength=\"133\" x=\"221.5\" y=\"354.0186\">DvdPlayer(String, Amplifier)</text><ellipse cx=\"212.5\" cy=\"365.49\" fill=\"#84BE84\" rx=\"3\" ry=\"3\" style=\"stroke: #038048; stroke-width: 1.0;\"/><text fill=\"#000000\" font-family=\"sans-serif\" font-size=\"11\" lengthAdjust=\"spacingAndGlyphs\" textLength=\"20\" x=\"221.5\" y=\"369.1274\">on()</text><ellipse cx=\"212.5\" cy=\"380.5989\" fill=\"#84BE84\" rx=\"3\" ry=\"3\" style=\"stroke: #038048; stroke-width: 1.0;\"/><text fill=\"#000000\" font-family=\"sans-serif\" font-size=\"11\" lengthAdjust=\"spacingAndGlyphs\" textLength=\"22\" x=\"221.5\" y=\"384.2363\">off()</text><ellipse cx=\"212.5\" cy=\"395.7078\" fill=\"#84BE84\" rx=\"3\" ry=\"3\" style=\"stroke: #038048; stroke-width: 1.0;\"/><text fill=\"#000000\" font-family=\"sans-serif\" font-size=\"11\" lengthAdjust=\"spacingAndGlyphs\" textLength=\"31\" x=\"221.5\" y=\"399.3452\">eject()</text><ellipse cx=\"212.5\" cy=\"410.8167\" fill=\"#84BE84\" rx=\"3\" ry=\"3\" style=\"stroke: #038048; stroke-width: 1.0;\"/><text fill=\"#000000\" font-family=\"sans-serif\" font-size=\"11\" lengthAdjust=\"spacingAndGlyphs\" textLength=\"56\" x=\"221.5\" y=\"414.4541\">play(String)</text><ellipse cx=\"212.5\" cy=\"425.9255\" fill=\"#84BE84\" rx=\"3\" ry=\"3\" style=\"stroke: #038048; stroke-width: 1.0;\"/><text fill=\"#000000\" font-family=\"sans-serif\" font-size=\"11\" lengthAdjust=\"spacingAndGlyphs\" textLength=\"29\" x=\"221.5\" y=\"429.563\">stop()</text><ellipse cx=\"212.5\" cy=\"441.0344\" fill=\"#84BE84\" rx=\"3\" ry=\"3\" style=\"stroke: #038048; stroke-width: 1.0;\"/><text fill=\"#000000\" font-family=\"sans-serif\" font-size=\"11\" lengthAdjust=\"spacingAndGlyphs\" textLength=\"76\" x=\"221.5\" y=\"444.6719\">toString():String</text><rect fill=\"#FEFECE\" filter=\"url(#f1)\" height=\"153.7622\" style=\"stroke: #A80036; stroke-width: 1.5;\" width=\"160\" x=\"6\" y=\"274.5\"/><ellipse cx=\"57.25\" cy=\"290.5\" fill=\"#ADD1B2\" rx=\"11\" ry=\"11\" style=\"stroke: #A80036; stroke-width: 1.0;\"/><path d=\"M56.8125,284.0156 Q54.0781,284.0156 53,285.6406 Q51.8594,287.3594 51.8594,290.2813 Q51.8594,293.5781 53.0156,295.2813 Q54,296.7813 56.6094,296.7813 Q58.1875,296.7813 59.0625,295.9531 Q60.0469,295 60.1875,292.875 Q60.1875,292.5781 60.0156,292.4063 Q59.8906,292.25 59.6719,292.2344 Q58.4531,292.2344 58.2969,292.3594 Q58.125,292.5156 58.125,292.7813 Q58.0938,294.2656 57.4375,295.0781 Q56.8281,295.875 56.75,295.875 Q55.4219,295.875 54.6406,294.2813 Q53.8906,292.7344 53.8906,290.25 Q53.8906,287.625 54.8281,286.1719 Q55.6563,284.9219 56.9375,284.9219 Q56.9375,284.9219 57.2813,285.5469 Q57.9063,286.2188 58.0469,287.375 Q58.1563,287.9531 59.625,287.7344 Q60.1563,287.6563 60.125,287.2344 Q59.9531,285.7969 59.2344,284.9844 Q58.375,284.0156 56.8125,284.0156 Z \"/><text fill=\"#000000\" font-family=\"sans-serif\" font-size=\"12\" lengthAdjust=\"spacingAndGlyphs\" textLength=\"49\" x=\"77.75\" y=\"296.1045\">Projector</text><line style=\"stroke: #A80036; stroke-width: 1.5;\" x1=\"7\" x2=\"165\" y1=\"306.5\" y2=\"306.5\"/><rect fill=\"none\" height=\"6\" style=\"stroke: #C82930; stroke-width: 1.0;\" width=\"6\" x=\"14\" y=\"316.5544\"/><text fill=\"#000000\" font-family=\"sans-serif\" font-size=\"11\" lengthAdjust=\"spacingAndGlyphs\" textLength=\"84\" x=\"26\" y=\"323.1919\">description:String</text><rect fill=\"none\" height=\"6\" style=\"stroke: #C82930; stroke-width: 1.0;\" width=\"6\" x=\"14\" y=\"331.6633\"/><text fill=\"#000000\" font-family=\"sans-serif\" font-size=\"11\" lengthAdjust=\"spacingAndGlyphs\" textLength=\"70\" x=\"26\" y=\"338.3008\">dvd:Dvdplayer</text><line style=\"stroke: #A80036; stroke-width: 1.5;\" x1=\"7\" x2=\"165\" y1=\"344.7178\" y2=\"344.7178\"/><ellipse cx=\"17\" cy=\"357.7722\" fill=\"#84BE84\" rx=\"3\" ry=\"3\" style=\"stroke: #038048; stroke-width: 1.0;\"/><text fill=\"#000000\" font-family=\"sans-serif\" font-size=\"11\" lengthAdjust=\"spacingAndGlyphs\" textLength=\"134\" x=\"26\" y=\"361.4097\">Projector(String, DvdPlayer)</text><ellipse cx=\"17\" cy=\"372.8811\" fill=\"#84BE84\" rx=\"3\" ry=\"3\" style=\"stroke: #038048; stroke-width: 1.0;\"/><text fill=\"#000000\" font-family=\"sans-serif\" font-size=\"11\" lengthAdjust=\"spacingAndGlyphs\" textLength=\"20\" x=\"26\" y=\"376.5186\">on()</text><ellipse cx=\"17\" cy=\"387.99\" fill=\"#84BE84\" rx=\"3\" ry=\"3\" style=\"stroke: #038048; stroke-width: 1.0;\"/><text fill=\"#000000\" font-family=\"sans-serif\" font-size=\"11\" lengthAdjust=\"spacingAndGlyphs\" textLength=\"22\" x=\"26\" y=\"391.6274\">off()</text><ellipse cx=\"17\" cy=\"403.0989\" fill=\"#84BE84\" rx=\"3\" ry=\"3\" style=\"stroke: #038048; stroke-width: 1.0;\"/><text fill=\"#000000\" font-family=\"sans-serif\" font-size=\"11\" lengthAdjust=\"spacingAndGlyphs\" textLength=\"93\" x=\"26\" y=\"406.7363\">wideScreenMode()</text><ellipse cx=\"17\" cy=\"418.2078\" fill=\"#84BE84\" rx=\"3\" ry=\"3\" style=\"stroke: #038048; stroke-width: 1.0;\"/><text fill=\"#000000\" font-family=\"sans-serif\" font-size=\"11\" lengthAdjust=\"spacingAndGlyphs\" textLength=\"76\" x=\"26\" y=\"421.8452\">toString():String</text><path d=\"M403.095,204.515 C407.086,215.96 411.162,227.65 415.185,239.185 \" fill=\"none\" style=\"stroke: #A80036; stroke-width: 1.0;\"/><polygon fill=\"#A80036\" points=\"419.521,251.622,420.3337,241.8067,417.8742,246.901,412.78,244.4415,419.521,251.622\" style=\"stroke: #A80036; stroke-width: 1.0;\"/><line style=\"stroke: #A80036; stroke-width: 1.0;\" x1=\"417.8742\" x2=\"415.241\" y1=\"246.901\" y2=\"239.3465\"/><polygon fill=\"#A80036\" points=\"398.778,192.134,396.977,199.1166,402.7298,203.4646,404.5308,196.482,398.778,192.134\" style=\"stroke: #A80036; stroke-width: 1.0;\"/><path d=\"M242.711,200.774 C222.795,217.552 202.624,235.032 184,252 C179.342,256.244 174.613,260.648 169.878,265.135 \" fill=\"none\" style=\"stroke: #A80036; stroke-width: 1.0;\"/><polygon fill=\"#A80036\" points=\"160.168,274.436,169.4346,271.0999,163.7791,270.9777,163.9013,265.3221,160.168,274.436\" style=\"stroke: #A80036; stroke-width: 1.0;\"/><line style=\"stroke: #A80036; stroke-width: 1.0;\" x1=\"163.7791\" x2=\"169.556\" y1=\"270.9777\" y2=\"265.443\"/><polygon fill=\"#A80036\" points=\"252.775,192.335,245.6073,193.1246,243.5793,200.0447,250.747,199.2551,252.775,192.335\" style=\"stroke: #A80036; stroke-width: 1.0;\"/><path d=\"M478.246,201.267 C495.846,217.922 513.627,235.234 530,252 C532.949,255.02 535.926,258.118 538.912,261.266 \" fill=\"none\" style=\"stroke: #A80036; stroke-width: 1.0;\"/><polygon fill=\"#A80036\" points=\"547.876,270.838,544.6431,261.5349,544.458,267.1887,538.8042,267.0037,547.876,270.838\" style=\"stroke: #A80036; stroke-width: 1.0;\"/><line style=\"stroke: #A80036; stroke-width: 1.0;\" x1=\"544.458\" x2=\"538.99\" y1=\"267.1887\" y2=\"261.3495\"/><polygon fill=\"#A80036\" points=\"468.498,192.09,470.1253,199.1151,477.2359,200.3149,475.6086,193.2898,468.498,192.09\" style=\"stroke: #A80036; stroke-width: 1.0;\"/><path d=\"M331.319,204.515 C327.375,215.96 323.345,227.65 319.369,239.185 \" fill=\"none\" style=\"stroke: #A80036; stroke-width: 1.0;\"/><polygon fill=\"#A80036\" points=\"315.082,251.622,321.797,244.4172,316.7117,246.895,314.2339,241.8097,315.082,251.622\" style=\"stroke: #A80036; stroke-width: 1.0;\"/><line style=\"stroke: #A80036; stroke-width: 1.0;\" x1=\"316.7117\" x2=\"319.3185\" y1=\"246.895\" y2=\"239.331\"/><polygon fill=\"#A80036\" points=\"335.587,192.134,329.8503,196.5032,331.6769,203.4791,337.4137,199.1099,335.587,192.134\" style=\"stroke: #A80036; stroke-width: 1.0;\"/><path d=\"M512.578,420.222 C522.627,425.3976 532.676,427.1698 542.724,425.5386 \" fill=\"none\" style=\"stroke: #A80036; stroke-width: 1.0;\"/><polygon fill=\"#A80036\" points=\"547.657,424.4645,538.0118,422.4718,542.7716,425.5288,539.7146,430.2885,547.657,424.4645\" style=\"stroke: #A80036; stroke-width: 1.0;\"/><path d=\"M534.507,276.886 C531.308,276.957 528.109,277.374 524.911,278.135 \" fill=\"none\" style=\"stroke: #A80036; stroke-width: 1.0;\"/><polygon fill=\"#A80036\" points=\"512.578,282.778,522.4102,283.3499,517.2573,281.0161,519.5911,275.8631,512.578,282.778\" style=\"stroke: #A80036; stroke-width: 1.0;\"/><line style=\"stroke: #A80036; stroke-width: 1.0;\" x1=\"517.2573\" x2=\"524.7445\" y1=\"281.0161\" y2=\"278.1975\"/><polygon fill=\"#A80036\" points=\"547.657,278.536,542.2017,273.8201,535.7504,277.0419,541.2057,281.7578,547.657,278.536\" style=\"stroke: #A80036; stroke-width: 1.0;\"/><path d=\"M365.879,426.0988 C375.703,426.4164 385.526,423.8466 395.35,418.3895 \" fill=\"none\" style=\"stroke: #A80036; stroke-width: 1.0;\"/><polygon fill=\"#A80036\" points=\"360.742,425.6695,369.3769,430.4064,365.7246,426.0866,370.0443,422.4343,360.742,425.6695\" style=\"stroke: #A80036; stroke-width: 1.0;\"/><path d=\"M373.99,277.295 C377.105,277.698 380.22,278.392 383.335,279.376 \" fill=\"none\" style=\"stroke: #A80036; stroke-width: 1.0;\"/><polygon fill=\"#A80036\" points=\"395.35,284.611,388.6972,277.3488,390.7663,282.6137,385.5014,284.6828,395.35,284.611\" style=\"stroke: #A80036; stroke-width: 1.0;\"/><line style=\"stroke: #A80036; stroke-width: 1.0;\" x1=\"390.7663\" x2=\"383.4315\" y1=\"282.6137\" y2=\"279.418\"/><polygon fill=\"#A80036\" points=\"360.742,277.33,366.7525,281.3142,372.742,277.2984,366.7314,273.3142,360.742,277.33\" style=\"stroke: #A80036; stroke-width: 1.0;\"/><path d=\"M179.46,351.5 C182.302,351.5 185.145,351.5 187.987,351.5 \" fill=\"none\" style=\"stroke: #A80036; stroke-width: 1.0;\"/><polygon fill=\"#A80036\" points=\"201.29,351.5,192.29,347.5,196.29,351.5,192.29,355.5,201.29,351.5\" style=\"stroke: #A80036; stroke-width: 1.0;\"/><line style=\"stroke: #A80036; stroke-width: 1.0;\" x1=\"196.29\" x2=\"188.29\" y1=\"351.5\" y2=\"351.5\"/><polygon fill=\"#A80036\" points=\"166.361,351.5,172.361,355.5,178.361,351.5,172.361,347.5,166.361,351.5\" style=\"stroke: #A80036; stroke-width: 1.0;\"/></g></svg>"
      ],
      "text/plain": [
       "<IPython.core.display.SVG object>"
      ]
     },
     "execution_count": 36,
     "metadata": {},
     "output_type": "execute_result"
    }
   ],
   "source": [
    "%%plantuml\n",
    "@startuml\n",
    "\n",
    "class HomeTheaterFacade {\n",
    "    -amp:Amplifier\n",
    "    -tuner:Tuner\n",
    "    -dvd:DvdPlayer\n",
    "    -projector:Projector\n",
    "    +HomeTheaterFacade(Amplifier, Tuner, DvdPlayer, Projector)\n",
    "    +watchMovie(String)\n",
    "    +endMovie()\n",
    "    +listenToRadio(double)\n",
    "    +endRadio()\n",
    "    +beginStudy()\n",
    "    +endStudy()\n",
    "}\n",
    "\n",
    "class Amplifier {\n",
    "    -description:String\n",
    "    -tuner:Tuner\n",
    "    -dvd:DvdPlayer\n",
    "    +Amplifier(String)\n",
    "    +on()\n",
    "    +off()\n",
    "    +setDvd(DvdPlayer)\n",
    "    +setTuner(Tuner)\n",
    "    +setVolume(int)\n",
    "    +toString():String\n",
    "}\n",
    "\n",
    "class Tuner { \n",
    "    -description:String\n",
    "    -amplifier:Amplifier\n",
    "    -frequency:double\n",
    "    +Tuner(String, Amplifier)\n",
    "    +on()\n",
    "    +off()\n",
    "    +setFrequency(double)\n",
    "    +toString():String\n",
    "}\n",
    "\n",
    "class DvdPlayer {\n",
    "    -description:String\n",
    "    -amplifier:Amplifier\n",
    "    -movie:String\n",
    "    +DvdPlayer(String, Amplifier)\n",
    "    +on()\n",
    "    +off()\n",
    "    +eject()\n",
    "    +play(String)\n",
    "    +stop()\n",
    "    +toString():String\n",
    "}\n",
    "\n",
    "class Projector {\n",
    "    -description:String\n",
    "    -dvd:Dvdplayer\n",
    "    +Projector(String, DvdPlayer)\n",
    "    +on()\n",
    "    +off()\n",
    "    +wideScreenMode()\n",
    "    +toString():String\n",
    "}\n",
    "\n",
    "HomeTheaterFacade *-down-> Amplifier\n",
    "HomeTheaterFacade *-down-> Projector\n",
    "HomeTheaterFacade *-down-> Tuner\n",
    "HomeTheaterFacade *-down-> DvdPlayer\n",
    "\n",
    "Amplifier -> Tuner\n",
    "Amplifier -left-> DvdPlayer\n",
    "Tuner *-> Amplifier\n",
    "DvdPlayer *-right-> Amplifier\n",
    "Projector *-right-> DvdPlayer\n",
    "\n",
    "@enduml"
   ]
  }
 ],
 "metadata": {
  "kernelspec": {
   "display_name": "Python 2",
   "language": "python",
   "name": "python2"
  },
  "language_info": {
   "codemirror_mode": {
    "name": "ipython",
    "version": 2
   },
   "file_extension": ".py",
   "mimetype": "text/x-python",
   "name": "python",
   "nbconvert_exporter": "python",
   "pygments_lexer": "ipython2",
   "version": "2.7.10"
  }
 },
 "nbformat": 4,
 "nbformat_minor": 0
}
