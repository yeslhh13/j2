{
 "cells": [
  {
   "cell_type": "code",
   "execution_count": 1,
   "metadata": {
    "collapsed": false
   },
   "outputs": [
    {
     "name": "stdout",
     "output_type": "stream",
     "text": [
      "Installed plantuml_magics.py. To use it, type:\n",
      "  %load_ext plantuml_magics\n"
     ]
    },
    {
     "name": "stderr",
     "output_type": "stream",
     "text": [
      "C:\\Anaconda\\lib\\site-packages\\IPython\\core\\magics\\extension.py:47: UserWarning: %install_ext` is deprecated, please distribute your extension(s)as a python packages.\n",
      "  \"as a python packages.\", UserWarning)\n"
     ]
    }
   ],
   "source": [
    "%install_ext https://raw.githubusercontent.com/sberke/ipython-plantuml/master/plantuml_magics.py"
   ]
  },
  {
   "cell_type": "code",
   "execution_count": 2,
   "metadata": {
    "collapsed": true
   },
   "outputs": [],
   "source": [
    "%load_ext plantuml_magics"
   ]
  },
  {
   "cell_type": "code",
   "execution_count": 4,
   "metadata": {
    "collapsed": false
   },
   "outputs": [
    {
     "data": {
      "text/plain": [
       "['.\\\\plantuml.jar']"
      ]
     },
     "execution_count": 4,
     "metadata": {},
     "output_type": "execute_result"
    }
   ],
   "source": [
    "import glob\n",
    "glob.glob(r'./*.jar')"
   ]
  },
  {
   "cell_type": "code",
   "execution_count": 9,
   "metadata": {
    "collapsed": false,
    "scrolled": true
   },
   "outputs": [
    {
     "data": {
      "image/svg+xml": [
       "<svg height=\"233px\" style=\"width:605px;height:233px;\" version=\"1.1\" viewBox=\"0 0 605 233\" width=\"605px\" xmlns=\"http://www.w3.org/2000/svg\" xmlns:xlink=\"http://www.w3.org/1999/xlink\"><defs><filter height=\"300%\" id=\"f1\" width=\"300%\" x=\"-1\" y=\"-1\"><feGaussianBlur result=\"blurOut\" stdDeviation=\"2.0\"/><feColorMatrix in=\"blurOut\" result=\"blurOut2\" type=\"matrix\" values=\"0 0 0 0 0 0 0 0 0 0 0 0 0 0 0 0 0 0 .4 0\"/><feOffset dx=\"4.0\" dy=\"4.0\" in=\"blurOut2\" result=\"blurOut3\"/><feBlend in=\"SourceGraphic\" in2=\"blurOut3\" mode=\"normal\"/></filter></defs><g><rect fill=\"#FEFECE\" filter=\"url(#f1)\" height=\"63.1089\" style=\"stroke: #A80036; stroke-width: 1.5;\" width=\"89\" x=\"6\" y=\"30.5\"/><ellipse cx=\"21\" cy=\"46.5\" fill=\"#ADD1B2\" rx=\"11\" ry=\"11\" style=\"stroke: #A80036; stroke-width: 1.0;\"/><path d=\"M20.5625,40.0156 Q17.8281,40.0156 16.75,41.6406 Q15.6094,43.3594 15.6094,46.2813 Q15.6094,49.5781 16.7656,51.2813 Q17.75,52.7813 20.3594,52.7813 Q21.9375,52.7813 22.8125,51.9531 Q23.7969,51 23.9375,48.875 Q23.9375,48.5781 23.7656,48.4063 Q23.6406,48.25 23.4219,48.2344 Q22.2031,48.2344 22.0469,48.3594 Q21.875,48.5156 21.875,48.7813 Q21.8438,50.2656 21.1875,51.0781 Q20.5781,51.875 20.5,51.875 Q19.1719,51.875 18.3906,50.2813 Q17.6406,48.7344 17.6406,46.25 Q17.6406,43.625 18.5781,42.1719 Q19.4063,40.9219 20.6875,40.9219 Q20.6875,40.9219 21.0313,41.5469 Q21.6563,42.2188 21.7969,43.375 Q21.9063,43.9531 23.375,43.7344 Q23.9063,43.6563 23.875,43.2344 Q23.7031,41.7969 22.9844,40.9844 Q22.125,40.0156 20.5625,40.0156 Z \"/><text fill=\"#000000\" font-family=\"sans-serif\" font-size=\"12\" lengthAdjust=\"spacingAndGlyphs\" textLength=\"57\" x=\"35\" y=\"52.1045\">PizzaStore</text><line style=\"stroke: #A80036; stroke-width: 1.5;\" x1=\"7\" x2=\"94\" y1=\"62.5\" y2=\"62.5\"/><line style=\"stroke: #A80036; stroke-width: 1.5;\" x1=\"7\" x2=\"94\" y1=\"70.5\" y2=\"70.5\"/><ellipse cx=\"17\" cy=\"83.5544\" fill=\"#84BE84\" rx=\"3\" ry=\"3\" style=\"stroke: #038048; stroke-width: 1.0;\"/><text fill=\"#000000\" font-family=\"sans-serif\" font-size=\"11\" lengthAdjust=\"spacingAndGlyphs\" textLength=\"60\" x=\"26\" y=\"87.1919\">orderPizza()</text><rect fill=\"#FEFECE\" filter=\"url(#f1)\" height=\"63.1089\" style=\"stroke: #A80036; stroke-width: 1.5;\" width=\"138\" x=\"130.5\" y=\"30.5\"/><ellipse cx=\"145.5\" cy=\"46.5\" fill=\"#ADD1B2\" rx=\"11\" ry=\"11\" style=\"stroke: #A80036; stroke-width: 1.0;\"/><path d=\"M145.0625,40.0156 Q142.3281,40.0156 141.25,41.6406 Q140.1094,43.3594 140.1094,46.2813 Q140.1094,49.5781 141.2656,51.2813 Q142.25,52.7813 144.8594,52.7813 Q146.4375,52.7813 147.3125,51.9531 Q148.2969,51 148.4375,48.875 Q148.4375,48.5781 148.2656,48.4063 Q148.1406,48.25 147.9219,48.2344 Q146.7031,48.2344 146.5469,48.3594 Q146.375,48.5156 146.375,48.7813 Q146.3438,50.2656 145.6875,51.0781 Q145.0781,51.875 145,51.875 Q143.6719,51.875 142.8906,50.2813 Q142.1406,48.7344 142.1406,46.25 Q142.1406,43.625 143.0781,42.1719 Q143.9063,40.9219 145.1875,40.9219 Q145.1875,40.9219 145.5313,41.5469 Q146.1563,42.2188 146.2969,43.375 Q146.4063,43.9531 147.875,43.7344 Q148.4063,43.6563 148.375,43.2344 Q148.2031,41.7969 147.4844,40.9844 Q146.625,40.0156 145.0625,40.0156 Z \"/><text fill=\"#000000\" font-family=\"sans-serif\" font-size=\"12\" lengthAdjust=\"spacingAndGlyphs\" textLength=\"106\" x=\"159.5\" y=\"52.1045\">SimplePizzaFactory</text><line style=\"stroke: #A80036; stroke-width: 1.5;\" x1=\"131.5\" x2=\"267.5\" y1=\"62.5\" y2=\"62.5\"/><line style=\"stroke: #A80036; stroke-width: 1.5;\" x1=\"131.5\" x2=\"267.5\" y1=\"70.5\" y2=\"70.5\"/><ellipse cx=\"141.5\" cy=\"83.5544\" fill=\"#84BE84\" rx=\"3\" ry=\"3\" style=\"stroke: #038048; stroke-width: 1.0;\"/><text fill=\"#000000\" font-family=\"sans-serif\" font-size=\"11\" lengthAdjust=\"spacingAndGlyphs\" textLength=\"65\" x=\"150.5\" y=\"87.1919\">createPizza()</text><rect fill=\"#FEFECE\" filter=\"url(#f1)\" height=\"108.4355\" style=\"stroke: #A80036; stroke-width: 1.5;\" width=\"61\" x=\"304\" y=\"8\"/><ellipse cx=\"319.45\" cy=\"24\" fill=\"#ADD1B2\" rx=\"11\" ry=\"11\" style=\"stroke: #A80036; stroke-width: 1.0;\"/><path d=\"M319.0125,17.5156 Q316.2781,17.5156 315.2,19.1406 Q314.0594,20.8594 314.0594,23.7813 Q314.0594,27.0781 315.2156,28.7813 Q316.2,30.2813 318.8094,30.2813 Q320.3875,30.2813 321.2625,29.4531 Q322.2469,28.5 322.3875,26.375 Q322.3875,26.0781 322.2156,25.9063 Q322.0906,25.75 321.8719,25.7344 Q320.6531,25.7344 320.4969,25.8594 Q320.325,26.0156 320.325,26.2813 Q320.2938,27.7656 319.6375,28.5781 Q319.0281,29.375 318.95,29.375 Q317.6219,29.375 316.8406,27.7813 Q316.0906,26.2344 316.0906,23.75 Q316.0906,21.125 317.0281,19.6719 Q317.8563,18.4219 319.1375,18.4219 Q319.1375,18.4219 319.4813,19.0469 Q320.1063,19.7188 320.2469,20.875 Q320.3563,21.4531 321.825,21.2344 Q322.3563,21.1563 322.325,20.7344 Q322.1531,19.2969 321.4344,18.4844 Q320.575,17.5156 319.0125,17.5156 Z \"/><text fill=\"#000000\" font-family=\"sans-serif\" font-size=\"12\" lengthAdjust=\"spacingAndGlyphs\" textLength=\"28\" x=\"333.55\" y=\"29.6045\">Pizza</text><line style=\"stroke: #A80036; stroke-width: 1.5;\" x1=\"305\" x2=\"364\" y1=\"40\" y2=\"40\"/><line style=\"stroke: #A80036; stroke-width: 1.5;\" x1=\"305\" x2=\"364\" y1=\"48\" y2=\"48\"/><text fill=\"#000000\" font-family=\"sans-serif\" font-size=\"11\" lengthAdjust=\"spacingAndGlyphs\" textLength=\"49\" x=\"310\" y=\"64.6919\">preparte()</text><text fill=\"#000000\" font-family=\"sans-serif\" font-size=\"11\" lengthAdjust=\"spacingAndGlyphs\" textLength=\"31\" x=\"310\" y=\"79.8008\">bake()</text><text fill=\"#000000\" font-family=\"sans-serif\" font-size=\"11\" lengthAdjust=\"spacingAndGlyphs\" textLength=\"23\" x=\"310\" y=\"94.9097\">cut()</text><text fill=\"#000000\" font-family=\"sans-serif\" font-size=\"11\" lengthAdjust=\"spacingAndGlyphs\" textLength=\"26\" x=\"310\" y=\"110.0186\">box()</text><rect fill=\"#FEFECE\" filter=\"url(#f1)\" height=\"48\" style=\"stroke: #A80036; stroke-width: 1.5;\" width=\"104\" x=\"81.5\" y=\"176\"/><ellipse cx=\"96.5\" cy=\"192\" fill=\"#ADD1B2\" rx=\"11\" ry=\"11\" style=\"stroke: #A80036; stroke-width: 1.0;\"/><path d=\"M96.0625,185.5156 Q93.3281,185.5156 92.25,187.1406 Q91.1094,188.8594 91.1094,191.7813 Q91.1094,195.0781 92.2656,196.7813 Q93.25,198.2813 95.8594,198.2813 Q97.4375,198.2813 98.3125,197.4531 Q99.2969,196.5 99.4375,194.375 Q99.4375,194.0781 99.2656,193.9063 Q99.1406,193.75 98.9219,193.7344 Q97.7031,193.7344 97.5469,193.8594 Q97.375,194.0156 97.375,194.2813 Q97.3438,195.7656 96.6875,196.5781 Q96.0781,197.375 96,197.375 Q94.6719,197.375 93.8906,195.7813 Q93.1406,194.2344 93.1406,191.75 Q93.1406,189.125 94.0781,187.6719 Q94.9063,186.4219 96.1875,186.4219 Q96.1875,186.4219 96.5313,187.0469 Q97.1563,187.7188 97.2969,188.875 Q97.4063,189.4531 98.875,189.2344 Q99.4063,189.1563 99.375,188.7344 Q99.2031,187.2969 98.4844,186.4844 Q97.625,185.5156 96.0625,185.5156 Z \"/><text fill=\"#000000\" font-family=\"sans-serif\" font-size=\"12\" lengthAdjust=\"spacingAndGlyphs\" textLength=\"72\" x=\"110.5\" y=\"197.6045\">CheesePizza</text><line style=\"stroke: #A80036; stroke-width: 1.5;\" x1=\"82.5\" x2=\"184.5\" y1=\"208\" y2=\"208\"/><line style=\"stroke: #A80036; stroke-width: 1.5;\" x1=\"82.5\" x2=\"184.5\" y1=\"216\" y2=\"216\"/><rect fill=\"#FEFECE\" filter=\"url(#f1)\" height=\"48\" style=\"stroke: #A80036; stroke-width: 1.5;\" width=\"98\" x=\"220.5\" y=\"176\"/><ellipse cx=\"235.5\" cy=\"192\" fill=\"#ADD1B2\" rx=\"11\" ry=\"11\" style=\"stroke: #A80036; stroke-width: 1.0;\"/><path d=\"M235.0625,185.5156 Q232.3281,185.5156 231.25,187.1406 Q230.1094,188.8594 230.1094,191.7813 Q230.1094,195.0781 231.2656,196.7813 Q232.25,198.2813 234.8594,198.2813 Q236.4375,198.2813 237.3125,197.4531 Q238.2969,196.5 238.4375,194.375 Q238.4375,194.0781 238.2656,193.9063 Q238.1406,193.75 237.9219,193.7344 Q236.7031,193.7344 236.5469,193.8594 Q236.375,194.0156 236.375,194.2813 Q236.3438,195.7656 235.6875,196.5781 Q235.0781,197.375 235,197.375 Q233.6719,197.375 232.8906,195.7813 Q232.1406,194.2344 232.1406,191.75 Q232.1406,189.125 233.0781,187.6719 Q233.9063,186.4219 235.1875,186.4219 Q235.1875,186.4219 235.5313,187.0469 Q236.1563,187.7188 236.2969,188.875 Q236.4063,189.4531 237.875,189.2344 Q238.4063,189.1563 238.375,188.7344 Q238.2031,187.2969 237.4844,186.4844 Q236.625,185.5156 235.0625,185.5156 Z \"/><text fill=\"#000000\" font-family=\"sans-serif\" font-size=\"12\" lengthAdjust=\"spacingAndGlyphs\" textLength=\"66\" x=\"249.5\" y=\"197.6045\">VeggiePizza</text><line style=\"stroke: #A80036; stroke-width: 1.5;\" x1=\"221.5\" x2=\"317.5\" y1=\"208\" y2=\"208\"/><line style=\"stroke: #A80036; stroke-width: 1.5;\" x1=\"221.5\" x2=\"317.5\" y1=\"216\" y2=\"216\"/><rect fill=\"#FEFECE\" filter=\"url(#f1)\" height=\"48\" style=\"stroke: #A80036; stroke-width: 1.5;\" width=\"90\" x=\"353.5\" y=\"176\"/><ellipse cx=\"368.5\" cy=\"192\" fill=\"#ADD1B2\" rx=\"11\" ry=\"11\" style=\"stroke: #A80036; stroke-width: 1.0;\"/><path d=\"M368.0625,185.5156 Q365.3281,185.5156 364.25,187.1406 Q363.1094,188.8594 363.1094,191.7813 Q363.1094,195.0781 364.2656,196.7813 Q365.25,198.2813 367.8594,198.2813 Q369.4375,198.2813 370.3125,197.4531 Q371.2969,196.5 371.4375,194.375 Q371.4375,194.0781 371.2656,193.9063 Q371.1406,193.75 370.9219,193.7344 Q369.7031,193.7344 369.5469,193.8594 Q369.375,194.0156 369.375,194.2813 Q369.3438,195.7656 368.6875,196.5781 Q368.0781,197.375 368,197.375 Q366.6719,197.375 365.8906,195.7813 Q365.1406,194.2344 365.1406,191.75 Q365.1406,189.125 366.0781,187.6719 Q366.9063,186.4219 368.1875,186.4219 Q368.1875,186.4219 368.5313,187.0469 Q369.1563,187.7188 369.2969,188.875 Q369.4063,189.4531 370.875,189.2344 Q371.4063,189.1563 371.375,188.7344 Q371.2031,187.2969 370.4844,186.4844 Q369.625,185.5156 368.0625,185.5156 Z \"/><text fill=\"#000000\" font-family=\"sans-serif\" font-size=\"12\" lengthAdjust=\"spacingAndGlyphs\" textLength=\"58\" x=\"382.5\" y=\"197.6045\">ClamPizza</text><line style=\"stroke: #A80036; stroke-width: 1.5;\" x1=\"354.5\" x2=\"442.5\" y1=\"208\" y2=\"208\"/><line style=\"stroke: #A80036; stroke-width: 1.5;\" x1=\"354.5\" x2=\"442.5\" y1=\"216\" y2=\"216\"/><rect fill=\"#FEFECE\" filter=\"url(#f1)\" height=\"48\" style=\"stroke: #A80036; stroke-width: 1.5;\" width=\"117\" x=\"479\" y=\"176\"/><ellipse cx=\"494\" cy=\"192\" fill=\"#ADD1B2\" rx=\"11\" ry=\"11\" style=\"stroke: #A80036; stroke-width: 1.0;\"/><path d=\"M493.5625,185.5156 Q490.8281,185.5156 489.75,187.1406 Q488.6094,188.8594 488.6094,191.7813 Q488.6094,195.0781 489.7656,196.7813 Q490.75,198.2813 493.3594,198.2813 Q494.9375,198.2813 495.8125,197.4531 Q496.7969,196.5 496.9375,194.375 Q496.9375,194.0781 496.7656,193.9063 Q496.6406,193.75 496.4219,193.7344 Q495.2031,193.7344 495.0469,193.8594 Q494.875,194.0156 494.875,194.2813 Q494.8438,195.7656 494.1875,196.5781 Q493.5781,197.375 493.5,197.375 Q492.1719,197.375 491.3906,195.7813 Q490.6406,194.2344 490.6406,191.75 Q490.6406,189.125 491.5781,187.6719 Q492.4063,186.4219 493.6875,186.4219 Q493.6875,186.4219 494.0313,187.0469 Q494.6563,187.7188 494.7969,188.875 Q494.9063,189.4531 496.375,189.2344 Q496.9063,189.1563 496.875,188.7344 Q496.7031,187.2969 495.9844,186.4844 Q495.125,185.5156 493.5625,185.5156 Z \"/><text fill=\"#000000\" font-family=\"sans-serif\" font-size=\"12\" lengthAdjust=\"spacingAndGlyphs\" textLength=\"85\" x=\"508\" y=\"197.6045\">PepperoniPizza</text><line style=\"stroke: #A80036; stroke-width: 1.5;\" x1=\"480\" x2=\"595\" y1=\"208\" y2=\"208\"/><line style=\"stroke: #A80036; stroke-width: 1.5;\" x1=\"480\" x2=\"595\" y1=\"216\" y2=\"216\"/><path d=\"M95.0254,62 C104.9878,62 114.95,62 124.913,62 \" fill=\"none\" style=\"stroke: #A80036; stroke-width: 1.0;\"/><polygon fill=\"#A80036\" points=\"130.122,62,121.122,58,125.122,62,121.122,66,130.122,62\" style=\"stroke: #A80036; stroke-width: 1.0;\"/><path d=\"M268.582,62 C278.595,62 288.609,62 298.622,62 \" fill=\"none\" style=\"stroke: #A80036; stroke-width: 1.0;\"/><polygon fill=\"#A80036\" points=\"303.858,62,294.858,58,298.858,62,294.858,66,303.858,62\" style=\"stroke: #A80036; stroke-width: 1.0;\"/><path d=\"M289.005,113.982 C288.172,114.669 287.337,115.342 286.5,116 C255.609,140.2708 216.637,161.2951 185.757,176.1113 \" fill=\"none\" style=\"stroke: #A80036; stroke-width: 1.0;\"/><polygon fill=\"none\" points=\"284.333,108.767,303.742,100.263,293.873,119.014,284.333,108.767\" style=\"stroke: #A80036; stroke-width: 1.0;\"/><path d=\"M300.289,134.5793 C293.119,149.5822 286.06,164.3522 280.513,175.9571 \" fill=\"none\" style=\"stroke: #A80036; stroke-width: 1.0;\"/><polygon fill=\"none\" points=\"294.057,131.3868,308.997,116.36,306.688,137.424,294.057,131.3868\" style=\"stroke: #A80036; stroke-width: 1.0;\"/><path d=\"M368.184,134.5793 C375.245,149.5822 382.195,164.3522 387.656,175.9571 \" fill=\"none\" style=\"stroke: #A80036; stroke-width: 1.0;\"/><polygon fill=\"none\" points=\"361.793,137.4374,359.611,116.36,374.461,131.4762,361.793,137.4374\" style=\"stroke: #A80036; stroke-width: 1.0;\"/><path d=\"M382.053,94.858 C419.117,119.689 469.712,153.5851 502.974,175.8693 \" fill=\"none\" style=\"stroke: #A80036; stroke-width: 1.0;\"/><polygon fill=\"none\" points=\"378.051,100.603,365.331,83.655,385.843,88.972,378.051,100.603\" style=\"stroke: #A80036; stroke-width: 1.0;\"/></g></svg>"
      ],
      "text/plain": [
       "<IPython.core.display.SVG object>"
      ]
     },
     "execution_count": 9,
     "metadata": {},
     "output_type": "execute_result"
    }
   ],
   "source": [
    "%%plantuml\n",
    "@startuml\n",
    "\n",
    "class PizzaStore {\n",
    "    +orderPizza()\n",
    "}\n",
    "class SimplePizzaFactory {\n",
    "    +createPizza()\n",
    "}\n",
    "class Pizza {\n",
    "    preparte()\n",
    "    bake()\n",
    "    cut()\n",
    "    box()\n",
    "}\n",
    "PizzaStore -> SimplePizzaFactory\n",
    "SimplePizzaFactory -> Pizza\n",
    "Pizza <|-- CheesePizza\n",
    "Pizza <|-- VeggiePizza\n",
    "Pizza <|-- ClamPizza\n",
    "Pizza <|-- PepperoniPizza\n",
    "\n",
    "@enduml"
   ]
  }
 ],
 "metadata": {
  "kernelspec": {
   "display_name": "Python 2",
   "language": "python",
   "name": "python2"
  },
  "language_info": {
   "codemirror_mode": {
    "name": "ipython",
    "version": 2
   },
   "file_extension": ".py",
   "mimetype": "text/x-python",
   "name": "python",
   "nbconvert_exporter": "python",
   "pygments_lexer": "ipython2",
   "version": "2.7.10"
  }
 },
 "nbformat": 4,
 "nbformat_minor": 0
}
