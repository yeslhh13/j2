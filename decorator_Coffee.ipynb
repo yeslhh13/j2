{
 "cells": [
  {
   "cell_type": "code",
   "execution_count": 1,
   "metadata": {
    "collapsed": false
   },
   "outputs": [
    {
     "name": "stdout",
     "output_type": "stream",
     "text": [
      "Installed plantuml_magics.py. To use it, type:\n",
      "  %load_ext plantuml_magics\n"
     ]
    },
    {
     "name": "stderr",
     "output_type": "stream",
     "text": [
      "C:\\Anaconda\\lib\\site-packages\\IPython\\core\\magics\\extension.py:47: UserWarning: %install_ext` is deprecated, please distribute your extension(s)as a python packages.\n",
      "  \"as a python packages.\", UserWarning)\n"
     ]
    }
   ],
   "source": [
    "%install_ext https://raw.githubusercontent.com/sberke/ipython-plantuml/master/plantuml_magics.py"
   ]
  },
  {
   "cell_type": "code",
   "execution_count": 2,
   "metadata": {
    "collapsed": true
   },
   "outputs": [],
   "source": [
    "%load_ext plantuml_magics"
   ]
  },
  {
   "cell_type": "code",
   "execution_count": 3,
   "metadata": {
    "collapsed": false
   },
   "outputs": [
    {
     "data": {
      "text/plain": [
       "['.\\\\plantuml.jar']"
      ]
     },
     "execution_count": 3,
     "metadata": {},
     "output_type": "execute_result"
    }
   ],
   "source": [
    "import glob\n",
    "glob.glob(r'./*.jar')"
   ]
  },
  {
   "cell_type": "code",
   "execution_count": 8,
   "metadata": {
    "collapsed": false
   },
   "outputs": [
    {
     "data": {
      "image/svg+xml": [
       "<svg height=\"218px\" style=\"width:462px;height:218px;\" version=\"1.1\" viewBox=\"0 0 462 218\" width=\"462px\" xmlns=\"http://www.w3.org/2000/svg\" xmlns:xlink=\"http://www.w3.org/1999/xlink\"><defs><filter height=\"300%\" id=\"f1\" width=\"300%\" x=\"-1\" y=\"-1\"><feGaussianBlur result=\"blurOut\" stdDeviation=\"2.0\"/><feColorMatrix in=\"blurOut\" result=\"blurOut2\" type=\"matrix\" values=\"0 0 0 0 0 0 0 0 0 0 0 0 0 0 0 0 0 0 .4 0\"/><feOffset dx=\"4.0\" dy=\"4.0\" in=\"blurOut2\" result=\"blurOut3\"/><feBlend in=\"SourceGraphic\" in2=\"blurOut3\" mode=\"normal\"/></filter></defs><g><rect fill=\"#FEFECE\" filter=\"url(#f1)\" height=\"93.3267\" style=\"stroke: #A80036; stroke-width: 1.5;\" width=\"89\" x=\"199\" y=\"8\"/><ellipse cx=\"216.25\" cy=\"24\" fill=\"#ADD1B2\" rx=\"11\" ry=\"11\" style=\"stroke: #A80036; stroke-width: 1.0;\"/><path d=\"M215.8125,17.5156 Q213.0781,17.5156 212,19.1406 Q210.8594,20.8594 210.8594,23.7813 Q210.8594,27.0781 212.0156,28.7813 Q213,30.2813 215.6094,30.2813 Q217.1875,30.2813 218.0625,29.4531 Q219.0469,28.5 219.1875,26.375 Q219.1875,26.0781 219.0156,25.9063 Q218.8906,25.75 218.6719,25.7344 Q217.4531,25.7344 217.2969,25.8594 Q217.125,26.0156 217.125,26.2813 Q217.0938,27.7656 216.4375,28.5781 Q215.8281,29.375 215.75,29.375 Q214.4219,29.375 213.6406,27.7813 Q212.8906,26.2344 212.8906,23.75 Q212.8906,21.125 213.8281,19.6719 Q214.6563,18.4219 215.9375,18.4219 Q215.9375,18.4219 216.2813,19.0469 Q216.9063,19.7188 217.0469,20.875 Q217.1563,21.4531 218.625,21.2344 Q219.1563,21.1563 219.125,20.7344 Q218.9531,19.2969 218.2344,18.4844 Q217.375,17.5156 215.8125,17.5156 Z \"/><text fill=\"#000000\" font-family=\"sans-serif\" font-size=\"12\" lengthAdjust=\"spacingAndGlyphs\" textLength=\"52\" x=\"230.75\" y=\"29.6045\">Beverage</text><line style=\"stroke: #A80036; stroke-width: 1.5;\" x1=\"200\" x2=\"287\" y1=\"40\" y2=\"40\"/><text fill=\"#000000\" font-family=\"sans-serif\" font-size=\"11\" lengthAdjust=\"spacingAndGlyphs\" textLength=\"53\" x=\"205\" y=\"56.6919\">description</text><line style=\"stroke: #A80036; stroke-width: 1.5;\" x1=\"200\" x2=\"287\" y1=\"63.1089\" y2=\"63.1089\"/><text fill=\"#000000\" font-family=\"sans-serif\" font-size=\"11\" lengthAdjust=\"spacingAndGlyphs\" textLength=\"77\" x=\"205\" y=\"79.8008\">getDescription()</text><text fill=\"#000000\" font-family=\"sans-serif\" font-size=\"11\" lengthAdjust=\"spacingAndGlyphs\" textLength=\"29\" x=\"205\" y=\"94.9097\">cost()</text><rect fill=\"#FEFECE\" filter=\"url(#f1)\" height=\"48\" style=\"stroke: #A80036; stroke-width: 1.5;\" width=\"101\" x=\"6\" y=\"161\"/><ellipse cx=\"21\" cy=\"177\" fill=\"#ADD1B2\" rx=\"11\" ry=\"11\" style=\"stroke: #A80036; stroke-width: 1.0;\"/><path d=\"M20.5625,170.5156 Q17.8281,170.5156 16.75,172.1406 Q15.6094,173.8594 15.6094,176.7813 Q15.6094,180.0781 16.7656,181.7813 Q17.75,183.2813 20.3594,183.2813 Q21.9375,183.2813 22.8125,182.4531 Q23.7969,181.5 23.9375,179.375 Q23.9375,179.0781 23.7656,178.9063 Q23.6406,178.75 23.4219,178.7344 Q22.2031,178.7344 22.0469,178.8594 Q21.875,179.0156 21.875,179.2813 Q21.8438,180.7656 21.1875,181.5781 Q20.5781,182.375 20.5,182.375 Q19.1719,182.375 18.3906,180.7813 Q17.6406,179.2344 17.6406,176.75 Q17.6406,174.125 18.5781,172.6719 Q19.4063,171.4219 20.6875,171.4219 Q20.6875,171.4219 21.0313,172.0469 Q21.6563,172.7188 21.7969,173.875 Q21.9063,174.4531 23.375,174.2344 Q23.9063,174.1563 23.875,173.7344 Q23.7031,172.2969 22.9844,171.4844 Q22.125,170.5156 20.5625,170.5156 Z \"/><text fill=\"#000000\" font-family=\"sans-serif\" font-size=\"12\" lengthAdjust=\"spacingAndGlyphs\" textLength=\"69\" x=\"35\" y=\"182.6045\">HouseBlend</text><line style=\"stroke: #A80036; stroke-width: 1.5;\" x1=\"7\" x2=\"106\" y1=\"193\" y2=\"193\"/><line style=\"stroke: #A80036; stroke-width: 1.5;\" x1=\"7\" x2=\"106\" y1=\"201\" y2=\"201\"/><rect fill=\"#FEFECE\" filter=\"url(#f1)\" height=\"48\" style=\"stroke: #A80036; stroke-width: 1.5;\" width=\"91\" x=\"142\" y=\"161\"/><ellipse cx=\"157\" cy=\"177\" fill=\"#ADD1B2\" rx=\"11\" ry=\"11\" style=\"stroke: #A80036; stroke-width: 1.0;\"/><path d=\"M156.5625,170.5156 Q153.8281,170.5156 152.75,172.1406 Q151.6094,173.8594 151.6094,176.7813 Q151.6094,180.0781 152.7656,181.7813 Q153.75,183.2813 156.3594,183.2813 Q157.9375,183.2813 158.8125,182.4531 Q159.7969,181.5 159.9375,179.375 Q159.9375,179.0781 159.7656,178.9063 Q159.6406,178.75 159.4219,178.7344 Q158.2031,178.7344 158.0469,178.8594 Q157.875,179.0156 157.875,179.2813 Q157.8438,180.7656 157.1875,181.5781 Q156.5781,182.375 156.5,182.375 Q155.1719,182.375 154.3906,180.7813 Q153.6406,179.2344 153.6406,176.75 Q153.6406,174.125 154.5781,172.6719 Q155.4063,171.4219 156.6875,171.4219 Q156.6875,171.4219 157.0313,172.0469 Q157.6563,172.7188 157.7969,173.875 Q157.9063,174.4531 159.375,174.2344 Q159.9063,174.1563 159.875,173.7344 Q159.7031,172.2969 158.9844,171.4844 Q158.125,170.5156 156.5625,170.5156 Z \"/><text fill=\"#000000\" font-family=\"sans-serif\" font-size=\"12\" lengthAdjust=\"spacingAndGlyphs\" textLength=\"59\" x=\"171\" y=\"182.6045\">DarkRoast</text><line style=\"stroke: #A80036; stroke-width: 1.5;\" x1=\"143\" x2=\"232\" y1=\"193\" y2=\"193\"/><line style=\"stroke: #A80036; stroke-width: 1.5;\" x1=\"143\" x2=\"232\" y1=\"201\" y2=\"201\"/><rect fill=\"#FEFECE\" filter=\"url(#f1)\" height=\"48\" style=\"stroke: #A80036; stroke-width: 1.5;\" width=\"64\" x=\"268.5\" y=\"161\"/><ellipse cx=\"283.5\" cy=\"177\" fill=\"#ADD1B2\" rx=\"11\" ry=\"11\" style=\"stroke: #A80036; stroke-width: 1.0;\"/><path d=\"M283.0625,170.5156 Q280.3281,170.5156 279.25,172.1406 Q278.1094,173.8594 278.1094,176.7813 Q278.1094,180.0781 279.2656,181.7813 Q280.25,183.2813 282.8594,183.2813 Q284.4375,183.2813 285.3125,182.4531 Q286.2969,181.5 286.4375,179.375 Q286.4375,179.0781 286.2656,178.9063 Q286.1406,178.75 285.9219,178.7344 Q284.7031,178.7344 284.5469,178.8594 Q284.375,179.0156 284.375,179.2813 Q284.3438,180.7656 283.6875,181.5781 Q283.0781,182.375 283,182.375 Q281.6719,182.375 280.8906,180.7813 Q280.1406,179.2344 280.1406,176.75 Q280.1406,174.125 281.0781,172.6719 Q281.9063,171.4219 283.1875,171.4219 Q283.1875,171.4219 283.5313,172.0469 Q284.1563,172.7188 284.2969,173.875 Q284.4063,174.4531 285.875,174.2344 Q286.4063,174.1563 286.375,173.7344 Q286.2031,172.2969 285.4844,171.4844 Q284.625,170.5156 283.0625,170.5156 Z \"/><text fill=\"#000000\" font-family=\"sans-serif\" font-size=\"12\" lengthAdjust=\"spacingAndGlyphs\" textLength=\"32\" x=\"297.5\" y=\"182.6045\">Decaf</text><line style=\"stroke: #A80036; stroke-width: 1.5;\" x1=\"269.5\" x2=\"331.5\" y1=\"193\" y2=\"193\"/><line style=\"stroke: #A80036; stroke-width: 1.5;\" x1=\"269.5\" x2=\"331.5\" y1=\"201\" y2=\"201\"/><rect fill=\"#FEFECE\" filter=\"url(#f1)\" height=\"48\" style=\"stroke: #A80036; stroke-width: 1.5;\" width=\"86\" x=\"367.5\" y=\"161\"/><ellipse cx=\"382.5\" cy=\"177\" fill=\"#ADD1B2\" rx=\"11\" ry=\"11\" style=\"stroke: #A80036; stroke-width: 1.0;\"/><path d=\"M382.0625,170.5156 Q379.3281,170.5156 378.25,172.1406 Q377.1094,173.8594 377.1094,176.7813 Q377.1094,180.0781 378.2656,181.7813 Q379.25,183.2813 381.8594,183.2813 Q383.4375,183.2813 384.3125,182.4531 Q385.2969,181.5 385.4375,179.375 Q385.4375,179.0781 385.2656,178.9063 Q385.1406,178.75 384.9219,178.7344 Q383.7031,178.7344 383.5469,178.8594 Q383.375,179.0156 383.375,179.2813 Q383.3438,180.7656 382.6875,181.5781 Q382.0781,182.375 382,182.375 Q380.6719,182.375 379.8906,180.7813 Q379.1406,179.2344 379.1406,176.75 Q379.1406,174.125 380.0781,172.6719 Q380.9063,171.4219 382.1875,171.4219 Q382.1875,171.4219 382.5313,172.0469 Q383.1563,172.7188 383.2969,173.875 Q383.4063,174.4531 384.875,174.2344 Q385.4063,174.1563 385.375,173.7344 Q385.2031,172.2969 384.4844,171.4844 Q383.625,170.5156 382.0625,170.5156 Z \"/><text fill=\"#000000\" font-family=\"sans-serif\" font-size=\"12\" lengthAdjust=\"spacingAndGlyphs\" textLength=\"54\" x=\"396.5\" y=\"182.6045\">Espresso</text><line style=\"stroke: #A80036; stroke-width: 1.5;\" x1=\"368.5\" x2=\"452.5\" y1=\"193\" y2=\"193\"/><line style=\"stroke: #A80036; stroke-width: 1.5;\" x1=\"368.5\" x2=\"452.5\" y1=\"201\" y2=\"201\"/><path d=\"M181.889,97.837 C151.317,118.8451 115.577,143.4045 90.0929,160.9161 \" fill=\"none\" style=\"stroke: #A80036; stroke-width: 1.0;\"/><polygon fill=\"none\" points=\"178.261,91.837,198.709,86.279,186.19,103.375,178.261,91.837\" style=\"stroke: #A80036; stroke-width: 1.0;\"/><path d=\"M215.552,119.6296 C209.118,134.395 202.679,149.1688 197.597,160.8319 \" fill=\"none\" style=\"stroke: #A80036; stroke-width: 1.0;\"/><polygon fill=\"none\" points=\"209.191,116.7041,223.599,101.166,222.026,122.2973,209.191,116.7041\" style=\"stroke: #A80036; stroke-width: 1.0;\"/><path d=\"M271.947,119.6296 C278.496,134.395 285.05,149.1688 290.223,160.8319 \" fill=\"none\" style=\"stroke: #A80036; stroke-width: 1.0;\"/><polygon fill=\"none\" points=\"265.467,122.2866,263.757,101.166,278.265,116.6098,265.467,122.2866\" style=\"stroke: #A80036; stroke-width: 1.0;\"/><path d=\"M304.285,102.271 C330.182,122.1981 359.234,144.5526 380.4,160.8389 \" fill=\"none\" style=\"stroke: #A80036; stroke-width: 1.0;\"/><polygon fill=\"none\" points=\"299.835,107.68,288.253,89.936,308.372,96.584,299.835,107.68\" style=\"stroke: #A80036; stroke-width: 1.0;\"/></g></svg>"
      ],
      "text/plain": [
       "<IPython.core.display.SVG object>"
      ]
     },
     "execution_count": 8,
     "metadata": {},
     "output_type": "execute_result"
    }
   ],
   "source": [
    "%%plantuml\n",
    "\n",
    "@startuml\n",
    "\n",
    "class Beverage {\n",
    "    description\n",
    "    getDescription()\n",
    "    cost()\n",
    "}\n",
    "Beverage <|-- HouseBlend\n",
    "Beverage <|-- DarkRoast\n",
    "Beverage <|-- Decaf\n",
    "Beverage <|-- Espresso\n",
    "\n",
    "@enduml"
   ]
  },
  {
   "cell_type": "code",
   "execution_count": 14,
   "metadata": {
    "collapsed": false
   },
   "outputs": [
    {
     "data": {
      "image/svg+xml": [
       "<svg height=\"296px\" style=\"width:308px;height:296px;\" version=\"1.1\" viewBox=\"0 0 308 296\" width=\"308px\" xmlns=\"http://www.w3.org/2000/svg\" xmlns:xlink=\"http://www.w3.org/1999/xlink\"><defs><filter height=\"300%\" id=\"f1\" width=\"300%\" x=\"-1\" y=\"-1\"><feGaussianBlur result=\"blurOut\" stdDeviation=\"2.0\"/><feColorMatrix in=\"blurOut\" result=\"blurOut2\" type=\"matrix\" values=\"0 0 0 0 0 0 0 0 0 0 0 0 0 0 0 0 0 0 .4 0\"/><feOffset dx=\"4.0\" dy=\"4.0\" in=\"blurOut2\" result=\"blurOut3\"/><feBlend in=\"SourceGraphic\" in2=\"blurOut3\" mode=\"normal\"/></filter></defs><g><rect fill=\"#FEFECE\" filter=\"url(#f1)\" height=\"48\" style=\"stroke: #A80036; stroke-width: 1.5;\" width=\"97\" x=\"25.5\" y=\"8\"/><ellipse cx=\"40.5\" cy=\"24\" fill=\"#A9DCDF\" rx=\"11\" ry=\"11\" style=\"stroke: #A80036; stroke-width: 1.0;\"/><path d=\"M38.5313,24.3906 L40.0313,18.9688 L41,24.3906 L38.5313,24.3906 Z M38.4219,17.4688 L35.2813,28.7969 Q35.1563,29.0938 35.25,29.2969 Q35.3281,29.4844 35.5469,29.5313 Q36.4063,29.7344 36.9375,29.4688 Q37.125,29.3438 37.2188,29.1406 L38.2813,25.2969 L41.2188,25.2969 L42.2813,29.1875 Q42.3281,29.4063 42.5156,29.5 Q43.0156,29.7188 43.8906,29.5313 Q44.0781,29.4844 44.2031,29.3125 Q44.3125,29.1563 44.25,28.9219 L41.125,17.4688 Q40.8594,16.7813 40.2656,16.7656 Q38.6563,16.7656 38.4219,17.4688 Z \"/><text fill=\"#000000\" font-family=\"sans-serif\" font-size=\"12\" font-style=\"italic\" lengthAdjust=\"spacingAndGlyphs\" textLength=\"65\" x=\"54.5\" y=\"29.6045\">Component</text><line style=\"stroke: #A80036; stroke-width: 1.5;\" x1=\"26.5\" x2=\"121.5\" y1=\"40\" y2=\"40\"/><line style=\"stroke: #A80036; stroke-width: 1.5;\" x1=\"26.5\" x2=\"121.5\" y1=\"48\" y2=\"48\"/><rect fill=\"#FEFECE\" filter=\"url(#f1)\" height=\"63.1089\" style=\"stroke: #A80036; stroke-width: 1.5;\" width=\"86\" x=\"31\" y=\"116\"/><ellipse cx=\"46\" cy=\"132\" fill=\"#ADD1B2\" rx=\"11\" ry=\"11\" style=\"stroke: #A80036; stroke-width: 1.0;\"/><path d=\"M45.5625,125.5156 Q42.8281,125.5156 41.75,127.1406 Q40.6094,128.8594 40.6094,131.7813 Q40.6094,135.0781 41.7656,136.7813 Q42.75,138.2813 45.3594,138.2813 Q46.9375,138.2813 47.8125,137.4531 Q48.7969,136.5 48.9375,134.375 Q48.9375,134.0781 48.7656,133.9063 Q48.6406,133.75 48.4219,133.7344 Q47.2031,133.7344 47.0469,133.8594 Q46.875,134.0156 46.875,134.2813 Q46.8438,135.7656 46.1875,136.5781 Q45.5781,137.375 45.5,137.375 Q44.1719,137.375 43.3906,135.7813 Q42.6406,134.2344 42.6406,131.75 Q42.6406,129.125 43.5781,127.6719 Q44.4063,126.4219 45.6875,126.4219 Q45.6875,126.4219 46.0313,127.0469 Q46.6563,127.7188 46.7969,128.875 Q46.9063,129.4531 48.375,129.2344 Q48.9063,129.1563 48.875,128.7344 Q48.7031,127.2969 47.9844,126.4844 Q47.125,125.5156 45.5625,125.5156 Z \"/><text fill=\"#000000\" font-family=\"sans-serif\" font-size=\"12\" lengthAdjust=\"spacingAndGlyphs\" textLength=\"54\" x=\"60\" y=\"137.6045\">Decorator</text><line style=\"stroke: #A80036; stroke-width: 1.5;\" x1=\"32\" x2=\"116\" y1=\"148\" y2=\"148\"/><rect fill=\"none\" height=\"6\" style=\"stroke: #C82930; stroke-width: 1.0;\" width=\"6\" x=\"39\" y=\"158.0544\"/><text fill=\"#000000\" font-family=\"sans-serif\" font-size=\"11\" lengthAdjust=\"spacingAndGlyphs\" textLength=\"53\" x=\"51\" y=\"164.6919\">component</text><line style=\"stroke: #A80036; stroke-width: 1.5;\" x1=\"32\" x2=\"116\" y1=\"171.1089\" y2=\"171.1089\"/><rect fill=\"#FEFECE\" filter=\"url(#f1)\" height=\"48\" style=\"stroke: #A80036; stroke-width: 1.5;\" width=\"147\" x=\"152.5\" y=\"123.5\"/><ellipse cx=\"167.5\" cy=\"139.5\" fill=\"#ADD1B2\" rx=\"11\" ry=\"11\" style=\"stroke: #A80036; stroke-width: 1.0;\"/><path d=\"M167.0625,133.0156 Q164.3281,133.0156 163.25,134.6406 Q162.1094,136.3594 162.1094,139.2813 Q162.1094,142.5781 163.2656,144.2813 Q164.25,145.7813 166.8594,145.7813 Q168.4375,145.7813 169.3125,144.9531 Q170.2969,144 170.4375,141.875 Q170.4375,141.5781 170.2656,141.4063 Q170.1406,141.25 169.9219,141.2344 Q168.7031,141.2344 168.5469,141.3594 Q168.375,141.5156 168.375,141.7813 Q168.3438,143.2656 167.6875,144.0781 Q167.0781,144.875 167,144.875 Q165.6719,144.875 164.8906,143.2813 Q164.1406,141.7344 164.1406,139.25 Q164.1406,136.625 165.0781,135.1719 Q165.9063,133.9219 167.1875,133.9219 Q167.1875,133.9219 167.5313,134.5469 Q168.1563,135.2188 168.2969,136.375 Q168.4063,136.9531 169.875,136.7344 Q170.4063,136.6563 170.375,136.2344 Q170.2031,134.7969 169.4844,133.9844 Q168.625,133.0156 167.0625,133.0156 Z \"/><text fill=\"#000000\" font-family=\"sans-serif\" font-size=\"12\" lengthAdjust=\"spacingAndGlyphs\" textLength=\"115\" x=\"181.5\" y=\"145.1045\">ConcreteComponent</text><line style=\"stroke: #A80036; stroke-width: 1.5;\" x1=\"153.5\" x2=\"298.5\" y1=\"155.5\" y2=\"155.5\"/><line style=\"stroke: #A80036; stroke-width: 1.5;\" x1=\"153.5\" x2=\"298.5\" y1=\"163.5\" y2=\"163.5\"/><rect fill=\"#FEFECE\" filter=\"url(#f1)\" height=\"48\" style=\"stroke: #A80036; stroke-width: 1.5;\" width=\"136\" x=\"6\" y=\"239\"/><ellipse cx=\"21\" cy=\"255\" fill=\"#ADD1B2\" rx=\"11\" ry=\"11\" style=\"stroke: #A80036; stroke-width: 1.0;\"/><path d=\"M20.5625,248.5156 Q17.8281,248.5156 16.75,250.1406 Q15.6094,251.8594 15.6094,254.7813 Q15.6094,258.0781 16.7656,259.7813 Q17.75,261.2813 20.3594,261.2813 Q21.9375,261.2813 22.8125,260.4531 Q23.7969,259.5 23.9375,257.375 Q23.9375,257.0781 23.7656,256.9063 Q23.6406,256.75 23.4219,256.7344 Q22.2031,256.7344 22.0469,256.8594 Q21.875,257.0156 21.875,257.2813 Q21.8438,258.7656 21.1875,259.5781 Q20.5781,260.375 20.5,260.375 Q19.1719,260.375 18.3906,258.7813 Q17.6406,257.2344 17.6406,254.75 Q17.6406,252.125 18.5781,250.6719 Q19.4063,249.4219 20.6875,249.4219 Q20.6875,249.4219 21.0313,250.0469 Q21.6563,250.7188 21.7969,251.875 Q21.9063,252.4531 23.375,252.2344 Q23.9063,252.1563 23.875,251.7344 Q23.7031,250.2969 22.9844,249.4844 Q22.125,248.5156 20.5625,248.5156 Z \"/><text fill=\"#000000\" font-family=\"sans-serif\" font-size=\"12\" lengthAdjust=\"spacingAndGlyphs\" textLength=\"104\" x=\"35\" y=\"260.6045\">ConcreteDecorator</text><line style=\"stroke: #A80036; stroke-width: 1.5;\" x1=\"7\" x2=\"141\" y1=\"271\" y2=\"271\"/><line style=\"stroke: #A80036; stroke-width: 1.5;\" x1=\"7\" x2=\"141\" y1=\"279\" y2=\"279\"/><path d=\"M121.31,68.327 C145.386,86.305 173.965,107.645 195.175,123.483 \" fill=\"none\" style=\"stroke: #A80036; stroke-width: 1.0;\"/><polygon fill=\"none\" points=\"116.963,73.817,105.1263,56.242,125.34,62.6,116.963,73.817\" style=\"stroke: #A80036; stroke-width: 1.0;\"/><path d=\"M61.5723,76.331 C60.9267,89.543 61.251,103.784 62.5451,115.962 \" fill=\"none\" style=\"stroke: #A80036; stroke-width: 1.0;\"/><polygon fill=\"none\" points=\"54.6203,75.492,63.4774,56.242,68.5578,76.814,54.6203,75.492\" style=\"stroke: #A80036; stroke-width: 1.0;\"/><path d=\"M86.1287,115.962 C88.0437,98.942 87.953,77.892 85.8566,61.255 \" fill=\"none\" style=\"stroke: #A80036; stroke-width: 1.0;\"/><polygon fill=\"#A80036\" points=\"85.1416,56.242,82.452,65.7165,85.8473,61.1919,90.3719,64.5873,85.1416,56.242\" style=\"stroke: #A80036; stroke-width: 1.0;\"/><path d=\"M74,199.3536 C74,213.1427 74,227.4011 74,238.8252 \" fill=\"none\" style=\"stroke: #A80036; stroke-width: 1.0;\"/><polygon fill=\"none\" points=\"67.0001,199.2148,74,179.215,81.0001,199.2147,67.0001,199.2148\" style=\"stroke: #A80036; stroke-width: 1.0;\"/></g></svg>"
      ],
      "text/plain": [
       "<IPython.core.display.SVG object>"
      ]
     },
     "execution_count": 14,
     "metadata": {},
     "output_type": "execute_result"
    }
   ],
   "source": [
    "%%plantuml\n",
    "\n",
    "@startuml\n",
    "\n",
    "abstract class Component\n",
    "\n",
    "class Decorator {\n",
    "    -component\n",
    "}\n",
    "Component <|-- ConcreteComponent\n",
    "Component <|-- Decorator\n",
    "Decorator --> Component\n",
    "Decorator <|-- ConcreteDecorator\n",
    "\n",
    "@enduml"
   ]
  },
  {
   "cell_type": "code",
   "execution_count": 19,
   "metadata": {
    "collapsed": false
   },
   "outputs": [
    {
     "data": {
      "image/svg+xml": [
       "<svg height=\"386px\" style=\"width:768px;height:386px;\" version=\"1.1\" viewBox=\"0 0 768 386\" width=\"768px\" xmlns=\"http://www.w3.org/2000/svg\" xmlns:xlink=\"http://www.w3.org/1999/xlink\"><defs><filter height=\"300%\" id=\"f1\" width=\"300%\" x=\"-1\" y=\"-1\"><feGaussianBlur result=\"blurOut\" stdDeviation=\"2.0\"/><feColorMatrix in=\"blurOut\" result=\"blurOut2\" type=\"matrix\" values=\"0 0 0 0 0 0 0 0 0 0 0 0 0 0 0 0 0 0 .4 0\"/><feOffset dx=\"4.0\" dy=\"4.0\" in=\"blurOut2\" result=\"blurOut3\"/><feBlend in=\"SourceGraphic\" in2=\"blurOut3\" mode=\"normal\"/></filter></defs><g><rect fill=\"#FEFECE\" filter=\"url(#f1)\" height=\"93.3267\" style=\"stroke: #A80036; stroke-width: 1.5;\" width=\"89\" x=\"322\" y=\"8\"/><ellipse cx=\"339.25\" cy=\"24\" fill=\"#ADD1B2\" rx=\"11\" ry=\"11\" style=\"stroke: #A80036; stroke-width: 1.0;\"/><path d=\"M338.8125,17.5156 Q336.0781,17.5156 335,19.1406 Q333.8594,20.8594 333.8594,23.7813 Q333.8594,27.0781 335.0156,28.7813 Q336,30.2813 338.6094,30.2813 Q340.1875,30.2813 341.0625,29.4531 Q342.0469,28.5 342.1875,26.375 Q342.1875,26.0781 342.0156,25.9063 Q341.8906,25.75 341.6719,25.7344 Q340.4531,25.7344 340.2969,25.8594 Q340.125,26.0156 340.125,26.2813 Q340.0938,27.7656 339.4375,28.5781 Q338.8281,29.375 338.75,29.375 Q337.4219,29.375 336.6406,27.7813 Q335.8906,26.2344 335.8906,23.75 Q335.8906,21.125 336.8281,19.6719 Q337.6563,18.4219 338.9375,18.4219 Q338.9375,18.4219 339.2813,19.0469 Q339.9063,19.7188 340.0469,20.875 Q340.1563,21.4531 341.625,21.2344 Q342.1563,21.1563 342.125,20.7344 Q341.9531,19.2969 341.2344,18.4844 Q340.375,17.5156 338.8125,17.5156 Z \"/><text fill=\"#000000\" font-family=\"sans-serif\" font-size=\"12\" lengthAdjust=\"spacingAndGlyphs\" textLength=\"52\" x=\"353.75\" y=\"29.6045\">Beverage</text><line style=\"stroke: #A80036; stroke-width: 1.5;\" x1=\"323\" x2=\"410\" y1=\"40\" y2=\"40\"/><text fill=\"#000000\" font-family=\"sans-serif\" font-size=\"11\" lengthAdjust=\"spacingAndGlyphs\" textLength=\"53\" x=\"328\" y=\"56.6919\">description</text><line style=\"stroke: #A80036; stroke-width: 1.5;\" x1=\"323\" x2=\"410\" y1=\"63.1089\" y2=\"63.1089\"/><text fill=\"#000000\" font-family=\"sans-serif\" font-size=\"11\" lengthAdjust=\"spacingAndGlyphs\" textLength=\"77\" x=\"328\" y=\"79.8008\">getDescription()</text><text fill=\"#000000\" font-family=\"sans-serif\" font-size=\"11\" lengthAdjust=\"spacingAndGlyphs\" textLength=\"29\" x=\"328\" y=\"94.9097\">cost()</text><rect fill=\"#FEFECE\" filter=\"url(#f1)\" height=\"63.1089\" style=\"stroke: #A80036; stroke-width: 1.5;\" width=\"101\" x=\"6\" y=\"161\"/><ellipse cx=\"21\" cy=\"177\" fill=\"#ADD1B2\" rx=\"11\" ry=\"11\" style=\"stroke: #A80036; stroke-width: 1.0;\"/><path d=\"M20.5625,170.5156 Q17.8281,170.5156 16.75,172.1406 Q15.6094,173.8594 15.6094,176.7813 Q15.6094,180.0781 16.7656,181.7813 Q17.75,183.2813 20.3594,183.2813 Q21.9375,183.2813 22.8125,182.4531 Q23.7969,181.5 23.9375,179.375 Q23.9375,179.0781 23.7656,178.9063 Q23.6406,178.75 23.4219,178.7344 Q22.2031,178.7344 22.0469,178.8594 Q21.875,179.0156 21.875,179.2813 Q21.8438,180.7656 21.1875,181.5781 Q20.5781,182.375 20.5,182.375 Q19.1719,182.375 18.3906,180.7813 Q17.6406,179.2344 17.6406,176.75 Q17.6406,174.125 18.5781,172.6719 Q19.4063,171.4219 20.6875,171.4219 Q20.6875,171.4219 21.0313,172.0469 Q21.6563,172.7188 21.7969,173.875 Q21.9063,174.4531 23.375,174.2344 Q23.9063,174.1563 23.875,173.7344 Q23.7031,172.2969 22.9844,171.4844 Q22.125,170.5156 20.5625,170.5156 Z \"/><text fill=\"#000000\" font-family=\"sans-serif\" font-size=\"12\" lengthAdjust=\"spacingAndGlyphs\" textLength=\"69\" x=\"35\" y=\"182.6045\">HouseBlend</text><line style=\"stroke: #A80036; stroke-width: 1.5;\" x1=\"7\" x2=\"106\" y1=\"193\" y2=\"193\"/><line style=\"stroke: #A80036; stroke-width: 1.5;\" x1=\"7\" x2=\"106\" y1=\"201\" y2=\"201\"/><text fill=\"#000000\" font-family=\"sans-serif\" font-size=\"11\" lengthAdjust=\"spacingAndGlyphs\" textLength=\"29\" x=\"12\" y=\"217.6919\">cost()</text><rect fill=\"#FEFECE\" filter=\"url(#f1)\" height=\"63.1089\" style=\"stroke: #A80036; stroke-width: 1.5;\" width=\"91\" x=\"142\" y=\"161\"/><ellipse cx=\"157\" cy=\"177\" fill=\"#ADD1B2\" rx=\"11\" ry=\"11\" style=\"stroke: #A80036; stroke-width: 1.0;\"/><path d=\"M156.5625,170.5156 Q153.8281,170.5156 152.75,172.1406 Q151.6094,173.8594 151.6094,176.7813 Q151.6094,180.0781 152.7656,181.7813 Q153.75,183.2813 156.3594,183.2813 Q157.9375,183.2813 158.8125,182.4531 Q159.7969,181.5 159.9375,179.375 Q159.9375,179.0781 159.7656,178.9063 Q159.6406,178.75 159.4219,178.7344 Q158.2031,178.7344 158.0469,178.8594 Q157.875,179.0156 157.875,179.2813 Q157.8438,180.7656 157.1875,181.5781 Q156.5781,182.375 156.5,182.375 Q155.1719,182.375 154.3906,180.7813 Q153.6406,179.2344 153.6406,176.75 Q153.6406,174.125 154.5781,172.6719 Q155.4063,171.4219 156.6875,171.4219 Q156.6875,171.4219 157.0313,172.0469 Q157.6563,172.7188 157.7969,173.875 Q157.9063,174.4531 159.375,174.2344 Q159.9063,174.1563 159.875,173.7344 Q159.7031,172.2969 158.9844,171.4844 Q158.125,170.5156 156.5625,170.5156 Z \"/><text fill=\"#000000\" font-family=\"sans-serif\" font-size=\"12\" lengthAdjust=\"spacingAndGlyphs\" textLength=\"59\" x=\"171\" y=\"182.6045\">DarkRoast</text><line style=\"stroke: #A80036; stroke-width: 1.5;\" x1=\"143\" x2=\"232\" y1=\"193\" y2=\"193\"/><line style=\"stroke: #A80036; stroke-width: 1.5;\" x1=\"143\" x2=\"232\" y1=\"201\" y2=\"201\"/><text fill=\"#000000\" font-family=\"sans-serif\" font-size=\"11\" lengthAdjust=\"spacingAndGlyphs\" textLength=\"29\" x=\"148\" y=\"217.6919\">cost()</text><rect fill=\"#FEFECE\" filter=\"url(#f1)\" height=\"63.1089\" style=\"stroke: #A80036; stroke-width: 1.5;\" width=\"86\" x=\"268.5\" y=\"161\"/><ellipse cx=\"283.5\" cy=\"177\" fill=\"#ADD1B2\" rx=\"11\" ry=\"11\" style=\"stroke: #A80036; stroke-width: 1.0;\"/><path d=\"M283.0625,170.5156 Q280.3281,170.5156 279.25,172.1406 Q278.1094,173.8594 278.1094,176.7813 Q278.1094,180.0781 279.2656,181.7813 Q280.25,183.2813 282.8594,183.2813 Q284.4375,183.2813 285.3125,182.4531 Q286.2969,181.5 286.4375,179.375 Q286.4375,179.0781 286.2656,178.9063 Q286.1406,178.75 285.9219,178.7344 Q284.7031,178.7344 284.5469,178.8594 Q284.375,179.0156 284.375,179.2813 Q284.3438,180.7656 283.6875,181.5781 Q283.0781,182.375 283,182.375 Q281.6719,182.375 280.8906,180.7813 Q280.1406,179.2344 280.1406,176.75 Q280.1406,174.125 281.0781,172.6719 Q281.9063,171.4219 283.1875,171.4219 Q283.1875,171.4219 283.5313,172.0469 Q284.1563,172.7188 284.2969,173.875 Q284.4063,174.4531 285.875,174.2344 Q286.4063,174.1563 286.375,173.7344 Q286.2031,172.2969 285.4844,171.4844 Q284.625,170.5156 283.0625,170.5156 Z \"/><text fill=\"#000000\" font-family=\"sans-serif\" font-size=\"12\" lengthAdjust=\"spacingAndGlyphs\" textLength=\"54\" x=\"297.5\" y=\"182.6045\">Espresso</text><line style=\"stroke: #A80036; stroke-width: 1.5;\" x1=\"269.5\" x2=\"353.5\" y1=\"193\" y2=\"193\"/><line style=\"stroke: #A80036; stroke-width: 1.5;\" x1=\"269.5\" x2=\"353.5\" y1=\"201\" y2=\"201\"/><text fill=\"#000000\" font-family=\"sans-serif\" font-size=\"11\" lengthAdjust=\"spacingAndGlyphs\" textLength=\"29\" x=\"274.5\" y=\"217.6919\">cost()</text><rect fill=\"#FEFECE\" filter=\"url(#f1)\" height=\"63.1089\" style=\"stroke: #A80036; stroke-width: 1.5;\" width=\"64\" x=\"389.5\" y=\"161\"/><ellipse cx=\"404.5\" cy=\"177\" fill=\"#ADD1B2\" rx=\"11\" ry=\"11\" style=\"stroke: #A80036; stroke-width: 1.0;\"/><path d=\"M404.0625,170.5156 Q401.3281,170.5156 400.25,172.1406 Q399.1094,173.8594 399.1094,176.7813 Q399.1094,180.0781 400.2656,181.7813 Q401.25,183.2813 403.8594,183.2813 Q405.4375,183.2813 406.3125,182.4531 Q407.2969,181.5 407.4375,179.375 Q407.4375,179.0781 407.2656,178.9063 Q407.1406,178.75 406.9219,178.7344 Q405.7031,178.7344 405.5469,178.8594 Q405.375,179.0156 405.375,179.2813 Q405.3438,180.7656 404.6875,181.5781 Q404.0781,182.375 404,182.375 Q402.6719,182.375 401.8906,180.7813 Q401.1406,179.2344 401.1406,176.75 Q401.1406,174.125 402.0781,172.6719 Q402.9063,171.4219 404.1875,171.4219 Q404.1875,171.4219 404.5313,172.0469 Q405.1563,172.7188 405.2969,173.875 Q405.4063,174.4531 406.875,174.2344 Q407.4063,174.1563 407.375,173.7344 Q407.2031,172.2969 406.4844,171.4844 Q405.625,170.5156 404.0625,170.5156 Z \"/><text fill=\"#000000\" font-family=\"sans-serif\" font-size=\"12\" lengthAdjust=\"spacingAndGlyphs\" textLength=\"32\" x=\"418.5\" y=\"182.6045\">Decaf</text><line style=\"stroke: #A80036; stroke-width: 1.5;\" x1=\"390.5\" x2=\"452.5\" y1=\"193\" y2=\"193\"/><line style=\"stroke: #A80036; stroke-width: 1.5;\" x1=\"390.5\" x2=\"452.5\" y1=\"201\" y2=\"201\"/><text fill=\"#000000\" font-family=\"sans-serif\" font-size=\"11\" lengthAdjust=\"spacingAndGlyphs\" textLength=\"29\" x=\"395.5\" y=\"217.6919\">cost()</text><rect fill=\"#FEFECE\" filter=\"url(#f1)\" height=\"63.1089\" style=\"stroke: #A80036; stroke-width: 1.5;\" width=\"147\" x=\"489\" y=\"161\"/><ellipse cx=\"504\" cy=\"177\" fill=\"#ADD1B2\" rx=\"11\" ry=\"11\" style=\"stroke: #A80036; stroke-width: 1.0;\"/><path d=\"M503.5625,170.5156 Q500.8281,170.5156 499.75,172.1406 Q498.6094,173.8594 498.6094,176.7813 Q498.6094,180.0781 499.7656,181.7813 Q500.75,183.2813 503.3594,183.2813 Q504.9375,183.2813 505.8125,182.4531 Q506.7969,181.5 506.9375,179.375 Q506.9375,179.0781 506.7656,178.9063 Q506.6406,178.75 506.4219,178.7344 Q505.2031,178.7344 505.0469,178.8594 Q504.875,179.0156 504.875,179.2813 Q504.8438,180.7656 504.1875,181.5781 Q503.5781,182.375 503.5,182.375 Q502.1719,182.375 501.3906,180.7813 Q500.6406,179.2344 500.6406,176.75 Q500.6406,174.125 501.5781,172.6719 Q502.4063,171.4219 503.6875,171.4219 Q503.6875,171.4219 504.0313,172.0469 Q504.6563,172.7188 504.7969,173.875 Q504.9063,174.4531 506.375,174.2344 Q506.9063,174.1563 506.875,173.7344 Q506.7031,172.2969 505.9844,171.4844 Q505.125,170.5156 503.5625,170.5156 Z \"/><text fill=\"#000000\" font-family=\"sans-serif\" font-size=\"12\" lengthAdjust=\"spacingAndGlyphs\" textLength=\"115\" x=\"518\" y=\"182.6045\">CondimentDecorator</text><line style=\"stroke: #A80036; stroke-width: 1.5;\" x1=\"490\" x2=\"635\" y1=\"193\" y2=\"193\"/><line style=\"stroke: #A80036; stroke-width: 1.5;\" x1=\"490\" x2=\"635\" y1=\"201\" y2=\"201\"/><text fill=\"#000000\" font-family=\"sans-serif\" font-size=\"11\" lengthAdjust=\"spacingAndGlyphs\" textLength=\"77\" x=\"495\" y=\"217.6919\">getDescription()</text><rect fill=\"#FEFECE\" filter=\"url(#f1)\" height=\"93.3267\" style=\"stroke: #A80036; stroke-width: 1.5;\" width=\"108\" x=\"365.5\" y=\"284\"/><ellipse cx=\"405.25\" cy=\"300\" fill=\"#ADD1B2\" rx=\"11\" ry=\"11\" style=\"stroke: #A80036; stroke-width: 1.0;\"/><path d=\"M404.8125,293.5156 Q402.0781,293.5156 401,295.1406 Q399.8594,296.8594 399.8594,299.7813 Q399.8594,303.0781 401.0156,304.7813 Q402,306.2813 404.6094,306.2813 Q406.1875,306.2813 407.0625,305.4531 Q408.0469,304.5 408.1875,302.375 Q408.1875,302.0781 408.0156,301.9063 Q407.8906,301.75 407.6719,301.7344 Q406.4531,301.7344 406.2969,301.8594 Q406.125,302.0156 406.125,302.2813 Q406.0938,303.7656 405.4375,304.5781 Q404.8281,305.375 404.75,305.375 Q403.4219,305.375 402.6406,303.7813 Q401.8906,302.2344 401.8906,299.75 Q401.8906,297.125 402.8281,295.6719 Q403.6563,294.4219 404.9375,294.4219 Q404.9375,294.4219 405.2813,295.0469 Q405.9063,295.7188 406.0469,296.875 Q406.1563,297.4531 407.625,297.2344 Q408.1563,297.1563 408.125,296.7344 Q407.9531,295.2969 407.2344,294.4844 Q406.375,293.5156 404.8125,293.5156 Z \"/><text fill=\"#000000\" font-family=\"sans-serif\" font-size=\"12\" lengthAdjust=\"spacingAndGlyphs\" textLength=\"21\" x=\"424.75\" y=\"305.6045\">Milk</text><line style=\"stroke: #A80036; stroke-width: 1.5;\" x1=\"366.5\" x2=\"472.5\" y1=\"316\" y2=\"316\"/><text fill=\"#000000\" font-family=\"sans-serif\" font-size=\"11\" lengthAdjust=\"spacingAndGlyphs\" textLength=\"96\" x=\"371.5\" y=\"332.6919\">Beverage beverage</text><line style=\"stroke: #A80036; stroke-width: 1.5;\" x1=\"366.5\" x2=\"472.5\" y1=\"339.1089\" y2=\"339.1089\"/><text fill=\"#000000\" font-family=\"sans-serif\" font-size=\"11\" lengthAdjust=\"spacingAndGlyphs\" textLength=\"29\" x=\"371.5\" y=\"355.8008\">cost()</text><text fill=\"#000000\" font-family=\"sans-serif\" font-size=\"11\" lengthAdjust=\"spacingAndGlyphs\" textLength=\"77\" x=\"371.5\" y=\"370.9097\">getDescription()</text><rect fill=\"#FEFECE\" filter=\"url(#f1)\" height=\"93.3267\" style=\"stroke: #A80036; stroke-width: 1.5;\" width=\"108\" x=\"508.5\" y=\"284\"/><ellipse cx=\"541.5\" cy=\"300\" fill=\"#ADD1B2\" rx=\"11\" ry=\"11\" style=\"stroke: #A80036; stroke-width: 1.0;\"/><path d=\"M541.0625,293.5156 Q538.3281,293.5156 537.25,295.1406 Q536.1094,296.8594 536.1094,299.7813 Q536.1094,303.0781 537.2656,304.7813 Q538.25,306.2813 540.8594,306.2813 Q542.4375,306.2813 543.3125,305.4531 Q544.2969,304.5 544.4375,302.375 Q544.4375,302.0781 544.2656,301.9063 Q544.1406,301.75 543.9219,301.7344 Q542.7031,301.7344 542.5469,301.8594 Q542.375,302.0156 542.375,302.2813 Q542.3438,303.7656 541.6875,304.5781 Q541.0781,305.375 541,305.375 Q539.6719,305.375 538.8906,303.7813 Q538.1406,302.2344 538.1406,299.75 Q538.1406,297.125 539.0781,295.6719 Q539.9063,294.4219 541.1875,294.4219 Q541.1875,294.4219 541.5313,295.0469 Q542.1563,295.7188 542.2969,296.875 Q542.4063,297.4531 543.875,297.2344 Q544.4063,297.1563 544.375,296.7344 Q544.2031,295.2969 543.4844,294.4844 Q542.625,293.5156 541.0625,293.5156 Z \"/><text fill=\"#000000\" font-family=\"sans-serif\" font-size=\"12\" lengthAdjust=\"spacingAndGlyphs\" textLength=\"36\" x=\"559.5\" y=\"305.6045\">Mocha</text><line style=\"stroke: #A80036; stroke-width: 1.5;\" x1=\"509.5\" x2=\"615.5\" y1=\"316\" y2=\"316\"/><text fill=\"#000000\" font-family=\"sans-serif\" font-size=\"11\" lengthAdjust=\"spacingAndGlyphs\" textLength=\"96\" x=\"514.5\" y=\"332.6919\">Beverage beverage</text><line style=\"stroke: #A80036; stroke-width: 1.5;\" x1=\"509.5\" x2=\"615.5\" y1=\"339.1089\" y2=\"339.1089\"/><text fill=\"#000000\" font-family=\"sans-serif\" font-size=\"11\" lengthAdjust=\"spacingAndGlyphs\" textLength=\"29\" x=\"514.5\" y=\"355.8008\">cost()</text><text fill=\"#000000\" font-family=\"sans-serif\" font-size=\"11\" lengthAdjust=\"spacingAndGlyphs\" textLength=\"77\" x=\"514.5\" y=\"370.9097\">getDescription()</text><rect fill=\"#FEFECE\" filter=\"url(#f1)\" height=\"93.3267\" style=\"stroke: #A80036; stroke-width: 1.5;\" width=\"108\" x=\"651.5\" y=\"284\"/><ellipse cx=\"691.7\" cy=\"300\" fill=\"#ADD1B2\" rx=\"11\" ry=\"11\" style=\"stroke: #A80036; stroke-width: 1.0;\"/><path d=\"M691.2625,293.5156 Q688.5281,293.5156 687.45,295.1406 Q686.3094,296.8594 686.3094,299.7813 Q686.3094,303.0781 687.4656,304.7813 Q688.45,306.2813 691.0594,306.2813 Q692.6375,306.2813 693.5125,305.4531 Q694.4969,304.5 694.6375,302.375 Q694.6375,302.0781 694.4656,301.9063 Q694.3406,301.75 694.1219,301.7344 Q692.9031,301.7344 692.7469,301.8594 Q692.575,302.0156 692.575,302.2813 Q692.5438,303.7656 691.8875,304.5781 Q691.2781,305.375 691.2,305.375 Q689.8719,305.375 689.0906,303.7813 Q688.3406,302.2344 688.3406,299.75 Q688.3406,297.125 689.2781,295.6719 Q690.1063,294.4219 691.3875,294.4219 Q691.3875,294.4219 691.7313,295.0469 Q692.3563,295.7188 692.4969,296.875 Q692.6063,297.4531 694.075,297.2344 Q694.6063,297.1563 694.575,296.7344 Q694.4031,295.2969 693.6844,294.4844 Q692.825,293.5156 691.2625,293.5156 Z \"/><text fill=\"#000000\" font-family=\"sans-serif\" font-size=\"12\" lengthAdjust=\"spacingAndGlyphs\" textLength=\"20\" x=\"711.3\" y=\"305.6045\">Soy</text><line style=\"stroke: #A80036; stroke-width: 1.5;\" x1=\"652.5\" x2=\"758.5\" y1=\"316\" y2=\"316\"/><text fill=\"#000000\" font-family=\"sans-serif\" font-size=\"11\" lengthAdjust=\"spacingAndGlyphs\" textLength=\"96\" x=\"657.5\" y=\"332.6919\">Beverage beverage</text><line style=\"stroke: #A80036; stroke-width: 1.5;\" x1=\"652.5\" x2=\"758.5\" y1=\"339.1089\" y2=\"339.1089\"/><text fill=\"#000000\" font-family=\"sans-serif\" font-size=\"11\" lengthAdjust=\"spacingAndGlyphs\" textLength=\"29\" x=\"657.5\" y=\"355.8008\">cost()</text><text fill=\"#000000\" font-family=\"sans-serif\" font-size=\"11\" lengthAdjust=\"spacingAndGlyphs\" textLength=\"77\" x=\"657.5\" y=\"370.9097\">getDescription()</text><path d=\"M303.198,82.88 C254.328,104.07 185.054,134.222 124.5,161 C118.938,163.459 113.127,166.044 107.345,168.625 \" fill=\"none\" style=\"stroke: #A80036; stroke-width: 1.0;\"/><polygon fill=\"none\" points=\"300.701,76.333,321.836,74.804,306.268,89.179,300.701,76.333\" style=\"stroke: #A80036; stroke-width: 1.0;\"/><path d=\"M305.509,101.84 C279.805,121.369 250.598,143.559 227.672,160.978 \" fill=\"none\" style=\"stroke: #A80036; stroke-width: 1.0;\"/><polygon fill=\"none\" points=\"301.633,95.993,321.792,89.468,310.102,107.141,301.633,95.993\" style=\"stroke: #A80036; stroke-width: 1.0;\"/><path d=\"M340.365,120.124 C334.638,134.287 328.831,148.645 323.942,160.734 \" fill=\"none\" style=\"stroke: #A80036; stroke-width: 1.0;\"/><polygon fill=\"none\" points=\"334.045,117.081,348.033,101.164,347.024,122.33,334.045,117.081\" style=\"stroke: #A80036; stroke-width: 1.0;\"/><path d=\"M392.635,120.124 C398.362,134.287 404.169,148.645 409.058,160.734 \" fill=\"none\" style=\"stroke: #A80036; stroke-width: 1.0;\"/><polygon fill=\"none\" points=\"385.976,122.33,384.967,101.164,398.955,117.081,385.976,122.33\" style=\"stroke: #A80036; stroke-width: 1.0;\"/><path d=\"M427.244,106.237 C452.942,124.631 482.561,144.828 507.62,160.947 \" fill=\"none\" style=\"stroke: #A80036; stroke-width: 1.0;\"/><polygon fill=\"none\" points=\"423.097,111.877,411.01,94.472,431.312,100.541,423.097,111.877\" style=\"stroke: #A80036; stroke-width: 1.0;\"/><path d=\"M415.487,81.899 C451.328,104.535 498.528,137.16 529.925,160.926 \" fill=\"none\" style=\"stroke: #A80036; stroke-width: 1.0;\"/><polygon fill=\"#A80036\" points=\"411.174,79.189,416.6659,87.3645,415.4075,81.8494,420.9226,80.5909,411.174,79.189\" style=\"stroke: #A80036; stroke-width: 1.0;\"/><path d=\"M515.676,238.032 C500.234,252.718 483.042,269.069 467.512,283.8379 \" fill=\"none\" style=\"stroke: #A80036; stroke-width: 1.0;\"/><polygon fill=\"none\" points=\"511.092,232.732,530.408,224.021,520.74,242.876,511.092,232.732\" style=\"stroke: #A80036; stroke-width: 1.0;\"/><path d=\"M562.5,244.082 C562.5,257.117 562.5,271.069 562.5,283.8379 \" fill=\"none\" style=\"stroke: #A80036; stroke-width: 1.0;\"/><polygon fill=\"none\" points=\"555.5,244.021,562.5,224.021,569.5,244.021,555.5,244.021\" style=\"stroke: #A80036; stroke-width: 1.0;\"/><path d=\"M609.324,238.032 C624.766,252.718 641.958,269.069 657.488,283.8379 \" fill=\"none\" style=\"stroke: #A80036; stroke-width: 1.0;\"/><polygon fill=\"none\" points=\"604.26,242.876,594.592,224.021,613.908,232.732,604.26,242.876\" style=\"stroke: #A80036; stroke-width: 1.0;\"/></g></svg>"
      ],
      "text/plain": [
       "<IPython.core.display.SVG object>"
      ]
     },
     "execution_count": 19,
     "metadata": {},
     "output_type": "execute_result"
    }
   ],
   "source": [
    "%%plantuml\n",
    "\n",
    "@startuml\n",
    "\n",
    "class Beverage {\n",
    "    description\n",
    "    getDescription()\n",
    "    cost()\n",
    "}\n",
    "\n",
    "Beverage <|-- HouseBlend\n",
    "Beverage <|-- DarkRoast\n",
    "Beverage <|-- Espresso\n",
    "Beverage <|-- Decaf\n",
    "Beverage <|-- CondimentDecorator\n",
    "Beverage <-- CondimentDecorator\n",
    "\n",
    "class HouseBlend {\n",
    "    cost()\n",
    "}\n",
    "class DarkRoast {\n",
    "    cost()\n",
    "}\n",
    "class Espresso {\n",
    "    cost()\n",
    "}\n",
    "class Decaf {\n",
    "    cost()\n",
    "}\n",
    "class CondimentDecorator {\n",
    "    getDescription()\n",
    "}\n",
    "\n",
    "CondimentDecorator <|-- Milk\n",
    "CondimentDecorator <|-- Mocha\n",
    "CondimentDecorator <|-- Soy\n",
    "\n",
    "class Milk {\n",
    "    Beverage beverage\n",
    "    cost()\n",
    "    getDescription()\n",
    "}\n",
    "class Mocha {\n",
    "    Beverage beverage\n",
    "    cost()\n",
    "    getDescription()\n",
    "}\n",
    "class Soy {\n",
    "    Beverage beverage\n",
    "    cost()\n",
    "    getDescription()\n",
    "}\n",
    "\n",
    "@enduml"
   ]
  }
 ],
 "metadata": {
  "kernelspec": {
   "display_name": "Python 2",
   "language": "python",
   "name": "python2"
  },
  "language_info": {
   "codemirror_mode": {
    "name": "ipython",
    "version": 2
   },
   "file_extension": ".py",
   "mimetype": "text/x-python",
   "name": "python",
   "nbconvert_exporter": "python",
   "pygments_lexer": "ipython2",
   "version": "2.7.10"
  }
 },
 "nbformat": 4,
 "nbformat_minor": 0
}
