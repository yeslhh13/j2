{
 "cells": [
  {
   "cell_type": "code",
   "execution_count": 1,
   "metadata": {
    "collapsed": false
   },
   "outputs": [
    {
     "name": "stdout",
     "output_type": "stream",
     "text": [
      "Installed plantuml_magics.py. To use it, type:\n",
      "  %load_ext plantuml_magics\n"
     ]
    },
    {
     "name": "stderr",
     "output_type": "stream",
     "text": [
      "C:\\Users\\ㄶ예슬\\Anaconda3\\lib\\site-packages\\IPython\\core\\magics\\extension.py:47: UserWarning: %install_ext` is deprecated, please distribute your extension(s)as a python packages.\n",
      "  \"as a python packages.\", UserWarning)\n"
     ]
    }
   ],
   "source": [
    "%install_ext https://raw.githubusercontent.com/sberke/ipython-plantuml/master/plantuml_magics.py"
   ]
  },
  {
   "cell_type": "code",
   "execution_count": 2,
   "metadata": {
    "collapsed": true
   },
   "outputs": [],
   "source": [
    "%load_ext plantuml_magics"
   ]
  },
  {
   "cell_type": "code",
   "execution_count": 4,
   "metadata": {
    "collapsed": false
   },
   "outputs": [
    {
     "data": {
      "text/plain": [
       "['.\\\\plantuml.jar']"
      ]
     },
     "execution_count": 4,
     "metadata": {},
     "output_type": "execute_result"
    }
   ],
   "source": [
    "import glob\n",
    "glob.glob(r'./*.jar')"
   ]
  },
  {
   "cell_type": "code",
   "execution_count": 6,
   "metadata": {
    "collapsed": false
   },
   "outputs": [
    {
     "data": {
      "image/svg+xml": [
       "<svg height=\"383px\" style=\"width:623px;height:383px;\" version=\"1.1\" viewBox=\"0 0 623 383\" width=\"623px\" xmlns=\"http://www.w3.org/2000/svg\" xmlns:xlink=\"http://www.w3.org/1999/xlink\"><defs><filter height=\"300%\" id=\"f1\" width=\"300%\" x=\"-1\" y=\"-1\"><feGaussianBlur result=\"blurOut\" stdDeviation=\"2.0\"/><feColorMatrix in=\"blurOut\" result=\"blurOut2\" type=\"matrix\" values=\"0 0 0 0 0 0 0 0 0 0 0 0 0 0 0 0 0 0 .4 0\"/><feOffset dx=\"4.0\" dy=\"4.0\" in=\"blurOut2\" result=\"blurOut3\"/><feBlend in=\"SourceGraphic\" in2=\"blurOut3\" mode=\"normal\"/></filter></defs><g><line style=\"stroke: #A80036; stroke-width: 1.0; stroke-dasharray: 5.0,5.0;\" x1=\"66\" x2=\"66\" y1=\"41.2295\" y2=\"342.0771\"/><line style=\"stroke: #A80036; stroke-width: 1.0; stroke-dasharray: 5.0,5.0;\" x1=\"168\" x2=\"168\" y1=\"41.2295\" y2=\"342.0771\"/><line style=\"stroke: #A80036; stroke-width: 1.0; stroke-dasharray: 5.0,5.0;\" x1=\"286\" x2=\"286\" y1=\"41.2295\" y2=\"342.0771\"/><line style=\"stroke: #A80036; stroke-width: 1.0; stroke-dasharray: 5.0,5.0;\" x1=\"456\" x2=\"456\" y1=\"41.2295\" y2=\"342.0771\"/><line style=\"stroke: #A80036; stroke-width: 1.0; stroke-dasharray: 5.0,5.0;\" x1=\"562\" x2=\"562\" y1=\"41.2295\" y2=\"342.0771\"/><rect fill=\"#FEFECE\" filter=\"url(#f1)\" height=\"33.2295\" style=\"stroke: #A80036; stroke-width: 1.5;\" width=\"112\" x=\"8\" y=\"3\"/><text fill=\"#000000\" font-family=\"sans-serif\" font-size=\"14\" lengthAdjust=\"spacingAndGlyphs\" textLength=\"98\" x=\"15\" y=\"26.1533\">WeatherStation</text><rect fill=\"#FEFECE\" filter=\"url(#f1)\" height=\"33.2295\" style=\"stroke: #A80036; stroke-width: 1.5;\" width=\"112\" x=\"8\" y=\"341.0771\"/><text fill=\"#000000\" font-family=\"sans-serif\" font-size=\"14\" lengthAdjust=\"spacingAndGlyphs\" textLength=\"98\" x=\"15\" y=\"364.2305\">WeatherStation</text><rect fill=\"#FEFECE\" filter=\"url(#f1)\" height=\"33.2295\" style=\"stroke: #A80036; stroke-width: 1.5;\" width=\"64\" x=\"134\" y=\"3\"/><text fill=\"#000000\" font-family=\"sans-serif\" font-size=\"14\" lengthAdjust=\"spacingAndGlyphs\" textLength=\"50\" x=\"141\" y=\"26.1533\">ISubject</text><rect fill=\"#FEFECE\" filter=\"url(#f1)\" height=\"33.2295\" style=\"stroke: #A80036; stroke-width: 1.5;\" width=\"64\" x=\"134\" y=\"341.0771\"/><text fill=\"#000000\" font-family=\"sans-serif\" font-size=\"14\" lengthAdjust=\"spacingAndGlyphs\" textLength=\"50\" x=\"141\" y=\"364.2305\">ISubject</text><rect fill=\"#FEFECE\" filter=\"url(#f1)\" height=\"33.2295\" style=\"stroke: #A80036; stroke-width: 1.5;\" width=\"98\" x=\"235\" y=\"3\"/><text fill=\"#000000\" font-family=\"sans-serif\" font-size=\"14\" lengthAdjust=\"spacingAndGlyphs\" textLength=\"84\" x=\"242\" y=\"26.1533\">WeatherData</text><rect fill=\"#FEFECE\" filter=\"url(#f1)\" height=\"33.2295\" style=\"stroke: #A80036; stroke-width: 1.5;\" width=\"98\" x=\"235\" y=\"341.0771\"/><text fill=\"#000000\" font-family=\"sans-serif\" font-size=\"14\" lengthAdjust=\"spacingAndGlyphs\" textLength=\"84\" x=\"242\" y=\"364.2305\">WeatherData</text><rect fill=\"#FEFECE\" filter=\"url(#f1)\" height=\"33.2295\" style=\"stroke: #A80036; stroke-width: 1.5;\" width=\"76\" x=\"416\" y=\"3\"/><text fill=\"#000000\" font-family=\"sans-serif\" font-size=\"14\" lengthAdjust=\"spacingAndGlyphs\" textLength=\"62\" x=\"423\" y=\"26.1533\">IObserver</text><rect fill=\"#FEFECE\" filter=\"url(#f1)\" height=\"33.2295\" style=\"stroke: #A80036; stroke-width: 1.5;\" width=\"76\" x=\"416\" y=\"341.0771\"/><text fill=\"#000000\" font-family=\"sans-serif\" font-size=\"14\" lengthAdjust=\"spacingAndGlyphs\" textLength=\"62\" x=\"423\" y=\"364.2305\">IObserver</text><rect fill=\"#FEFECE\" filter=\"url(#f1)\" height=\"33.2295\" style=\"stroke: #A80036; stroke-width: 1.5;\" width=\"108\" x=\"506\" y=\"3\"/><text fill=\"#000000\" font-family=\"sans-serif\" font-size=\"14\" lengthAdjust=\"spacingAndGlyphs\" textLength=\"94\" x=\"513\" y=\"26.1533\">CurrentDisplay</text><rect fill=\"#FEFECE\" filter=\"url(#f1)\" height=\"33.2295\" style=\"stroke: #A80036; stroke-width: 1.5;\" width=\"108\" x=\"506\" y=\"341.0771\"/><text fill=\"#000000\" font-family=\"sans-serif\" font-size=\"14\" lengthAdjust=\"spacingAndGlyphs\" textLength=\"94\" x=\"513\" y=\"364.2305\">CurrentDisplay</text><polygon fill=\"#A80036\" points=\"274,70.2295,284,74.2295,274,78.2295,278,74.2295\" style=\"stroke: #A80036; stroke-width: 1.0;\"/><line style=\"stroke: #A80036; stroke-width: 1.0;\" x1=\"66\" x2=\"280\" y1=\"74.2295\" y2=\"74.2295\"/><text fill=\"#000000\" font-family=\"sans-serif\" font-size=\"13\" font-weight=\"bold\" lengthAdjust=\"spacingAndGlyphs\" textLength=\"7\" x=\"73\" y=\"70.229\">1</text><text fill=\"#000000\" font-family=\"sans-serif\" font-size=\"13\" lengthAdjust=\"spacingAndGlyphs\" textLength=\"111\" x=\"84\" y=\"70.229\">weatherData=new()</text><polygon fill=\"#A80036\" points=\"550,102.0854,560,106.0854,550,110.0854,554,106.0854\" style=\"stroke: #A80036; stroke-width: 1.0;\"/><line style=\"stroke: #A80036; stroke-width: 1.0;\" x1=\"66\" x2=\"556\" y1=\"106.0854\" y2=\"106.0854\"/><text fill=\"#000000\" font-family=\"sans-serif\" font-size=\"13\" font-weight=\"bold\" lengthAdjust=\"spacingAndGlyphs\" textLength=\"7\" x=\"73\" y=\"102.085\">2</text><text fill=\"#000000\" font-family=\"sans-serif\" font-size=\"13\" lengthAdjust=\"spacingAndGlyphs\" textLength=\"194\" x=\"84\" y=\"102.085\">currentDisplay=new(weatherData)</text><polygon fill=\"#A80036\" points=\"274,133.9414,284,137.9414,274,141.9414,278,137.9414\" style=\"stroke: #A80036; stroke-width: 1.0;\"/><line style=\"stroke: #A80036; stroke-width: 1.0;\" x1=\"66\" x2=\"280\" y1=\"137.9414\" y2=\"137.9414\"/><text fill=\"#000000\" font-family=\"sans-serif\" font-size=\"13\" font-weight=\"bold\" lengthAdjust=\"spacingAndGlyphs\" textLength=\"7\" x=\"73\" y=\"133.9409\">3</text><text fill=\"#000000\" font-family=\"sans-serif\" font-size=\"13\" lengthAdjust=\"spacingAndGlyphs\" textLength=\"185\" x=\"84\" y=\"133.9409\">registerObserver(currentDisplay)</text><polygon fill=\"#A80036\" points=\"274,165.7974,284,169.7974,274,173.7974,278,169.7974\" style=\"stroke: #A80036; stroke-width: 1.0;\"/><line style=\"stroke: #A80036; stroke-width: 1.0;\" x1=\"66\" x2=\"280\" y1=\"169.7974\" y2=\"169.7974\"/><text fill=\"#000000\" font-family=\"sans-serif\" font-size=\"13\" font-weight=\"bold\" lengthAdjust=\"spacingAndGlyphs\" textLength=\"7\" x=\"73\" y=\"165.7969\">4</text><text fill=\"#000000\" font-family=\"sans-serif\" font-size=\"13\" lengthAdjust=\"spacingAndGlyphs\" textLength=\"112\" x=\"84\" y=\"165.7969\">setMeasurements()</text><line style=\"stroke: #A80036; stroke-width: 1.0;\" x1=\"286\" x2=\"328\" y1=\"202.5093\" y2=\"202.5093\"/><line style=\"stroke: #A80036; stroke-width: 1.0;\" x1=\"328\" x2=\"328\" y1=\"202.5093\" y2=\"215.5093\"/><line style=\"stroke: #A80036; stroke-width: 1.0;\" x1=\"287\" x2=\"328\" y1=\"215.5093\" y2=\"215.5093\"/><polygon fill=\"#A80036\" points=\"297,211.5093,287,215.5093,297,219.5093,293,215.5093\" style=\"stroke: #A80036; stroke-width: 1.0;\"/><text fill=\"#000000\" font-family=\"sans-serif\" font-size=\"13\" font-weight=\"bold\" lengthAdjust=\"spacingAndGlyphs\" textLength=\"7\" x=\"293\" y=\"197.6528\">5</text><text fill=\"#000000\" font-family=\"sans-serif\" font-size=\"13\" lengthAdjust=\"spacingAndGlyphs\" textLength=\"145\" x=\"304\" y=\"197.6528\">measurementsChanged()</text><line style=\"stroke: #A80036; stroke-width: 1.0;\" x1=\"286\" x2=\"328\" y1=\"247.3652\" y2=\"247.3652\"/><line style=\"stroke: #A80036; stroke-width: 1.0;\" x1=\"328\" x2=\"328\" y1=\"247.3652\" y2=\"260.3652\"/><line style=\"stroke: #A80036; stroke-width: 1.0;\" x1=\"287\" x2=\"328\" y1=\"260.3652\" y2=\"260.3652\"/><polygon fill=\"#A80036\" points=\"297,256.3652,287,260.3652,297,264.3652,293,260.3652\" style=\"stroke: #A80036; stroke-width: 1.0;\"/><text fill=\"#000000\" font-family=\"sans-serif\" font-size=\"13\" font-weight=\"bold\" lengthAdjust=\"spacingAndGlyphs\" textLength=\"7\" x=\"293\" y=\"242.5088\">6</text><text fill=\"#000000\" font-family=\"sans-serif\" font-size=\"13\" lengthAdjust=\"spacingAndGlyphs\" textLength=\"97\" x=\"304\" y=\"242.5088\">notifyObservers()</text><polygon fill=\"#A80036\" points=\"550,287.3652,560,291.3652,550,295.3652,554,291.3652\" style=\"stroke: #A80036; stroke-width: 1.0;\"/><line style=\"stroke: #A80036; stroke-width: 1.0;\" x1=\"286\" x2=\"556\" y1=\"291.3652\" y2=\"291.3652\"/><text fill=\"#000000\" font-family=\"sans-serif\" font-size=\"13\" font-weight=\"bold\" lengthAdjust=\"spacingAndGlyphs\" textLength=\"7\" x=\"293\" y=\"287.3647\">7</text><text fill=\"#000000\" font-family=\"sans-serif\" font-size=\"13\" lengthAdjust=\"spacingAndGlyphs\" textLength=\"47\" x=\"304\" y=\"287.3647\">update()</text><polygon fill=\"#A80036\" points=\"297,319.2212,287,323.2212,297,327.2212,293,323.2212\" style=\"stroke: #A80036; stroke-width: 1.0;\"/><line style=\"stroke: #A80036; stroke-width: 1.0;\" x1=\"291\" x2=\"561\" y1=\"323.2212\" y2=\"323.2212\"/><text fill=\"#000000\" font-family=\"sans-serif\" font-size=\"13\" font-weight=\"bold\" lengthAdjust=\"spacingAndGlyphs\" textLength=\"7\" x=\"303\" y=\"319.2207\">8</text><text fill=\"#000000\" font-family=\"sans-serif\" font-size=\"13\" lengthAdjust=\"spacingAndGlyphs\" textLength=\"53\" x=\"314\" y=\"319.2207\">getData()</text></g></svg>"
      ],
      "text/plain": [
       "<IPython.core.display.SVG object>"
      ]
     },
     "execution_count": 6,
     "metadata": {},
     "output_type": "execute_result"
    }
   ],
   "source": [
    "%%plantuml\n",
    "\n",
    "@startuml\n",
    "participant WeatherStation\n",
    "participant ISubject\n",
    "participant WeatherData\n",
    "participant IObserver\n",
    "participant CurrentDisplay\n",
    "\n",
    "autonumber\n",
    "WeatherStation -> WeatherData:weatherData=new()\n",
    "WeatherStation -> CurrentDisplay:currentDisplay=new(weatherData)\n",
    "WeatherStation -> WeatherData:registerObserver(currentDisplay)\n",
    "WeatherStation -> WeatherData:setMeasurements()\n",
    "WeatherData -> WeatherData:measurementsChanged()\n",
    "WeatherData -> WeatherData:notifyObservers()\n",
    "WeatherData -> CurrentDisplay:update()\n",
    "CurrentDisplay -> WeatherData:getData()\n",
    "@enduml"
   ]
  }
 ],
 "metadata": {
  "kernelspec": {
   "display_name": "Python 3",
   "language": "python",
   "name": "python3"
  },
  "language_info": {
   "codemirror_mode": {
    "name": "ipython",
    "version": 3
   },
   "file_extension": ".py",
   "mimetype": "text/x-python",
   "name": "python",
   "nbconvert_exporter": "python",
   "pygments_lexer": "ipython3",
   "version": "3.4.3"
  }
 },
 "nbformat": 4,
 "nbformat_minor": 0
}
